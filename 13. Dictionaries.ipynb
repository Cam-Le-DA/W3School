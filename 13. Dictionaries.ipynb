{
 "cells": [
  {
   "cell_type": "markdown",
   "id": "39c7b080",
   "metadata": {},
   "source": [
    "Dictionaries are used to store data values in key:value pairs.\n",
    "\n",
    "A dictionary is a collection which is ordered*, changeable and do not allow duplicates.\n",
    "\n",
    "As of Python version 3.7, dictionaries are ordered. In Python 3.6 and earlier, dictionaries are unordered.\n",
    "\n",
    "Dictionaries are written with curly brackets, and have keys and values:"
   ]
  },
  {
   "cell_type": "code",
   "execution_count": 1,
   "id": "3750ef96",
   "metadata": {},
   "outputs": [
    {
     "name": "stdout",
     "output_type": "stream",
     "text": [
      "{'brand': 'Ford', 'model': 'Mustang', 'year': 1964}\n"
     ]
    }
   ],
   "source": [
    "# Create a dictionary\n",
    "dict1 = {\n",
    "    'brand':'Ford',\n",
    "    'model':'Mustang',\n",
    "    'year': 1964\n",
    "}\n",
    "print(dict1)"
   ]
  },
  {
   "cell_type": "code",
   "execution_count": 2,
   "id": "46e77a3d",
   "metadata": {},
   "outputs": [
    {
     "name": "stdout",
     "output_type": "stream",
     "text": [
      "Ford\n"
     ]
    }
   ],
   "source": [
    "# DICTIONARY ITTEMS\n",
    "# Dictionary items are ordered, changeable, and does not allow duplicates.\n",
    "# Dictionary items are presented in key:value pairs, and can be referred to by using the key name.\n",
    "\n",
    "print(dict1['brand'])"
   ]
  },
  {
   "cell_type": "markdown",
   "id": "182edf24",
   "metadata": {},
   "source": [
    "### Ordered or Unordered?\n",
    "As of Python version 3.7, dictionaries are ordered. In Python 3.6 and earlier, dictionaries are unordered.\n",
    "\n",
    "When we say that dictionaries are ordered, it means that the items have a defined order, and that order will not change.\n",
    "\n",
    "Unordered means that the items does not have a defined order, you cannot refer to an item by using an index."
   ]
  },
  {
   "cell_type": "markdown",
   "id": "8a5d3ad2",
   "metadata": {},
   "source": [
    "### Changeable\n",
    "Dictionaries are changeable, meaning that we can change, add or remove items after the dictionary has been created."
   ]
  },
  {
   "cell_type": "markdown",
   "id": "48320ab7",
   "metadata": {},
   "source": [
    "### Duplicates Not Allowed\n",
    "Dictionaries cannot have two items with the same key:"
   ]
  },
  {
   "cell_type": "code",
   "execution_count": 4,
   "id": "3b34566e",
   "metadata": {},
   "outputs": [
    {
     "name": "stdout",
     "output_type": "stream",
     "text": [
      "{'brand': 'Ford', 'model': 'Mustang', 'year': 1970}\n"
     ]
    }
   ],
   "source": [
    "# Duplicate values will overwrite existing values:\n",
    "\n",
    "dict1 = {\n",
    "    'brand':'Ford',\n",
    "    'model':'Mustang',\n",
    "    'year':1964,\n",
    "    'year':1970\n",
    "}\n",
    "print(dict1)"
   ]
  },
  {
   "cell_type": "code",
   "execution_count": 5,
   "id": "4a114377",
   "metadata": {},
   "outputs": [
    {
     "name": "stdout",
     "output_type": "stream",
     "text": [
      "3\n"
     ]
    }
   ],
   "source": [
    "# To determine how many items a dictionary has, use the len() function:\n",
    "print(len(dict1))"
   ]
  },
  {
   "cell_type": "code",
   "execution_count": 7,
   "id": "a3c2e769",
   "metadata": {},
   "outputs": [
    {
     "name": "stdout",
     "output_type": "stream",
     "text": [
      "{'brand': 'Ford', 'electric': False, 'year': 1964, 'price': 199.98}\n"
     ]
    }
   ],
   "source": [
    "# DICTIONARY ITEMS - DATA TYPES\n",
    "# The values in dictionary items can be of any data type:\n",
    "\n",
    "dict1 = {\n",
    "    'brand':'Ford',\n",
    "    'electric': False,\n",
    "    'year': 1964,\n",
    "    'price': 199.98\n",
    "}\n",
    "print(dict1)"
   ]
  },
  {
   "cell_type": "code",
   "execution_count": 8,
   "id": "4c4e390c",
   "metadata": {},
   "outputs": [
    {
     "name": "stdout",
     "output_type": "stream",
     "text": [
      "<class 'dict'>\n"
     ]
    }
   ],
   "source": [
    "# From Python's perspective, dictionaries are defined as objects with the data type 'dict':\n",
    "print(type(dict1))"
   ]
  },
  {
   "cell_type": "code",
   "execution_count": 9,
   "id": "f3802846",
   "metadata": {},
   "outputs": [
    {
     "name": "stdout",
     "output_type": "stream",
     "text": [
      "{'name': 'John', 'age': 36, 'country': 'Norway'}\n"
     ]
    }
   ],
   "source": [
    "# The dict() Constructor\n",
    "# It is also possible to use the dict() constructor to make a dictionary.\n",
    "\n",
    "mydict = dict(name = 'John', age = 36, country = 'Norway')\n",
    "print(mydict)"
   ]
  },
  {
   "cell_type": "code",
   "execution_count": 10,
   "id": "78f5f932",
   "metadata": {},
   "outputs": [
    {
     "name": "stdout",
     "output_type": "stream",
     "text": [
      "36\n"
     ]
    }
   ],
   "source": [
    "# ACCESS DICTIONARY ITEMS\n",
    "# You can access the items of a dictionary by referring to its key name, inside square brackets:\n",
    "\n",
    "print(mydict['age'])"
   ]
  },
  {
   "cell_type": "code",
   "execution_count": 11,
   "id": "834ab00c",
   "metadata": {},
   "outputs": [
    {
     "name": "stdout",
     "output_type": "stream",
     "text": [
      "John\n"
     ]
    }
   ],
   "source": [
    "# There is also a method called get() that will give you the same result:\n",
    "print(mydict.get('name'))"
   ]
  },
  {
   "cell_type": "code",
   "execution_count": 12,
   "id": "0cd922f8",
   "metadata": {},
   "outputs": [
    {
     "name": "stdout",
     "output_type": "stream",
     "text": [
      "dict_keys(['name', 'age', 'country'])\n"
     ]
    }
   ],
   "source": [
    "# GET KEYS\n",
    "# The keys() method will return a list of all the keys in the dictionary.\n",
    "\n",
    "print(mydict.keys())"
   ]
  },
  {
   "cell_type": "code",
   "execution_count": 13,
   "id": "0b3a4ded",
   "metadata": {},
   "outputs": [
    {
     "name": "stdout",
     "output_type": "stream",
     "text": [
      "dict_keys(['name', 'age', 'country', 'sex'])\n"
     ]
    }
   ],
   "source": [
    "# The list of the keys is a view of the dictionary, meaning that any changes done to the dictionary will be reflected in \n",
    "# the keys list.\n",
    "\n",
    "mydict['sex'] = 'male'\n",
    "print(mydict.keys())"
   ]
  },
  {
   "cell_type": "code",
   "execution_count": 14,
   "id": "b89116c8",
   "metadata": {},
   "outputs": [
    {
     "name": "stdout",
     "output_type": "stream",
     "text": [
      "dict_values(['John', 36, 'Norway', 'male'])\n"
     ]
    }
   ],
   "source": [
    "# GET VALUES\n",
    "# The values() method will return a list of all the values in the dictionary.\n",
    "\n",
    "print(mydict.values())"
   ]
  },
  {
   "cell_type": "code",
   "execution_count": 15,
   "id": "b999e378",
   "metadata": {},
   "outputs": [
    {
     "name": "stdout",
     "output_type": "stream",
     "text": [
      "dict_values(['John', 40, 'Norway', 'male'])\n"
     ]
    }
   ],
   "source": [
    "# The list of the values is a view of the dictionary, meaning that any changes done to the dictionary will be reflected in \n",
    "# the values list.\n",
    "\n",
    "mydict['age'] = 40\n",
    "print(mydict.values())"
   ]
  },
  {
   "cell_type": "code",
   "execution_count": 16,
   "id": "e586878a",
   "metadata": {},
   "outputs": [
    {
     "name": "stdout",
     "output_type": "stream",
     "text": [
      "dict_items([('name', 'John'), ('age', 40), ('country', 'Norway'), ('sex', 'male')])\n"
     ]
    }
   ],
   "source": [
    "# GET ITEMS\n",
    "# The items() method will return each item in a dictionary, as tuples in a list.\n",
    "\n",
    "print(mydict.items())"
   ]
  },
  {
   "cell_type": "code",
   "execution_count": 17,
   "id": "2a876dc3",
   "metadata": {},
   "outputs": [
    {
     "name": "stdout",
     "output_type": "stream",
     "text": [
      "dict_items([('name', 'John'), ('age', 40), ('country', 'Norway'), ('sex', 'male'), ('job', 'teacher')])\n"
     ]
    }
   ],
   "source": [
    "# The returned list is a view of the items of the dictionary, meaning that any changes done to the dictionary will be reflected\n",
    "# in the items list.\n",
    "\n",
    "mydict['job'] = 'teacher'\n",
    "print(mydict.items())"
   ]
  },
  {
   "cell_type": "code",
   "execution_count": 19,
   "id": "9b1ad4f3",
   "metadata": {},
   "outputs": [
    {
     "name": "stdout",
     "output_type": "stream",
     "text": [
      "Yes, 'country' is one of the keys in the dictionary\n"
     ]
    }
   ],
   "source": [
    "# CHECK IF KEYS EXIST\n",
    "# To determine if a specified key is present in a dictionary use the in keyword:\n",
    "\n",
    "if 'country' in mydict:\n",
    "    print(\"Yes, 'country' is one of the keys in the dictionary\")"
   ]
  },
  {
   "cell_type": "code",
   "execution_count": 20,
   "id": "6d40f758",
   "metadata": {},
   "outputs": [
    {
     "name": "stdout",
     "output_type": "stream",
     "text": [
      "{'name': 'John', 'age': 40, 'country': 'Norway', 'sex': 'male', 'job': 'marketer'}\n"
     ]
    }
   ],
   "source": [
    "# CHANGE DICTIONARY ITEMS\n",
    "# CHANGE VALUES\n",
    "# You can change the value of a specific item by referring to its key name:\n",
    "\n",
    "mydict['job'] = 'marketer'\n",
    "print(mydict)"
   ]
  },
  {
   "cell_type": "code",
   "execution_count": 22,
   "id": "3d8b20d6",
   "metadata": {},
   "outputs": [
    {
     "name": "stdout",
     "output_type": "stream",
     "text": [
      "{'name': 'John', 'age': 40, 'country': 'America', 'sex': 'male', 'job': 'marketer', 'education': 'undergraduate'}\n"
     ]
    }
   ],
   "source": [
    "# UPDATE DICTIONARY\n",
    "# The update() method will update the dictionary with the items from the given argument. If the item does not exist, the item\n",
    "# will be added.\n",
    "# The argument must be a dictionary, or an iterable object with key:value pairs.\n",
    "\n",
    "mydict.update({'country':'America','education':'undergraduate'})\n",
    "print(mydict)"
   ]
  },
  {
   "cell_type": "code",
   "execution_count": 24,
   "id": "40421339",
   "metadata": {},
   "outputs": [
    {
     "name": "stdout",
     "output_type": "stream",
     "text": [
      "{'name': 'John', 'age': 40, 'country': 'America', 'sex': 'male', 'job': 'marketer', 'education': 'undergraduate', 'marital status': 'single'}\n"
     ]
    }
   ],
   "source": [
    "# ADD DICTIONARY ITEMS\n",
    "# Adding an item to the dictionary is done by using a new index key and assigning a value to it:\n",
    "\n",
    "mydict['marital status'] = 'single'\n",
    "print(mydict)"
   ]
  },
  {
   "cell_type": "code",
   "execution_count": 25,
   "id": "f9c85b2b",
   "metadata": {},
   "outputs": [
    {
     "name": "stdout",
     "output_type": "stream",
     "text": [
      "{'name': 'John', 'age': 40, 'country': 'America', 'sex': 'male', 'job': 'marketer', 'education': 'undergraduate'}\n"
     ]
    }
   ],
   "source": [
    "# REMOVE DICTIONARY ITEMS\n",
    "# There are several methods to remove items from a dictionary\n",
    "# The pop() method removes the item with the specified key name:\n",
    "\n",
    "mydict.pop('marital status')\n",
    "print(mydict)"
   ]
  },
  {
   "cell_type": "code",
   "execution_count": 26,
   "id": "8fa60e43",
   "metadata": {},
   "outputs": [
    {
     "name": "stdout",
     "output_type": "stream",
     "text": [
      "{'name': 'John', 'age': 40, 'country': 'America', 'sex': 'male', 'job': 'marketer'}\n"
     ]
    }
   ],
   "source": [
    "# The popitem() method removes the last inserted item (in versions before 3.7, a random item is removed instead):\n",
    "\n",
    "mydict.popitem()\n",
    "print(mydict)"
   ]
  },
  {
   "cell_type": "code",
   "execution_count": 27,
   "id": "0b783699",
   "metadata": {},
   "outputs": [
    {
     "name": "stdout",
     "output_type": "stream",
     "text": [
      "{'name': 'John', 'age': 40, 'country': 'America', 'sex': 'male'}\n"
     ]
    }
   ],
   "source": [
    "# The del keyword removes the item with the specified key name:\n",
    "\n",
    "del mydict['job']\n",
    "print(mydict)"
   ]
  },
  {
   "cell_type": "code",
   "execution_count": 28,
   "id": "13e4a48f",
   "metadata": {},
   "outputs": [
    {
     "ename": "NameError",
     "evalue": "name 'mydict' is not defined",
     "output_type": "error",
     "traceback": [
      "\u001b[1;31m---------------------------------------------------------------------------\u001b[0m",
      "\u001b[1;31mNameError\u001b[0m                                 Traceback (most recent call last)",
      "Input \u001b[1;32mIn [28]\u001b[0m, in \u001b[0;36m<cell line: 4>\u001b[1;34m()\u001b[0m\n\u001b[0;32m      1\u001b[0m \u001b[38;5;66;03m# The del keyword can also delete the dictionary completely:\u001b[39;00m\n\u001b[0;32m      3\u001b[0m \u001b[38;5;28;01mdel\u001b[39;00m mydict\n\u001b[1;32m----> 4\u001b[0m \u001b[38;5;28mprint\u001b[39m(\u001b[43mmydict\u001b[49m)\n",
      "\u001b[1;31mNameError\u001b[0m: name 'mydict' is not defined"
     ]
    }
   ],
   "source": [
    "# The del keyword can also delete the dictionary completely:\n",
    "\n",
    "del mydict\n",
    "print(mydict)  #this will cause an error because \"thisdict\" no longer exists."
   ]
  },
  {
   "cell_type": "code",
   "execution_count": 29,
   "id": "01a31029",
   "metadata": {},
   "outputs": [
    {
     "name": "stdout",
     "output_type": "stream",
     "text": [
      "{}\n"
     ]
    }
   ],
   "source": [
    "# The clear() method empties the dictionary:\n",
    "\n",
    "mydict = {'name':'John', 'age': 36, 'country':'Norway'}\n",
    "mydict.clear()\n",
    "print(mydict)"
   ]
  },
  {
   "cell_type": "code",
   "execution_count": 30,
   "id": "d33203fc",
   "metadata": {},
   "outputs": [
    {
     "name": "stdout",
     "output_type": "stream",
     "text": [
      "name\n",
      "age\n",
      "country\n"
     ]
    }
   ],
   "source": [
    "# LOOP DICTIONARY\n",
    "# You can loop through a dictionary by using a for loop.\n",
    "# When looping through a dictionary, the return value are the keys of the dictionary, but there are methods to return the \n",
    "# values as well.\n",
    "\n",
    "# Print all key names in the dictionary, one by one:\n",
    "mydict = {'name':'John', 'age': 36, 'country':'Norway'}\n",
    "for x in mydict:\n",
    "    print(x)"
   ]
  },
  {
   "cell_type": "code",
   "execution_count": 31,
   "id": "8772d9ca",
   "metadata": {},
   "outputs": [
    {
     "name": "stdout",
     "output_type": "stream",
     "text": [
      "John\n",
      "36\n",
      "Norway\n"
     ]
    }
   ],
   "source": [
    "# Print all values in the dictionary, one by one:\n",
    "\n",
    "for x in mydict:\n",
    "    print(mydict[x])"
   ]
  },
  {
   "cell_type": "code",
   "execution_count": 32,
   "id": "a931f6ca",
   "metadata": {},
   "outputs": [
    {
     "name": "stdout",
     "output_type": "stream",
     "text": [
      "John\n",
      "36\n",
      "Norway\n"
     ]
    }
   ],
   "source": [
    "# You can also use the values() method to return values of a dictionary:\n",
    "\n",
    "for x in mydict.values():\n",
    "    print(x)"
   ]
  },
  {
   "cell_type": "code",
   "execution_count": 33,
   "id": "d5e07c4d",
   "metadata": {},
   "outputs": [
    {
     "name": "stdout",
     "output_type": "stream",
     "text": [
      "name\n",
      "age\n",
      "country\n"
     ]
    }
   ],
   "source": [
    "# You can use the keys() method to return the keys of a dictionary:\n",
    "\n",
    "for x in mydict.keys():\n",
    "    print(x)"
   ]
  },
  {
   "cell_type": "code",
   "execution_count": 34,
   "id": "2ede9e48",
   "metadata": {},
   "outputs": [
    {
     "name": "stdout",
     "output_type": "stream",
     "text": [
      "('name', 'John')\n",
      "('age', 36)\n",
      "('country', 'Norway')\n"
     ]
    }
   ],
   "source": [
    "# Loop through both keys and values, by using the items() method:\n",
    "\n",
    "for x in mydict.items():\n",
    "    print(x)"
   ]
  },
  {
   "cell_type": "code",
   "execution_count": 35,
   "id": "d0d03110",
   "metadata": {},
   "outputs": [
    {
     "name": "stdout",
     "output_type": "stream",
     "text": [
      "{'name': 'John', 'age': 36, 'country': 'Norway'}\n"
     ]
    }
   ],
   "source": [
    "# COPY DICTIONARIES\n",
    "# You cannot copy a dictionary simply by typing dict2 = dict1, because: dict2 will only be a reference to dict1, and changes\n",
    "# made in dict1 will automatically also be made in dict2.\n",
    "# There are ways to make a copy, one way is to use the built-in Dictionary method copy().\n",
    "\n",
    "newdict = mydict.copy()\n",
    "print(newdict)"
   ]
  },
  {
   "cell_type": "code",
   "execution_count": 37,
   "id": "aec56fc8",
   "metadata": {},
   "outputs": [
    {
     "name": "stdout",
     "output_type": "stream",
     "text": [
      "{'name': 'John', 'age': 36, 'country': 'Norway'}\n"
     ]
    }
   ],
   "source": [
    "# Another way to make a copy is to use the built-in function dict().\n",
    "\n",
    "newdict1 = dict(mydict)\n",
    "print(newdict1)"
   ]
  },
  {
   "cell_type": "code",
   "execution_count": 39,
   "id": "01092282",
   "metadata": {},
   "outputs": [
    {
     "name": "stdout",
     "output_type": "stream",
     "text": [
      "{'child1': {'name': 'Kate', 'year': 2000}, 'child2': {'name': 'Tom', 'year': 2002}, 'child3': {'name': 'Halo', 'year': 2021}}\n"
     ]
    }
   ],
   "source": [
    "# NESTED DICTIONARIES\n",
    "# A dictionary can contain dictionaries, this is called nested dictionaries.\n",
    "\n",
    "# Create a dictionary that contain three dictionaries:\n",
    "children = {\n",
    "    'child1': {'name':'Kate','year': 2000},\n",
    "    'child2': {'name':'Tom','year': 2002},\n",
    "    'child3': {'name':'Halo','year': 2021}\n",
    "}\n",
    "print(children)"
   ]
  },
  {
   "cell_type": "code",
   "execution_count": 40,
   "id": "cfa1c28d",
   "metadata": {},
   "outputs": [
    {
     "name": "stdout",
     "output_type": "stream",
     "text": [
      "{'child1': {'name': 'Kate', 'year': 2000}, 'child2': {'name': 'Tom', 'year': 2002}, 'child3': {'name': 'Halo', 'year': 2021}}\n"
     ]
    }
   ],
   "source": [
    "# Or, if you want to add three dictionaries into a new dictionary:\n",
    "child1 = {'name':'Kate','year': 2000}\n",
    "child2 = {'name':'Tom','year': 2002}\n",
    "child3 = {'name':'Halo','year': 2021}\n",
    "\n",
    "children = {\n",
    "    'child1':child1,\n",
    "    'child2':child2,\n",
    "    'child3':child3\n",
    "}\n",
    "print(children)"
   ]
  },
  {
   "cell_type": "code",
   "execution_count": 43,
   "id": "a97b95bc",
   "metadata": {},
   "outputs": [
    {
     "name": "stdout",
     "output_type": "stream",
     "text": [
      "Kate\n"
     ]
    }
   ],
   "source": [
    "# ACCESS ITEMS IN NESTED DICTIONARIES\n",
    "# To access items from a nested dictionary, you use the name of the dictionaries, starting with the outer dictionary:\n",
    "\n",
    "print(children[\"child1\"]['name'])"
   ]
  },
  {
   "cell_type": "markdown",
   "id": "095d007c",
   "metadata": {},
   "source": [
    "### Dictionary Methods\n",
    "Python has a set of built-in methods that you can use on dictionaries.\n",
    "\n",
    "Method\tDescription <br>\n",
    "**clear()**\tRemoves all the elements from the dictionary <br>\n",
    "**copy()**\tReturns a copy of the dictionary<br>\n",
    "**fromkeys()**\tReturns a dictionary with the specified keys and value<br>\n",
    "**get()**\tReturns the value of the specified key<br>\n",
    "**items()**\tReturns a list containing a tuple for each key value pair<br>\n",
    "**keys()**\tReturns a list containing the dictionary's keys<br>\n",
    "**pop()**\tRemoves the element with the specified key<br>\n",
    "**popitem()**\tRemoves the last inserted key-value pair<br>\n",
    "**setdefault()**\tReturns the value of the specified key. If the key does not exist: insert the key, with the specified value<br>\n",
    "**update()**\tUpdates the dictionary with the specified key-value pairs<br>\n",
    "**values()**\tReturns a list of all the values in the dictionary"
   ]
  },
  {
   "cell_type": "code",
   "execution_count": null,
   "id": "67173032",
   "metadata": {},
   "outputs": [],
   "source": []
  }
 ],
 "metadata": {
  "kernelspec": {
   "display_name": "Python 3 (ipykernel)",
   "language": "python",
   "name": "python3"
  },
  "language_info": {
   "codemirror_mode": {
    "name": "ipython",
    "version": 3
   },
   "file_extension": ".py",
   "mimetype": "text/x-python",
   "name": "python",
   "nbconvert_exporter": "python",
   "pygments_lexer": "ipython3",
   "version": "3.9.12"
  }
 },
 "nbformat": 4,
 "nbformat_minor": 5
}
