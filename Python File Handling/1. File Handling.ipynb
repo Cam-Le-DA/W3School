{
 "cells": [
  {
   "cell_type": "markdown",
   "id": "8fda22ea",
   "metadata": {},
   "source": [
    "File handling is an important part of any web application.\n",
    "\n",
    "Python has several functions for creating, reading, updating, and deleting files.\n",
    "\n",
    "### File Handling\n",
    "The key function for working with files in Python is the open() function.\n",
    "\n",
    "The **open()** function takes two parameters; filename, and mode.\n",
    "\n",
    "There are four different methods (modes) for opening a file:\n",
    "\n",
    "**\"r\"** - Read - Default value. Opens a file for reading, error if the file does not exist\n",
    "\n",
    "**\"a\"** - Append - Opens a file for appending, creates the file if it does not exist\n",
    "\n",
    "**\"w\"** - Write - Opens a file for writing, creates the file if it does not exist\n",
    "\n",
    "**\"x\"** - Create - Creates the specified file, returns an error if the file exists\n",
    "\n",
    "In addition you can specify if the file should be handled as binary or text mode\n",
    "\n",
    "**\"t\"** - Text - Default value. Text mode\n",
    "\n",
    "**\"b\"** - Binary - Binary mode (e.g. images)"
   ]
  },
  {
   "cell_type": "markdown",
   "id": "3231a31b",
   "metadata": {},
   "source": [
    "### Syntax\n",
    "To open a file for reading it is enough to specify the name of the file:"
   ]
  },
  {
   "cell_type": "code",
   "execution_count": 7,
   "id": "5ad001f5",
   "metadata": {},
   "outputs": [],
   "source": [
    "f = open('demofile.txt')"
   ]
  },
  {
   "cell_type": "code",
   "execution_count": 6,
   "id": "06f3d544",
   "metadata": {},
   "outputs": [],
   "source": [
    "# The code above is the same as:\n",
    "\n",
    "f = open('demofile.txt',\"rt\")\n",
    "\n",
    "# Because \"r\" for read, and \"t\" for text are the default values, you do not need to specify them."
   ]
  },
  {
   "cell_type": "code",
   "execution_count": 3,
   "id": "764146da",
   "metadata": {},
   "outputs": [],
   "source": [
    "# Note: Make sure the file exists, or else you will get an error."
   ]
  },
  {
   "cell_type": "code",
   "execution_count": null,
   "id": "8029f624",
   "metadata": {},
   "outputs": [],
   "source": []
  }
 ],
 "metadata": {
  "kernelspec": {
   "display_name": "Python 3 (ipykernel)",
   "language": "python",
   "name": "python3"
  },
  "language_info": {
   "codemirror_mode": {
    "name": "ipython",
    "version": 3
   },
   "file_extension": ".py",
   "mimetype": "text/x-python",
   "name": "python",
   "nbconvert_exporter": "python",
   "pygments_lexer": "ipython3",
   "version": "3.9.12"
  }
 },
 "nbformat": 4,
 "nbformat_minor": 5
}
