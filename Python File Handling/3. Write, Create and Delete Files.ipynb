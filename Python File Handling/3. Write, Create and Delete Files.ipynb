{
 "cells": [
  {
   "cell_type": "markdown",
   "id": "704c0807",
   "metadata": {},
   "source": [
    "### Write to an Existing File\n",
    "To write to an existing file, you must add a parameter to the open() function:\n",
    "\n",
    "\"a\" - Append - will append to the end of the file\n",
    "\n",
    "\"w\" - Write - will overwrite any existing content"
   ]
  },
  {
   "cell_type": "code",
   "execution_count": 2,
   "id": "dc43f532",
   "metadata": {},
   "outputs": [
    {
     "name": "stdout",
     "output_type": "stream",
     "text": [
      "Demofile\n",
      "for \n",
      "PythonNow the file has more contentNow the file has more content\n"
     ]
    }
   ],
   "source": [
    "# Open the file \"demofile2.txt\" and append content to the file:\n",
    "f = open('demofile.txt','a')\n",
    "f.write('Now the file has more content')\n",
    "f.close()\n",
    "\n",
    "#open and read the file after the appending:\n",
    "f = open('demofile.txt','r')\n",
    "print(f.read())"
   ]
  },
  {
   "cell_type": "code",
   "execution_count": 3,
   "id": "5f54e83d",
   "metadata": {},
   "outputs": [
    {
     "name": "stdout",
     "output_type": "stream",
     "text": [
      "Oops! I have deleted the content\n"
     ]
    }
   ],
   "source": [
    "# Open the file \"demofile3.txt\" and overwrite the content:\n",
    "f = open('demofile.txt','w')\n",
    "f.write('Oops! I have deleted the content')\n",
    "f.close()\n",
    "\n",
    "f = open('demofile.txt','r')\n",
    "print(f.read())\n",
    "\n",
    "# Note: the \"w\" method will overwrite the entire file."
   ]
  },
  {
   "cell_type": "markdown",
   "id": "31f7e782",
   "metadata": {},
   "source": [
    "### Create a New File\n",
    "To create a new file in Python, use the open() method, with one of the following parameters:\n",
    "\n",
    "\"x\" - Create - will create a file, returns an error if the file exist\n",
    "\n",
    "\"a\" - Append - will create a file if the specified file does not exist\n",
    "\n",
    "\"w\" - Write - will create a file if the specified file does not exist"
   ]
  },
  {
   "cell_type": "code",
   "execution_count": 4,
   "id": "8ed6d7ab",
   "metadata": {},
   "outputs": [],
   "source": [
    "# Create a file called \"myfile.txt\":\n",
    "f = open('myfile.txt','x')\n",
    "\n",
    "# Result: a new empty file is created!"
   ]
  },
  {
   "cell_type": "code",
   "execution_count": 7,
   "id": "2618eff3",
   "metadata": {},
   "outputs": [],
   "source": [
    "# Create a new file if it does not exist:\n",
    "f = open('myfile.txt','w')\n",
    "f.close()"
   ]
  },
  {
   "cell_type": "markdown",
   "id": "e90f9d0b",
   "metadata": {},
   "source": [
    "### Delete a File\n",
    "To delete a file, you must import the OS module, and run its os.remove() function:"
   ]
  },
  {
   "cell_type": "code",
   "execution_count": 8,
   "id": "97638ef8",
   "metadata": {},
   "outputs": [],
   "source": [
    "# Remove the file \"myfile.txt\":\n",
    "import os\n",
    "os.remove('myfile.txt')"
   ]
  },
  {
   "cell_type": "markdown",
   "id": "60384f96",
   "metadata": {},
   "source": [
    "### Check if File exist:\n",
    "To avoid getting an error, you might want to check if the file exists before you try to delete it:"
   ]
  },
  {
   "cell_type": "code",
   "execution_count": 9,
   "id": "1319f390",
   "metadata": {},
   "outputs": [],
   "source": [
    "import os\n",
    "if os.path.exists('demofile.txt'):\n",
    "    os.remove('demofile.txt')\n",
    "else:\n",
    "    print('The file does not exist')"
   ]
  },
  {
   "cell_type": "markdown",
   "id": "f13bfbb4",
   "metadata": {},
   "source": [
    "### Delete Folder\n",
    "To delete an entire folder, use the os.rmdir() method:"
   ]
  },
  {
   "cell_type": "code",
   "execution_count": 11,
   "id": "a15a28bb",
   "metadata": {},
   "outputs": [],
   "source": [
    "os.rmdir(\"myfolder\")"
   ]
  },
  {
   "cell_type": "markdown",
   "id": "ed5238c0",
   "metadata": {},
   "source": [
    "Note: You can only remove empty folders."
   ]
  }
 ],
 "metadata": {
  "kernelspec": {
   "display_name": "Python 3 (ipykernel)",
   "language": "python",
   "name": "python3"
  },
  "language_info": {
   "codemirror_mode": {
    "name": "ipython",
    "version": 3
   },
   "file_extension": ".py",
   "mimetype": "text/x-python",
   "name": "python",
   "nbconvert_exporter": "python",
   "pygments_lexer": "ipython3",
   "version": "3.9.12"
  }
 },
 "nbformat": 4,
 "nbformat_minor": 5
}
