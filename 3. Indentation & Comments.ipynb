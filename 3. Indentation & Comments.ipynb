{
 "cells": [
  {
   "cell_type": "markdown",
   "id": "646292f1",
   "metadata": {},
   "source": [
    "Python Indentation\n",
    "\n",
    "Indentation refers to the spaces at the beginning of a code line.\n",
    "Where in other programming languages the indentation in code is for readability only, the indentation in Python is very important.\n",
    "Python uses indentation to indicate a block of code."
   ]
  },
  {
   "cell_type": "code",
   "execution_count": 1,
   "id": "fd4300ce",
   "metadata": {},
   "outputs": [
    {
     "name": "stdout",
     "output_type": "stream",
     "text": [
      "Five is greater than two\n",
      "Five is greater than two\n"
     ]
    }
   ],
   "source": [
    "# The number of spaces is up to you as a programmer, the most common use is four, but it has to be at least one.\n",
    "if 5 > 2:\n",
    " print('Five is greater than two')\n",
    "\n",
    "if 5 > 2:\n",
    "        print('Five is greater than two')\n",
    "        \n",
    "# You have to use the same number of spaces in the same block of code, otherwise Python will give you an error:"
   ]
  },
  {
   "cell_type": "markdown",
   "id": "e7871f61",
   "metadata": {},
   "source": [
    "Python Comments\n",
    "\n",
    "Comments can be used to explain Python code.\n",
    "Comments can be used to make the code more readable.\n",
    "Comments can be used to prevent execution when testing code."
   ]
  },
  {
   "cell_type": "code",
   "execution_count": 2,
   "id": "13d0545b",
   "metadata": {},
   "outputs": [
    {
     "name": "stdout",
     "output_type": "stream",
     "text": [
      "Merry Christmas!\n"
     ]
    }
   ],
   "source": [
    "# A comment does not have to be text that explains the code, it can also be used to prevent Python from executing code:\n",
    "\n",
    "#print('Hello, World')\n",
    "print('Merry Christmas!')"
   ]
  },
  {
   "cell_type": "code",
   "execution_count": 3,
   "id": "05df576e",
   "metadata": {},
   "outputs": [
    {
     "name": "stdout",
     "output_type": "stream",
     "text": [
      "Hello, World!\n"
     ]
    }
   ],
   "source": [
    "# Or, not quite as intended, you can use a multiline string.\n",
    "\n",
    "\"\"\"\n",
    "This is a comment\n",
    "written in\n",
    "more than just one line\n",
    "\n",
    "\"\"\"\n",
    "print('Hello, World!')"
   ]
  },
  {
   "cell_type": "code",
   "execution_count": null,
   "id": "ddec1a60",
   "metadata": {},
   "outputs": [],
   "source": []
  }
 ],
 "metadata": {
  "kernelspec": {
   "display_name": "Python 3 (ipykernel)",
   "language": "python",
   "name": "python3"
  },
  "language_info": {
   "codemirror_mode": {
    "name": "ipython",
    "version": 3
   },
   "file_extension": ".py",
   "mimetype": "text/x-python",
   "name": "python",
   "nbconvert_exporter": "python",
   "pygments_lexer": "ipython3",
   "version": "3.9.12"
  }
 },
 "nbformat": 4,
 "nbformat_minor": 5
}
