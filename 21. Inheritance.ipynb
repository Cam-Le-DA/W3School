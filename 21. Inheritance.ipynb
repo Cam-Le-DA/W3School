{
 "cells": [
  {
   "cell_type": "markdown",
   "id": "39f2fafc",
   "metadata": {},
   "source": [
    "### Python Inheritance\n",
    "Inheritance allows us to define a class that inherits all the methods and properties from another class.\n",
    "\n",
    "Parent class is the class being inherited from, also called base class.\n",
    "\n",
    "Child class is the class that inherits from another class, also called derived class.\n",
    "\n",
    "### Create a Parent Class\n",
    "Any class can be a parent class, so the syntax is the same as creating any other class:"
   ]
  },
  {
   "cell_type": "code",
   "execution_count": 1,
   "id": "57851f3e",
   "metadata": {},
   "outputs": [
    {
     "name": "stdout",
     "output_type": "stream",
     "text": [
      "John Doe\n"
     ]
    }
   ],
   "source": [
    "# Create a class named Person, with firstname and lastname properties, and a printname method\n",
    "# Use the Person class to create an object, and then execute the printname method:\n",
    "\n",
    "class Person:\n",
    "    def __init__(self, firstname, lastname):\n",
    "        self.firstname = firstname\n",
    "        self.lastname = lastname\n",
    "        \n",
    "    def printname(self):\n",
    "        print(self.firstname, self.lastname)\n",
    "        \n",
    "p1 = Person('John', 'Doe')\n",
    "p1.printname()"
   ]
  },
  {
   "cell_type": "markdown",
   "id": "2d7f9c04",
   "metadata": {},
   "source": [
    "### Create a Child Class\n",
    "To create a class that inherits the functionality from another class, send the parent class as a parameter when creating \n",
    "the child class:"
   ]
  },
  {
   "cell_type": "code",
   "execution_count": 2,
   "id": "f185f7f8",
   "metadata": {},
   "outputs": [],
   "source": [
    "# Create a class named Student, which will inherit the properties and methods from the Person class:\n",
    "\n",
    "class Student(Person):\n",
    "    pass\n",
    "\n",
    "# Note: Use the pass keyword when you do not want to add any other properties or methods to the class.\n",
    "# Now the Student class has the same properties and methods as the Person class."
   ]
  },
  {
   "cell_type": "code",
   "execution_count": 3,
   "id": "468e5ac9",
   "metadata": {},
   "outputs": [
    {
     "name": "stdout",
     "output_type": "stream",
     "text": [
      "Mike Olsen\n"
     ]
    }
   ],
   "source": [
    "# Use the Student class to create an object, and then execute the printname method:\n",
    "s1 = Student('Mike','Olsen')\n",
    "s1.printname()"
   ]
  },
  {
   "cell_type": "markdown",
   "id": "899e711b",
   "metadata": {},
   "source": [
    "### Add the __init__() Function\n",
    "So far we have created a child class that inherits the properties and methods from its parent.\n",
    "\n",
    "We want to add the __init__() function to the child class (instead of the pass keyword).\n",
    "\n",
    "Note: The __init__() function is called automatically every time the class is being used to create a new object."
   ]
  },
  {
   "cell_type": "markdown",
   "id": "67b33861",
   "metadata": {},
   "source": [
    "When you add the __init__() function, the child class will no longer inherit the parent's __init__() function.\n",
    "\n",
    "Note: The child's __init__() function overrides the inheritance of the parent's __init__() function.\n",
    "\n",
    "To keep the inheritance of the parent's __init__() function, add a call to the parent's __init__() function:"
   ]
  },
  {
   "cell_type": "code",
   "execution_count": 10,
   "id": "0d84b1f0",
   "metadata": {},
   "outputs": [
    {
     "name": "stdout",
     "output_type": "stream",
     "text": [
      "Mike Times\n"
     ]
    }
   ],
   "source": [
    "# Add the __init__() function to the Student class:\n",
    "\n",
    "class Student(Person):\n",
    "    def __init__(self, fname, lname):\n",
    "        Person.__init__(self, fname, lname)\n",
    "        \n",
    "s2 = Student('Mike','Times')\n",
    "s2.printname()\n",
    "        \n",
    "# Now we have successfully added the __init__() function, and kept the inheritance of the parent class, and we are ready \n",
    "# to add functionality in the __init__() function."
   ]
  },
  {
   "cell_type": "markdown",
   "id": "3d45f709",
   "metadata": {},
   "source": [
    "### Use the super() Function\n",
    "Python also has a super() function that will make the child class inherit all the methods and properties from its parent:"
   ]
  },
  {
   "cell_type": "code",
   "execution_count": 8,
   "id": "8c03027f",
   "metadata": {},
   "outputs": [
    {
     "name": "stdout",
     "output_type": "stream",
     "text": [
      "Mike Tyson\n"
     ]
    }
   ],
   "source": [
    "class Student(Person):\n",
    "    def __init__(self, fname, lname):\n",
    "        super().__init__(fname, lname)\n",
    "        \n",
    "s1 = Student('Mike','Tyson')\n",
    "s1.printname()\n",
    "        \n",
    "# By using the super() function, you do not have to use the name of the parent element, it will automatically inherit the \n",
    "# methods and properties from its parent."
   ]
  },
  {
   "cell_type": "code",
   "execution_count": 12,
   "id": "a97a1cc5",
   "metadata": {},
   "outputs": [
    {
     "name": "stdout",
     "output_type": "stream",
     "text": [
      "2019\n"
     ]
    }
   ],
   "source": [
    "# ADD PROPERTIES\n",
    "# Add a property called graduationyear to the Student class:\n",
    "\n",
    "class Student(Person):\n",
    "    def __init__(self, fname, lname):\n",
    "        super().__init__(fname, lname)\n",
    "        self.graduationyear = 2019\n",
    "        \n",
    "s1 = Student('Mike','Times')\n",
    "print(s1.graduationyear)"
   ]
  },
  {
   "cell_type": "code",
   "execution_count": 14,
   "id": "f432e85e",
   "metadata": {},
   "outputs": [
    {
     "name": "stdout",
     "output_type": "stream",
     "text": [
      "2020\n"
     ]
    }
   ],
   "source": [
    "# In the example below, the year 2019 should be a variable, and passed into the Student class when creating student objects. \n",
    "# To do so, add another parameter in the __init__() function:\n",
    "\n",
    "class Student(Person):\n",
    "    def __init__(self, fname, lname, year):\n",
    "        super().__init__(fname, lname)\n",
    "        self.graduationyear = year\n",
    "        \n",
    "p2 = Student('Mike','Tyson',2020)\n",
    "print(p2.graduationyear)"
   ]
  },
  {
   "cell_type": "code",
   "execution_count": 16,
   "id": "0c996487",
   "metadata": {},
   "outputs": [
    {
     "name": "stdout",
     "output_type": "stream",
     "text": [
      "Welcome Mike Olsen to the class of 2022\n"
     ]
    }
   ],
   "source": [
    "# Add a method called welcome to the Student class:\n",
    "\n",
    "class Student(Person):\n",
    "    def __init__(self, fname, lname, year):\n",
    "        super().__init__(fname, lname)\n",
    "        self.graduationyear = year\n",
    "        \n",
    "    def welcome(self):\n",
    "        print(\"Welcome\", self.firstname, self.lastname, \"to the class of\", self.graduationyear)\n",
    "        \n",
    "s1 = Student('Mike','Olsen',2022)\n",
    "s1.welcome()\n",
    "\n",
    "# If you add a method in the child class with the same name as a function in the parent class, the inheritance of the parent \n",
    "# method will be overridden."
   ]
  },
  {
   "cell_type": "code",
   "execution_count": null,
   "id": "4a7f499f",
   "metadata": {},
   "outputs": [],
   "source": []
  }
 ],
 "metadata": {
  "kernelspec": {
   "display_name": "Python 3 (ipykernel)",
   "language": "python",
   "name": "python3"
  },
  "language_info": {
   "codemirror_mode": {
    "name": "ipython",
    "version": 3
   },
   "file_extension": ".py",
   "mimetype": "text/x-python",
   "name": "python",
   "nbconvert_exporter": "python",
   "pygments_lexer": "ipython3",
   "version": "3.9.12"
  }
 },
 "nbformat": 4,
 "nbformat_minor": 5
}
