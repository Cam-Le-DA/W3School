{
 "cells": [
  {
   "cell_type": "markdown",
   "id": "5f7c14ff",
   "metadata": {},
   "source": [
    "Note: Python does not have built-in support for Arrays, but Python Lists can be used instead.\n",
    "\n",
    "Note: This page shows you how to use LISTS as ARRAYS, however, to work with arrays in Python you will have to import a library, like the NumPy library.\n",
    "\n",
    "Arrays are used to store multiple values in one single variable\n",
    "\n",
    "An array can hold many values under a single name, and you can access the values by referring to an index number."
   ]
  },
  {
   "cell_type": "code",
   "execution_count": 1,
   "id": "2854b342",
   "metadata": {},
   "outputs": [
    {
     "data": {
      "text/plain": [
       "['Volvo', 'BMW', 'Ford']"
      ]
     },
     "execution_count": 1,
     "metadata": {},
     "output_type": "execute_result"
    }
   ],
   "source": [
    "# Create an Array\n",
    "cars = ['Volvo', 'BMW','Ford']\n",
    "cars"
   ]
  },
  {
   "cell_type": "code",
   "execution_count": 2,
   "id": "5ac79ba2",
   "metadata": {},
   "outputs": [
    {
     "name": "stdout",
     "output_type": "stream",
     "text": [
      "Volvo\n"
     ]
    }
   ],
   "source": [
    "# ACCESS THE ELEMENTS OF AN ARRAY\n",
    "# You refer to an array element by referring to the index number.\n",
    "\n",
    "print(cars[0])"
   ]
  },
  {
   "cell_type": "code",
   "execution_count": 3,
   "id": "b590f31d",
   "metadata": {},
   "outputs": [
    {
     "name": "stdout",
     "output_type": "stream",
     "text": [
      "['Huyndai', 'BMW', 'Ford']\n"
     ]
    }
   ],
   "source": [
    "# Modify the value of the first array item:\n",
    "cars[0] = 'Huyndai'\n",
    "print(cars)"
   ]
  },
  {
   "cell_type": "code",
   "execution_count": 4,
   "id": "b2f78366",
   "metadata": {},
   "outputs": [
    {
     "name": "stdout",
     "output_type": "stream",
     "text": [
      "3\n"
     ]
    }
   ],
   "source": [
    "# Use the len() method to return the length of an array (the number of elements in an array).\n",
    "print(len(cars))\n",
    "\n",
    "# Note: The length of an array is always one more than the highest array index."
   ]
  },
  {
   "cell_type": "code",
   "execution_count": 5,
   "id": "452d9c3f",
   "metadata": {},
   "outputs": [
    {
     "name": "stdout",
     "output_type": "stream",
     "text": [
      "Huyndai\n",
      "BMW\n",
      "Ford\n"
     ]
    }
   ],
   "source": [
    "# LOOPING ARRAY ELEMENTS\n",
    "# You can use the for in loop to loop through all the elements of an array.\n",
    "\n",
    "for x in cars:\n",
    "    print(x)"
   ]
  },
  {
   "cell_type": "code",
   "execution_count": 6,
   "id": "3e623bf0",
   "metadata": {},
   "outputs": [
    {
     "name": "stdout",
     "output_type": "stream",
     "text": [
      "['Huyndai', 'BMW', 'Ford', 'Toyota']\n"
     ]
    }
   ],
   "source": [
    "# ADDING ARRAY ELEMENTS\n",
    "# You can use the append() method to add an element to an array.\n",
    "\n",
    "cars.append('Toyota')\n",
    "print(cars)"
   ]
  },
  {
   "cell_type": "code",
   "execution_count": 8,
   "id": "4c38ff63",
   "metadata": {},
   "outputs": [
    {
     "name": "stdout",
     "output_type": "stream",
     "text": [
      "['Huyndai', 'Ford', 'Toyota']\n"
     ]
    }
   ],
   "source": [
    "# REMOVING ARRAY ELEMENTS\n",
    "# You can use the pop() method to remove an element from the array.\n",
    "\n",
    "cars.pop(1)\n",
    "print(cars)"
   ]
  },
  {
   "cell_type": "code",
   "execution_count": 9,
   "id": "c17f24a0",
   "metadata": {},
   "outputs": [
    {
     "name": "stdout",
     "output_type": "stream",
     "text": [
      "['Ford', 'Toyota']\n"
     ]
    }
   ],
   "source": [
    "# You can also use the remove() method to remove an element from the array.\n",
    "\n",
    "cars.remove('Huyndai')\n",
    "print(cars)\n",
    "\n",
    "# Note: The list's remove() method only removes the first occurrence of the specified value."
   ]
  },
  {
   "cell_type": "markdown",
   "id": "536cf301",
   "metadata": {},
   "source": [
    "### Array Methods\n",
    "Python has a set of built-in methods that you can use on lists/arrays.\n",
    "\n",
    "Method\tDescription <br>\n",
    "**append()**\tAdds an element at the end of the list<br>\n",
    "**clear()**\tRemoves all the elements from the list<br>\n",
    "**copy()**\tReturns a copy of the list<br>\n",
    "**count()**\tReturns the number of elements with the specified value<br>\n",
    "**extend()**\tAdd the elements of a list (or any iterable), to the end of the current list<br>\n",
    "**index()**\tReturns the index of the first element with the specified value<br>\n",
    "**insert()**\tAdds an element at the specified position<br>\n",
    "**pop()**\tRemoves the element at the specified position<br>\n",
    "**remove()**\tRemoves the first item with the specified value<br>\n",
    "**reverse()**\tReverses the order of the list<br>\n",
    "**sort()**\tSorts the list\n",
    "\n",
    "Note: Python does not have built-in support for Arrays, but Python Lists can be used instead."
   ]
  },
  {
   "cell_type": "code",
   "execution_count": null,
   "id": "4b7815f1",
   "metadata": {},
   "outputs": [],
   "source": []
  }
 ],
 "metadata": {
  "kernelspec": {
   "display_name": "Python 3 (ipykernel)",
   "language": "python",
   "name": "python3"
  },
  "language_info": {
   "codemirror_mode": {
    "name": "ipython",
    "version": 3
   },
   "file_extension": ".py",
   "mimetype": "text/x-python",
   "name": "python",
   "nbconvert_exporter": "python",
   "pygments_lexer": "ipython3",
   "version": "3.9.12"
  }
 },
 "nbformat": 4,
 "nbformat_minor": 5
}
