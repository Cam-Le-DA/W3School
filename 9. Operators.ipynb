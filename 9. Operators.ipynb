{
 "cells": [
  {
   "cell_type": "markdown",
   "id": "cad58aff",
   "metadata": {},
   "source": [
    "Operators are used to perform operations on variables and values. <br>\n",
    "Python divides the operators in the following groups:\n",
    "\n",
    "Arithmetic operators <br>\n",
    "Assignment operators <br>\n",
    "Comparison operators <br>\n",
    "Logical operators <br>\n",
    "Identity operators <br>\n",
    "Membership operators <br>\n",
    "Bitwise operators"
   ]
  },
  {
   "cell_type": "code",
   "execution_count": 1,
   "id": "7e4f0486",
   "metadata": {},
   "outputs": [
    {
     "data": {
      "text/plain": [
       "8"
      ]
     },
     "execution_count": 1,
     "metadata": {},
     "output_type": "execute_result"
    }
   ],
   "source": [
    "# Arithmetic operators are used with numeric values to perform common mathematical operations:\n",
    "# Addition + \n",
    "x = 5 \n",
    "y = 3\n",
    "x + y"
   ]
  },
  {
   "cell_type": "code",
   "execution_count": 2,
   "id": "a7ac0205",
   "metadata": {},
   "outputs": [
    {
     "data": {
      "text/plain": [
       "2"
      ]
     },
     "execution_count": 2,
     "metadata": {},
     "output_type": "execute_result"
    }
   ],
   "source": [
    "# Subtraction -\n",
    "x - y"
   ]
  },
  {
   "cell_type": "code",
   "execution_count": 3,
   "id": "7e03f1dd",
   "metadata": {},
   "outputs": [
    {
     "data": {
      "text/plain": [
       "15"
      ]
     },
     "execution_count": 3,
     "metadata": {},
     "output_type": "execute_result"
    }
   ],
   "source": [
    "# Multiplication *\n",
    "x * y"
   ]
  },
  {
   "cell_type": "code",
   "execution_count": 4,
   "id": "87ac8e09",
   "metadata": {},
   "outputs": [
    {
     "data": {
      "text/plain": [
       "1.6666666666666667"
      ]
     },
     "execution_count": 4,
     "metadata": {},
     "output_type": "execute_result"
    }
   ],
   "source": [
    "# Division /\n",
    "x / y"
   ]
  },
  {
   "cell_type": "code",
   "execution_count": 5,
   "id": "95b2cdd6",
   "metadata": {},
   "outputs": [
    {
     "data": {
      "text/plain": [
       "2"
      ]
     },
     "execution_count": 5,
     "metadata": {},
     "output_type": "execute_result"
    }
   ],
   "source": [
    "# Modulus %  (the remainder after dividing one number by another)\n",
    "x % y"
   ]
  },
  {
   "cell_type": "code",
   "execution_count": 6,
   "id": "a1bbcf06",
   "metadata": {},
   "outputs": [
    {
     "data": {
      "text/plain": [
       "125"
      ]
     },
     "execution_count": 6,
     "metadata": {},
     "output_type": "execute_result"
    }
   ],
   "source": [
    "# Exponentiation ** (equal to 5*5*5)\n",
    "x ** y"
   ]
  },
  {
   "cell_type": "code",
   "execution_count": 7,
   "id": "46e61b01",
   "metadata": {},
   "outputs": [
    {
     "data": {
      "text/plain": [
       "1"
      ]
     },
     "execution_count": 7,
     "metadata": {},
     "output_type": "execute_result"
    }
   ],
   "source": [
    "# Floor Division // (the floor division // rounds the result down to the nearest whole number)\n",
    "x // y"
   ]
  },
  {
   "cell_type": "markdown",
   "id": "8280054c",
   "metadata": {},
   "source": [
    "#### Assignment Operators\n",
    "Assignment operators are used to assign values to variables"
   ]
  },
  {
   "cell_type": "code",
   "execution_count": 8,
   "id": "edf4c214",
   "metadata": {},
   "outputs": [
    {
     "name": "stdout",
     "output_type": "stream",
     "text": [
      "5\n"
     ]
    }
   ],
   "source": [
    "# =\n",
    "x = 5\n",
    "print(x)"
   ]
  },
  {
   "cell_type": "code",
   "execution_count": 9,
   "id": "7b7d554c",
   "metadata": {},
   "outputs": [
    {
     "name": "stdout",
     "output_type": "stream",
     "text": [
      "8\n"
     ]
    }
   ],
   "source": [
    "# += \n",
    "x = 5\n",
    "x += 3  # x = x + 3\n",
    "print(x)"
   ]
  },
  {
   "cell_type": "code",
   "execution_count": 10,
   "id": "c228a236",
   "metadata": {},
   "outputs": [
    {
     "name": "stdout",
     "output_type": "stream",
     "text": [
      "2\n"
     ]
    }
   ],
   "source": [
    "# -= \n",
    "x = 5\n",
    "x -= 3  # x = x- 3\n",
    "print(x)"
   ]
  },
  {
   "cell_type": "code",
   "execution_count": 11,
   "id": "fd50c433",
   "metadata": {},
   "outputs": [
    {
     "name": "stdout",
     "output_type": "stream",
     "text": [
      "15\n"
     ]
    }
   ],
   "source": [
    "# *= \n",
    "x = 5\n",
    "x *= 3 # x = x * 3\n",
    "print(x)"
   ]
  },
  {
   "cell_type": "code",
   "execution_count": 12,
   "id": "8b5804b9",
   "metadata": {},
   "outputs": [
    {
     "name": "stdout",
     "output_type": "stream",
     "text": [
      "1.6666666666666667\n"
     ]
    }
   ],
   "source": [
    "# /= \n",
    "x = 5\n",
    "x /= 3 # x = x / 3\n",
    "print(x)"
   ]
  },
  {
   "cell_type": "code",
   "execution_count": 13,
   "id": "b2ba084f",
   "metadata": {},
   "outputs": [
    {
     "name": "stdout",
     "output_type": "stream",
     "text": [
      "2\n"
     ]
    }
   ],
   "source": [
    "# %= \n",
    "x = 5\n",
    "x %= 3 # x = x % 3\n",
    "print(x)"
   ]
  },
  {
   "cell_type": "code",
   "execution_count": 14,
   "id": "481020ae",
   "metadata": {},
   "outputs": [
    {
     "name": "stdout",
     "output_type": "stream",
     "text": [
      "1\n"
     ]
    }
   ],
   "source": [
    "# //= \n",
    "x = 5\n",
    "x //= 3 # x = x // 3\n",
    "print(x)"
   ]
  },
  {
   "cell_type": "code",
   "execution_count": 15,
   "id": "3d548a3b",
   "metadata": {},
   "outputs": [
    {
     "name": "stdout",
     "output_type": "stream",
     "text": [
      "125\n"
     ]
    }
   ],
   "source": [
    "# **= \n",
    "x = 5\n",
    "x **= 3 # x = x ** 3\n",
    "print(x)"
   ]
  },
  {
   "cell_type": "code",
   "execution_count": 16,
   "id": "249032fb",
   "metadata": {},
   "outputs": [
    {
     "name": "stdout",
     "output_type": "stream",
     "text": [
      "1\n"
     ]
    }
   ],
   "source": [
    "# &= bitwise AND operation\n",
    "x = 5\n",
    "x &= 3 # x = x & 3\n",
    "print(x)"
   ]
  },
  {
   "cell_type": "markdown",
   "id": "cf1bbac7",
   "metadata": {},
   "source": [
    "Explanation:\n",
    "\n",
    "The binary of 5 is : 0 1 0 1 <br>\n",
    "The binary of 3 is : 0 0 1 1\n",
    "\n",
    "AND operation : (If both sides are 1/True then result is 1/True)\n",
    "\n",
    "0 1 0 1  #Binary of 5 <br>\n",
    "0 0 1 1  #Binary of 3\n",
    "---------------------\n",
    "0 0 0 1  #Binary of 1"
   ]
  },
  {
   "cell_type": "code",
   "execution_count": 17,
   "id": "26c84d0e",
   "metadata": {},
   "outputs": [
    {
     "name": "stdout",
     "output_type": "stream",
     "text": [
      "7\n"
     ]
    }
   ],
   "source": [
    "# |= bitwise OR operation\n",
    "x = 5\n",
    "x |= 3 # x = x | 3\n",
    "print(x)"
   ]
  },
  {
   "cell_type": "markdown",
   "id": "9176154b",
   "metadata": {},
   "source": [
    "Explanation\n",
    "\n",
    "32 = 10 0000 <br>\n",
    "10 = 00 1010 <br>\n",
    "Now because | is the OR operation, do a bitwise-or on the two numbers\n",
    "\n",
    "i.e 1 or 0 --> 1, 0 or 0 --> 0. Continue this down the chain:\n",
    "\n",
    "10 0000 | 00 1010 = 10 1010. <br>\n",
    "Now change the binary into a decimal, 10 1010 = 42."
   ]
  },
  {
   "cell_type": "code",
   "execution_count": 18,
   "id": "b036a28a",
   "metadata": {},
   "outputs": [
    {
     "name": "stdout",
     "output_type": "stream",
     "text": [
      "6\n"
     ]
    }
   ],
   "source": [
    "# ^= bitwise XOR (exclusive OR) operation\n",
    "x = 5\n",
    "x ^= 3 # x = x ^ 3\n",
    "print(x)"
   ]
  },
  {
   "cell_type": "markdown",
   "id": "e3eca849",
   "metadata": {},
   "source": [
    "Explanation\n",
    "\n",
    "It is a logical operator which outputs 1 when either of the operands is 1 (one is 1 and the other one is 0), but both are not 1, and both are not 0. <br>\n",
    "6 = 0110 <br>\n",
    "3 = 0011\n",
    "\n",
    "5 = 0101"
   ]
  },
  {
   "cell_type": "code",
   "execution_count": 19,
   "id": "88b6c86b",
   "metadata": {},
   "outputs": [
    {
     "name": "stdout",
     "output_type": "stream",
     "text": [
      "0\n"
     ]
    }
   ],
   "source": [
    "# >>= bitwise right shift operation\n",
    "x = 5\n",
    "x >>= 3 # x = x >> 3\n",
    "print(x)"
   ]
  },
  {
   "cell_type": "markdown",
   "id": "35f0e9d6",
   "metadata": {},
   "source": [
    "Shifts the bits of the number to the right and fills 0 on voids left( fills 1 in the case of a negative number) as a result.\n",
    "\n",
    "Example 1: <br>\n",
    "a = 10 = 0000 1010 (Binary) <br>\n",
    "a >> 1 = 0000 0101 = 5\n",
    "\n",
    "Example 2: <br>\n",
    "a = -10 = 1111 0110 (Binary) <br>\n",
    "a >> 1 = 1111 1011 = -5 "
   ]
  },
  {
   "cell_type": "code",
   "execution_count": 20,
   "id": "40c57821",
   "metadata": {},
   "outputs": [
    {
     "name": "stdout",
     "output_type": "stream",
     "text": [
      "40\n"
     ]
    }
   ],
   "source": [
    "# <<= bitwise left shift operation\n",
    "x = 5\n",
    "x <<= 3 # x = x << 3\n",
    "print(x)"
   ]
  },
  {
   "cell_type": "markdown",
   "id": "bfad5aaf",
   "metadata": {},
   "source": [
    "Shifts the bits of the number to the left and fills 0 on voids right as a result\n",
    "\n",
    "Example 1: <br>\n",
    "a = 5 = 0000 0101 (Binary) <br> \n",
    "a << 1 = 0000 1010 = 10\n",
    "\n",
    "Example 2: <br>\n",
    "b = -10 = 1111 0110 (Binary) <br>\n",
    "b << 1 = 1110 1100 = -20\n"
   ]
  },
  {
   "cell_type": "markdown",
   "id": "75a59bef",
   "metadata": {},
   "source": [
    "### Comparison operators\n",
    "Comparison operators are used to compare two values:\n",
    "\n",
    "Operator\tName\tExample\t<br>\n",
    "**==**\t        Equal\tx == y\t<br>\n",
    "**!=**\t      Not equal\tx != y\t<br>\n",
    "**\\>**     Greater than\tx > y\t<br>\n",
    "**<**\t   Less than\tx < y\t<br>\n",
    "**\\>=**\tGreater than or equal to\tx >= y\t<br>\n",
    "**<=**\tLess than or equal to\tx <= y"
   ]
  },
  {
   "cell_type": "markdown",
   "id": "1a03582a",
   "metadata": {},
   "source": [
    "### Logical operators\n",
    "Logical operators are used to combine conditional statements:"
   ]
  },
  {
   "cell_type": "code",
   "execution_count": 21,
   "id": "7d79f3bf",
   "metadata": {},
   "outputs": [
    {
     "name": "stdout",
     "output_type": "stream",
     "text": [
      "True\n"
     ]
    }
   ],
   "source": [
    "# and: Returns True if both statements are true\n",
    "x = 5\n",
    "print(x > 3 and x < 10)"
   ]
  },
  {
   "cell_type": "code",
   "execution_count": 22,
   "id": "c02ea546",
   "metadata": {},
   "outputs": [
    {
     "name": "stdout",
     "output_type": "stream",
     "text": [
      "True\n"
     ]
    }
   ],
   "source": [
    "# or: Returns True if one of the statements is true\n",
    "x = 5\n",
    "print(x > 3 or x < 4)"
   ]
  },
  {
   "cell_type": "code",
   "execution_count": 23,
   "id": "973534ca",
   "metadata": {},
   "outputs": [
    {
     "name": "stdout",
     "output_type": "stream",
     "text": [
      "False\n"
     ]
    }
   ],
   "source": [
    "# not: Reverse the result, returns False if the result is true\n",
    "x = 5\n",
    "print(not(x > 3 and x < 10))"
   ]
  },
  {
   "cell_type": "markdown",
   "id": "c53dd97f",
   "metadata": {},
   "source": [
    "### Identity operators\n",
    "Identity operators are used to compare the objects, not if they are equal, but if they are actually the same object, with the same memory location:"
   ]
  },
  {
   "cell_type": "code",
   "execution_count": 24,
   "id": "b86f4b37",
   "metadata": {},
   "outputs": [
    {
     "name": "stdout",
     "output_type": "stream",
     "text": [
      "True\n"
     ]
    }
   ],
   "source": [
    "# is: Returns True if both variables are the same object\n",
    "x = ['apple', 'banana']\n",
    "y = ['apple', 'banana']\n",
    "z = x\n",
    "\n",
    "print(x is z)"
   ]
  },
  {
   "cell_type": "code",
   "execution_count": 25,
   "id": "1363cc25",
   "metadata": {},
   "outputs": [
    {
     "name": "stdout",
     "output_type": "stream",
     "text": [
      "False\n"
     ]
    }
   ],
   "source": [
    "print(x is y)  #returns False because x is not the same object as y, even if they have the same content"
   ]
  },
  {
   "cell_type": "code",
   "execution_count": 26,
   "id": "fcd083d5",
   "metadata": {},
   "outputs": [
    {
     "name": "stdout",
     "output_type": "stream",
     "text": [
      "True\n"
     ]
    }
   ],
   "source": [
    "print(x == y)  #to demonstrate the difference betweeen \"is\" and \"==\""
   ]
  },
  {
   "cell_type": "code",
   "execution_count": 27,
   "id": "7df5b702",
   "metadata": {},
   "outputs": [
    {
     "name": "stdout",
     "output_type": "stream",
     "text": [
      "False\n"
     ]
    }
   ],
   "source": [
    "# is not: Returns True if both variables are not the same object\n",
    "x = ['apple', 'banana']\n",
    "y = ['apple', 'banana']\n",
    "z = x\n",
    "\n",
    "print(x is not z)"
   ]
  },
  {
   "cell_type": "code",
   "execution_count": 28,
   "id": "a612a134",
   "metadata": {},
   "outputs": [
    {
     "name": "stdout",
     "output_type": "stream",
     "text": [
      "True\n"
     ]
    }
   ],
   "source": [
    "print(x is not y)"
   ]
  },
  {
   "cell_type": "code",
   "execution_count": 29,
   "id": "c4f8e77f",
   "metadata": {},
   "outputs": [
    {
     "name": "stdout",
     "output_type": "stream",
     "text": [
      "False\n"
     ]
    }
   ],
   "source": [
    "print(x != y)   #to demonstrate the difference betweeen \"is not\" and \"!=\""
   ]
  },
  {
   "cell_type": "markdown",
   "id": "1efa9e84",
   "metadata": {},
   "source": [
    "### Membership operators\n",
    "Membership operators are used to test if a sequence is presented in an object:"
   ]
  },
  {
   "cell_type": "code",
   "execution_count": 30,
   "id": "cf6bd608",
   "metadata": {},
   "outputs": [
    {
     "name": "stdout",
     "output_type": "stream",
     "text": [
      "True\n"
     ]
    }
   ],
   "source": [
    "# in: Returns True if a sequence with the specified value is present in the object\n",
    "x = ['apple', 'banana']\n",
    "print('banana' in x)"
   ]
  },
  {
   "cell_type": "code",
   "execution_count": 31,
   "id": "24f732ef",
   "metadata": {},
   "outputs": [
    {
     "name": "stdout",
     "output_type": "stream",
     "text": [
      "True\n"
     ]
    }
   ],
   "source": [
    "# not in: Returns True if a sequence with the specified value is not present in the object\n",
    "x = ['apple', 'banana']\n",
    "print('peach' not in x)"
   ]
  },
  {
   "cell_type": "markdown",
   "id": "5e70e81f",
   "metadata": {},
   "source": [
    "### Bitwise operators\n",
    "Bitwise operators are used to compare (binary) numbers:\n",
    "\n",
    "Operator\tName\tDescription\tExample\t<br>\n",
    "**&** \tAND\tSets each bit to 1 if both bits are 1\tx & y\t<br>\n",
    "**|**\tOR\tSets each bit to 1 if one of two bits is 1\tx | y\t<br>\n",
    "**^**\tXOR\tSets each bit to 1 if only one of two bits is 1\tx ^ y\t<br>\n",
    "**~**\tNOT\tInverts all the bits\t~x\t<br>\n",
    "**\\<<**\tZero fill left shift\tShift left by pushing zeros in from the right and let the leftmost bits fall off\tx << 2\t<br>\n",
    "**\\>>**\tSigned right shift\tShift right by pushing copies of the leftmost bit in from the left, and let the rightmost bits fall off\tx >> 2"
   ]
  },
  {
   "cell_type": "code",
   "execution_count": 32,
   "id": "474d7123",
   "metadata": {},
   "outputs": [
    {
     "name": "stdout",
     "output_type": "stream",
     "text": [
      "-4\n"
     ]
    }
   ],
   "source": [
    "print(~3)"
   ]
  },
  {
   "cell_type": "markdown",
   "id": "3dcf697d",
   "metadata": {},
   "source": [
    "The ~ operator inverts each bit (0 becomes 1 and 1 becomes 0). \n",
    "\n",
    "Inverted 3 becomes -4: <br>\n",
    " 3 = 0000000000000011 <br>\n",
    "-4 = 1111111111111100 <br>"
   ]
  },
  {
   "cell_type": "markdown",
   "id": "e0c02630",
   "metadata": {},
   "source": [
    "### Operator precedence\n",
    "Operator precedence describes the order in which operations are performed."
   ]
  },
  {
   "cell_type": "markdown",
   "id": "597e430b",
   "metadata": {},
   "source": [
    "The precedence order is described in the table below, starting with the highest precedence at the top:\n",
    "\n",
    "Operator\tDescription <br>\t\n",
    "**()**\tParentheses\t<br>\n",
    "******\tExponentiation\t<br>\n",
    "**+x  -x  ~x**\tUnary plus, unary minus, and bitwise NOT\t<br>\n",
    "**\\*  /  //  %**\tMultiplication, division, floor division, and modulus\t<br>\n",
    "**\\+  -**\tAddition and subtraction\t<br>\n",
    "**<<  >>**\tBitwise left and right shifts\t<br>\n",
    "**&**\tBitwise AND\t<br>\n",
    "**^**\tBitwise XOR\t<br>\n",
    "**|**\tBitwise OR\t<br>\n",
    "**==  !=  >  >=  <  <=  is  is not  in  not in** \tComparisons, identity, and membership operators\t<br>\n",
    "**not**\tLogical NOT\t<br>\n",
    "**and**\tAND\t<br>\n",
    "**or**\tOR <br>"
   ]
  },
  {
   "cell_type": "code",
   "execution_count": 33,
   "id": "a9745a65",
   "metadata": {},
   "outputs": [
    {
     "name": "stdout",
     "output_type": "stream",
     "text": [
      "96\n"
     ]
    },
    {
     "data": {
      "text/plain": [
       "'\\nBitwise NOT has higher precedence than addition, and needs to be evaluated first.\\nThe calculation above reads 100 + -4 = 96\\n'"
      ]
     },
     "execution_count": 33,
     "metadata": {},
     "output_type": "execute_result"
    }
   ],
   "source": [
    "print(100 + ~3)\n",
    "\n",
    "\"\"\"\n",
    "Bitwise NOT has higher precedence than addition, and needs to be evaluated first.\n",
    "The calculation above reads 100 + -4 = 96\n",
    "\"\"\""
   ]
  },
  {
   "cell_type": "code",
   "execution_count": 34,
   "id": "c3b852da",
   "metadata": {},
   "outputs": [
    {
     "name": "stdout",
     "output_type": "stream",
     "text": [
      "2\n"
     ]
    }
   ],
   "source": [
    "print(8 >> 4 -2)"
   ]
  },
  {
   "cell_type": "markdown",
   "id": "918e850e",
   "metadata": {},
   "source": [
    "Bitwise right shift has a lower precedence than subtraction, and we need to calculate the subtraction first.<br>\n",
    "The calculation above reads 8 >> 2 = 2\n",
    "\n",
    "More explanation: <br>\n",
    "The >> operator moves each bit the specified number of times to the right. Empty holes at the left are filled with 0's.\n",
    "\n",
    "If you move each bit 2 times to the right, 8 becomes 2:<br> \n",
    " 8 = 0000000000001000 <br>\n",
    "becomes <br>\n",
    " 2 = 0000000000000010 <br>\n",
    "\n",
    "Decimal numbers and their binary values: <br>\n",
    " 0 = 0000000000000000 <br>\n",
    " 1 = 0000000000000001 <br>\n",
    " 2 = 0000000000000010 <br>\n",
    " 3 = 0000000000000011 <br>\n",
    " 4 = 0000000000000100 <br>\n",
    " 5 = 0000000000000101 <br>\n",
    " 6 = 0000000000000110 <br>\n",
    " 7 = 0000000000000111 <br>\n",
    " 8 = 0000000000001000 <br>\n",
    " 9 = 0000000000001001 <br>\n",
    "10 = 0000000000001010 <br>\n",
    "11 = 0000000000001011 <br>\n",
    "12 = 0000000000001100 <br>"
   ]
  },
  {
   "cell_type": "code",
   "execution_count": 35,
   "id": "41d95d39",
   "metadata": {},
   "outputs": [
    {
     "name": "stdout",
     "output_type": "stream",
     "text": [
      "2\n"
     ]
    }
   ],
   "source": [
    "print(6 & 2 + 1)"
   ]
  },
  {
   "cell_type": "markdown",
   "id": "59c1c464",
   "metadata": {},
   "source": [
    "Bitwise AND has a lower precedence than addition, and we need to calculate the addition first. <br>\n",
    "The calculation above reads 6 & 3 = 2\n",
    "\n",
    "More explanation: <br>\n",
    "The & operator compares each bit and set it to 1 if both are 1, otherwise it is set to 0:\n",
    "\n",
    "6 = 0000000000000110 <br>\n",
    "3 = 0000000000000011 <br>\n",
    "--------------------\n",
    "2 = 0000000000000010"
   ]
  },
  {
   "cell_type": "code",
   "execution_count": 36,
   "id": "b19ecb91",
   "metadata": {},
   "outputs": [
    {
     "name": "stdout",
     "output_type": "stream",
     "text": [
      "5\n"
     ]
    }
   ],
   "source": [
    "print(6 ^ 2 + 1)"
   ]
  },
  {
   "cell_type": "markdown",
   "id": "d01413bd",
   "metadata": {},
   "source": [
    "Bitwise XOR has a lower precedence than addition, and we need to calculate the addition first. <br>\n",
    "The calculation above reads 6 ^ 3 = 5\n",
    "\n",
    "More explanation: <br>\n",
    "The ^ operator compares each bit and set it to 1 if only one is 1, otherwise (if both are 1 or both are 0) it is set to 0:\n",
    "\n",
    "6 = 0000000000000110 <br>\n",
    "3 = 0000000000000011\n",
    "--------------------\n",
    "5 = 0000000000000101"
   ]
  },
  {
   "cell_type": "code",
   "execution_count": 37,
   "id": "f4c3fd76",
   "metadata": {},
   "outputs": [
    {
     "name": "stdout",
     "output_type": "stream",
     "text": [
      "7\n"
     ]
    }
   ],
   "source": [
    "print(6 | 2 + 1)"
   ]
  },
  {
   "cell_type": "markdown",
   "id": "d351284f",
   "metadata": {},
   "source": [
    "Bitwise OR has a lower precedence than addition, and we need to calculate the addition first.<br>\n",
    "The calculation above reads 6 | 3 = 7\n",
    "\n",
    "More explanation:<br>\n",
    "The | operator compares each bit and set it to 1 if one or both is 1, otherwise it is set to 0:\n",
    "\n",
    "6 = 0000000000000110 <br>\n",
    "3 = 0000000000000011\n",
    "--------------------\n",
    "7 = 0000000000000111"
   ]
  },
  {
   "cell_type": "code",
   "execution_count": 38,
   "id": "63cfd62a",
   "metadata": {},
   "outputs": [
    {
     "name": "stdout",
     "output_type": "stream",
     "text": [
      "True\n"
     ]
    }
   ],
   "source": [
    "print(5 == 4 + 1)"
   ]
  },
  {
   "cell_type": "code",
   "execution_count": 39,
   "id": "96b749a9",
   "metadata": {},
   "outputs": [
    {
     "name": "stdout",
     "output_type": "stream",
     "text": [
      "False\n"
     ]
    }
   ],
   "source": [
    "print(not 5==5)"
   ]
  },
  {
   "cell_type": "code",
   "execution_count": 40,
   "id": "3eff2d53",
   "metadata": {},
   "outputs": [
    {
     "name": "stdout",
     "output_type": "stream",
     "text": [
      "1\n"
     ]
    }
   ],
   "source": [
    "print(1 or 2 and 3)\n",
    "\n",
    "# The and operator has a higher precedence than or, and we need to calculate the and expression first.\n",
    "# The calculation above reads: 1 or 3 = 1"
   ]
  },
  {
   "cell_type": "code",
   "execution_count": 41,
   "id": "b8b396aa",
   "metadata": {},
   "outputs": [
    {
     "name": "stdout",
     "output_type": "stream",
     "text": [
      "4\n"
     ]
    }
   ],
   "source": [
    "print(4 or 5 + 10 or 8)\n",
    "\n",
    "# The or operator has a lower precedence than addition, and we need to calculate the addition first.\n",
    "# The calculation above reads: 4 or 15 or 8 = 4"
   ]
  },
  {
   "cell_type": "code",
   "execution_count": 42,
   "id": "a89b59d6",
   "metadata": {},
   "outputs": [
    {
     "name": "stdout",
     "output_type": "stream",
     "text": [
      "5\n"
     ]
    }
   ],
   "source": [
    "# If two operators have the same precedence, the expression is evaluated from left to right.\n",
    "print(5 + 4 - 7 + 3)"
   ]
  },
  {
   "cell_type": "code",
   "execution_count": null,
   "id": "1f3c5f42",
   "metadata": {},
   "outputs": [],
   "source": []
  }
 ],
 "metadata": {
  "kernelspec": {
   "display_name": "Python 3 (ipykernel)",
   "language": "python",
   "name": "python3"
  },
  "language_info": {
   "codemirror_mode": {
    "name": "ipython",
    "version": 3
   },
   "file_extension": ".py",
   "mimetype": "text/x-python",
   "name": "python",
   "nbconvert_exporter": "python",
   "pygments_lexer": "ipython3",
   "version": "3.9.12"
  }
 },
 "nbformat": 4,
 "nbformat_minor": 5
}
