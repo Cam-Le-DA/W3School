{
 "cells": [
  {
   "cell_type": "markdown",
   "id": "25376bf1",
   "metadata": {},
   "source": [
    "### Python For Loops\n",
    "A for loop is used for iterating over a sequence (that is either a list, a tuple, a dictionary, a set, or a string).\n",
    "\n",
    "This is less like the for keyword in other programming languages, and works more like an iterator method as found in other object-orientated programming languages.\n",
    "\n",
    "With the for loop we can execute a set of statements, once for each item in a list, tuple, set etc."
   ]
  },
  {
   "cell_type": "code",
   "execution_count": 1,
   "id": "a6d0f67d",
   "metadata": {},
   "outputs": [
    {
     "name": "stdout",
     "output_type": "stream",
     "text": [
      "dog\n",
      "cat\n",
      "fish\n"
     ]
    }
   ],
   "source": [
    "# The for loop does not require an indexing variable to set beforehand.\n",
    "\n",
    "list1 = ['dog','cat','fish']\n",
    "for x in list1:\n",
    "    print(x)"
   ]
  },
  {
   "cell_type": "code",
   "execution_count": 2,
   "id": "ea758aae",
   "metadata": {},
   "outputs": [
    {
     "name": "stdout",
     "output_type": "stream",
     "text": [
      "H\n",
      "e\n",
      "l\n",
      "l\n",
      "o\n",
      ",\n",
      " \n",
      "W\n",
      "o\n",
      "r\n",
      "l\n",
      "d\n",
      "!\n"
     ]
    }
   ],
   "source": [
    "# LOOPING THROUGH A STRING\n",
    "# Even strings are iterable objects, they contain a sequence of characters:\n",
    "\n",
    "string1 = 'Hello, World!'\n",
    "for x in string1:\n",
    "    print(x)"
   ]
  },
  {
   "cell_type": "code",
   "execution_count": 3,
   "id": "2ece25af",
   "metadata": {},
   "outputs": [
    {
     "name": "stdout",
     "output_type": "stream",
     "text": [
      "dog\n",
      "cat\n",
      "fish\n"
     ]
    }
   ],
   "source": [
    "# THE BREAK STATEMENT\n",
    "# With the break statement we can stop the loop before it has looped through all the items:\n",
    "\n",
    "list1 = ['dog','cat','fish','bird']\n",
    "for x in list1:\n",
    "    print(x)\n",
    "    if x == 'fish':\n",
    "        break    "
   ]
  },
  {
   "cell_type": "code",
   "execution_count": 4,
   "id": "ae262c25",
   "metadata": {},
   "outputs": [
    {
     "name": "stdout",
     "output_type": "stream",
     "text": [
      "dog\n",
      "cat\n"
     ]
    }
   ],
   "source": [
    "# Exit the loop when x is \"banana\", but this time the break comes before the print:\n",
    "\n",
    "for x in list1:\n",
    "    if x == 'fish':\n",
    "        break\n",
    "    print(x)"
   ]
  },
  {
   "cell_type": "code",
   "execution_count": 6,
   "id": "d21bceac",
   "metadata": {},
   "outputs": [
    {
     "name": "stdout",
     "output_type": "stream",
     "text": [
      "dog\n",
      "cat\n",
      "bird\n"
     ]
    }
   ],
   "source": [
    "# THE CONTINUE STATEMENT\n",
    "# With the continue statement we can stop the current iteration of the loop, and continue with the next:\n",
    "\n",
    "for x in list1: \n",
    "    if x == 'fish':\n",
    "        continue\n",
    "    print(x)        "
   ]
  },
  {
   "cell_type": "code",
   "execution_count": 7,
   "id": "a1a177d9",
   "metadata": {},
   "outputs": [
    {
     "name": "stdout",
     "output_type": "stream",
     "text": [
      "0\n",
      "1\n",
      "2\n",
      "3\n",
      "4\n",
      "5\n"
     ]
    }
   ],
   "source": [
    "# THE RANGE FUNCTION\n",
    "# To loop through a set of code a specified number of times, we can use the range() function,\n",
    "# The range() function returns a sequence of numbers, starting from 0 by default, and increments by 1 (by default), and\n",
    "# ends at a specified number.\n",
    "\n",
    "for x in range(6):\n",
    "    print(x)\n",
    "    \n",
    "# Note that range(6) is not the values of 0 to 6, but the values 0 to 5."
   ]
  },
  {
   "cell_type": "code",
   "execution_count": 8,
   "id": "32c5809d",
   "metadata": {},
   "outputs": [
    {
     "name": "stdout",
     "output_type": "stream",
     "text": [
      "2\n",
      "3\n",
      "4\n",
      "5\n"
     ]
    }
   ],
   "source": [
    "# The range() function defaults to 0 as a starting value, however it is possible to specify the starting value by adding a \n",
    "# parameter: range(2, 6), which means values from 2 to 6 (but not including 6):\n",
    "\n",
    "for x in range(2,6):\n",
    "    print(x)"
   ]
  },
  {
   "cell_type": "code",
   "execution_count": 9,
   "id": "4dfa4df3",
   "metadata": {},
   "outputs": [
    {
     "name": "stdout",
     "output_type": "stream",
     "text": [
      "2\n",
      "5\n",
      "8\n",
      "11\n",
      "14\n",
      "17\n",
      "20\n",
      "23\n",
      "26\n",
      "29\n"
     ]
    }
   ],
   "source": [
    "# The range() function defaults to increment the sequence by 1, however it is possible to specify the increment value by\n",
    "# adding a third parameter: range(2, 30, 3):\n",
    "\n",
    "for x in range(2, 30, 3):\n",
    "    print(x)"
   ]
  },
  {
   "cell_type": "code",
   "execution_count": 11,
   "id": "3f120b23",
   "metadata": {},
   "outputs": [
    {
     "name": "stdout",
     "output_type": "stream",
     "text": [
      "0\n",
      "1\n",
      "2\n",
      "3\n",
      "4\n",
      "5\n",
      "Finally finished!\n"
     ]
    }
   ],
   "source": [
    "# ELSE IN FOR LOOP\n",
    "# The else keyword in a for loop specifies a block of code to be executed when the loop is finished:\n",
    "\n",
    "for x in range(6):\n",
    "    print(x)\n",
    "else:\n",
    "    print('Finally finished!')"
   ]
  },
  {
   "cell_type": "code",
   "execution_count": 12,
   "id": "fd53ff31",
   "metadata": {},
   "outputs": [
    {
     "name": "stdout",
     "output_type": "stream",
     "text": [
      "0\n",
      "1\n",
      "2\n"
     ]
    }
   ],
   "source": [
    "# Note: The else block will NOT be executed if the loop is stopped by a break statement.\n",
    "\n",
    "for x in range(6):\n",
    "    if x == 3:\n",
    "        break\n",
    "    print(x)\n",
    "else:\n",
    "    print('Finally finished!')"
   ]
  },
  {
   "cell_type": "code",
   "execution_count": 13,
   "id": "1d87ef33",
   "metadata": {},
   "outputs": [
    {
     "name": "stdout",
     "output_type": "stream",
     "text": [
      "red apple\n",
      "red kiwi\n",
      "red mango\n",
      "green apple\n",
      "green kiwi\n",
      "green mango\n",
      "yellow apple\n",
      "yellow kiwi\n",
      "yellow mango\n"
     ]
    }
   ],
   "source": [
    "# NESTED LOOP\n",
    "# A nested loop is a loop inside a loop.\n",
    "# The \"inner loop\" will be executed one time for each iteration of the \"outer loop\":\n",
    "\n",
    "adj = ['red','green','yellow']\n",
    "fruits = ['apple','kiwi','mango']\n",
    "\n",
    "for x in adj:\n",
    "    for y in fruits:\n",
    "        print(x, y)"
   ]
  },
  {
   "cell_type": "code",
   "execution_count": 14,
   "id": "65e9a70b",
   "metadata": {},
   "outputs": [],
   "source": [
    "# THE PASS STATEMENT\n",
    "# for loops cannot be empty, but if you for some reason have a for loop with no content, put in the pass statement to avoid \n",
    "# getting an error.\n",
    "\n",
    "for x in range(6):\n",
    "    pass"
   ]
  },
  {
   "cell_type": "code",
   "execution_count": null,
   "id": "6ec35c32",
   "metadata": {},
   "outputs": [],
   "source": []
  }
 ],
 "metadata": {
  "kernelspec": {
   "display_name": "Python 3 (ipykernel)",
   "language": "python",
   "name": "python3"
  },
  "language_info": {
   "codemirror_mode": {
    "name": "ipython",
    "version": 3
   },
   "file_extension": ".py",
   "mimetype": "text/x-python",
   "name": "python",
   "nbconvert_exporter": "python",
   "pygments_lexer": "ipython3",
   "version": "3.9.12"
  }
 },
 "nbformat": 4,
 "nbformat_minor": 5
}
