{
 "cells": [
  {
   "cell_type": "code",
   "execution_count": 1,
   "id": "da53c24b",
   "metadata": {},
   "outputs": [
    {
     "name": "stdout",
     "output_type": "stream",
     "text": [
      "\" Lorem ipsum dolor sit amet,\n",
      "consectetur adipiscing elit,\n",
      "sed do eiusmod tempor incididunt\n",
      "ut labore et dolore magna aliqua.\n"
     ]
    }
   ],
   "source": [
    "# You can assign a multiline string to a variable by using three quotes/single quotes:\n",
    "a = \"\"\"\" Lorem ipsum dolor sit amet,\n",
    "consectetur adipiscing elit,\n",
    "sed do eiusmod tempor incididunt\n",
    "ut labore et dolore magna aliqua.\"\"\"\n",
    "\n",
    "print(a)\n",
    "# Note: in the result, the line breaks are inserted at the same position as in the code."
   ]
  },
  {
   "cell_type": "markdown",
   "id": "59dc4191",
   "metadata": {},
   "source": [
    "#### Strings are arrays\n",
    "Like many other popular programming languages, strings in Python are arrays of bytes representing unicode characters.<br>\n",
    "However, Python does not have a character data type, a single character is simply a string with a length of 1.<br>\n",
    "Square brackets can be used to access elements of the string."
   ]
  },
  {
   "cell_type": "code",
   "execution_count": 2,
   "id": "cba0218e",
   "metadata": {},
   "outputs": [
    {
     "name": "stdout",
     "output_type": "stream",
     "text": [
      "e\n"
     ]
    }
   ],
   "source": [
    "# Get the character at position 1 (remember that the first character has the position 0):\n",
    "a = \"Hello, World!\"\n",
    "print(a[1])"
   ]
  },
  {
   "cell_type": "code",
   "execution_count": 3,
   "id": "a17c2127",
   "metadata": {},
   "outputs": [
    {
     "name": "stdout",
     "output_type": "stream",
     "text": [
      "b\n",
      "a\n",
      "n\n",
      "a\n",
      "n\n",
      "a\n"
     ]
    }
   ],
   "source": [
    "# Since strings are arrays, we can loop through the characters in a string, with a for loop.\n",
    "for x in 'banana':\n",
    "    print(x)"
   ]
  },
  {
   "cell_type": "code",
   "execution_count": 4,
   "id": "5d5509d5",
   "metadata": {},
   "outputs": [
    {
     "data": {
      "text/plain": [
       "13"
      ]
     },
     "execution_count": 4,
     "metadata": {},
     "output_type": "execute_result"
    }
   ],
   "source": [
    "# To get the length of a string, use the len() function.\n",
    "len(a)"
   ]
  },
  {
   "cell_type": "code",
   "execution_count": 5,
   "id": "6cf6861c",
   "metadata": {},
   "outputs": [
    {
     "name": "stdout",
     "output_type": "stream",
     "text": [
      "True\n"
     ]
    }
   ],
   "source": [
    "# To check if a certain phrase or character is present in a string, we can use the keyword in.\n",
    "txt = 'The best things in life are not free'\n",
    "print('free' in txt)"
   ]
  },
  {
   "cell_type": "code",
   "execution_count": 6,
   "id": "f1752b70",
   "metadata": {},
   "outputs": [
    {
     "name": "stdout",
     "output_type": "stream",
     "text": [
      "Yes, 'free' is present\n"
     ]
    }
   ],
   "source": [
    "# Use it in an if statement:\n",
    "if 'free' in txt:\n",
    "    print(\"Yes, 'free' is present\")"
   ]
  },
  {
   "cell_type": "code",
   "execution_count": 7,
   "id": "d53dec01",
   "metadata": {},
   "outputs": [
    {
     "name": "stdout",
     "output_type": "stream",
     "text": [
      "True\n"
     ]
    }
   ],
   "source": [
    "# To check if a certain phrase or character is NOT present in a string, we can use the keyword not in:\n",
    "print('expensive' not in txt)"
   ]
  },
  {
   "cell_type": "code",
   "execution_count": 8,
   "id": "188311ae",
   "metadata": {},
   "outputs": [
    {
     "name": "stdout",
     "output_type": "stream",
     "text": [
      "No, 'expensive' is NOT present\n"
     ]
    }
   ],
   "source": [
    "# print only if \"expensive\" is NOT present:\n",
    "if 'expensive' not in txt:\n",
    "    print(\"No, 'expensive' is NOT present\")"
   ]
  },
  {
   "cell_type": "code",
   "execution_count": 9,
   "id": "d45833a0",
   "metadata": {},
   "outputs": [
    {
     "name": "stdout",
     "output_type": "stream",
     "text": [
      "llo\n"
     ]
    }
   ],
   "source": [
    "# Slicing\n",
    "# You can return a range of characters by using the slice syntax.\n",
    "# Specify the start index and the end index, separated by a colon, to return a part of the string.\n",
    "b = 'Hello, World'\n",
    "print(b[2:5])"
   ]
  },
  {
   "cell_type": "code",
   "execution_count": 10,
   "id": "3ddb2ef6",
   "metadata": {},
   "outputs": [
    {
     "name": "stdout",
     "output_type": "stream",
     "text": [
      "Hello\n"
     ]
    }
   ],
   "source": [
    "# By leaving out the start index, the range will start at the first character:\n",
    "print(b[:5])"
   ]
  },
  {
   "cell_type": "code",
   "execution_count": 11,
   "id": "d254a55f",
   "metadata": {},
   "outputs": [
    {
     "name": "stdout",
     "output_type": "stream",
     "text": [
      "World\n"
     ]
    }
   ],
   "source": [
    "# By leaving out the end index, the range will go to the end:\n",
    "print(b[7:])"
   ]
  },
  {
   "cell_type": "code",
   "execution_count": 12,
   "id": "af09e5d3",
   "metadata": {},
   "outputs": [
    {
     "name": "stdout",
     "output_type": "stream",
     "text": [
      "Wor\n"
     ]
    }
   ],
   "source": [
    "# Use negative indexes to start the slice from the end of the string:\n",
    "print(b[-5:-2])"
   ]
  },
  {
   "cell_type": "markdown",
   "id": "a0950037",
   "metadata": {},
   "source": [
    "#### Modify Strings\n",
    "Python has a set of built-in methods that you can use on strings."
   ]
  },
  {
   "cell_type": "code",
   "execution_count": 13,
   "id": "611a4e1a",
   "metadata": {},
   "outputs": [
    {
     "data": {
      "text/plain": [
       "'HELLO, WORLD'"
      ]
     },
     "execution_count": 13,
     "metadata": {},
     "output_type": "execute_result"
    }
   ],
   "source": [
    "# The upper() method returns the string in upper case:\n",
    "b.upper()"
   ]
  },
  {
   "cell_type": "code",
   "execution_count": 14,
   "id": "798576bb",
   "metadata": {},
   "outputs": [
    {
     "data": {
      "text/plain": [
       "'hello, world'"
      ]
     },
     "execution_count": 14,
     "metadata": {},
     "output_type": "execute_result"
    }
   ],
   "source": [
    "# The lower() method returns the string in lower case:\n",
    "b.lower()"
   ]
  },
  {
   "cell_type": "code",
   "execution_count": 15,
   "id": "7e70271f",
   "metadata": {},
   "outputs": [
    {
     "name": "stdout",
     "output_type": "stream",
     "text": [
      "Hello, World\n"
     ]
    }
   ],
   "source": [
    "# Whitespace is the space before and/or after the actual text, and very often you want to remove this space.\n",
    "# The strip() method removes any whitespace from the beginning or the end:\n",
    "a = ' Hello, World '\n",
    "print(a.strip())"
   ]
  },
  {
   "cell_type": "code",
   "execution_count": 16,
   "id": "5f78c31c",
   "metadata": {},
   "outputs": [
    {
     "name": "stdout",
     "output_type": "stream",
     "text": [
      " Jello, World \n"
     ]
    }
   ],
   "source": [
    "# The replace() method replaces a string with another string:\n",
    "print(a.replace('H','J'))"
   ]
  },
  {
   "cell_type": "code",
   "execution_count": 17,
   "id": "c04a727f",
   "metadata": {},
   "outputs": [
    {
     "name": "stdout",
     "output_type": "stream",
     "text": [
      "[' Hello', ' World ']\n"
     ]
    }
   ],
   "source": [
    "# The split() method returns a list where the text between the specified separator becomes the list items.\n",
    "print(a.split(','))"
   ]
  },
  {
   "cell_type": "code",
   "execution_count": 18,
   "id": "b8a51a49",
   "metadata": {},
   "outputs": [
    {
     "data": {
      "text/plain": [
       "'HelloWorld'"
      ]
     },
     "execution_count": 18,
     "metadata": {},
     "output_type": "execute_result"
    }
   ],
   "source": [
    "# String Concatenation\n",
    "# To concatenate, or combine, two strings you can use the + operator.\n",
    "a = 'Hello'\n",
    "b = \"World\"\n",
    "a + b"
   ]
  },
  {
   "cell_type": "code",
   "execution_count": 19,
   "id": "6e48cf4f",
   "metadata": {},
   "outputs": [
    {
     "data": {
      "text/plain": [
       "'Hello World'"
      ]
     },
     "execution_count": 19,
     "metadata": {},
     "output_type": "execute_result"
    }
   ],
   "source": [
    "# To add a space between them, add a \" \":\n",
    "a + \" \" + b"
   ]
  },
  {
   "cell_type": "markdown",
   "id": "73801ce5",
   "metadata": {},
   "source": [
    "#### String Format\n",
    "As we learned in the Python Variables chapter, we cannot combine strings and numbers like this: <br>\n",
    "age = 36 <br>\n",
    "txt = \"My name is John, I am \" + age <br>\n",
    "print(txt)\n",
    "\n",
    "But we can combine strings and numbers by using the format() method! <br>\n",
    "The format() method takes the passed arguments, formats them, and places them in the string where the placeholders {} are:"
   ]
  },
  {
   "cell_type": "code",
   "execution_count": 20,
   "id": "fd1d5ad6",
   "metadata": {},
   "outputs": [
    {
     "name": "stdout",
     "output_type": "stream",
     "text": [
      "My name is John, I am 36\n"
     ]
    }
   ],
   "source": [
    "# Use the format() method to insert numbers into strings:\n",
    "age = 36\n",
    "txt = \"My name is John, I am {}\"\n",
    "print(txt.format(age))"
   ]
  },
  {
   "cell_type": "code",
   "execution_count": 21,
   "id": "50d8008e",
   "metadata": {},
   "outputs": [
    {
     "name": "stdout",
     "output_type": "stream",
     "text": [
      "I want 3 pieces of item 495 for 27.95 dollars\n"
     ]
    }
   ],
   "source": [
    "# The format() method takes unlimited number of arguments, and are placed into the respective placeholders:\n",
    "quantity = 3\n",
    "itemno = 495\n",
    "price = 27.95\n",
    "\n",
    "myorder = \"I want {} pieces of item {} for {} dollars\"\n",
    "print(myorder.format(quantity, itemno, price))"
   ]
  },
  {
   "cell_type": "code",
   "execution_count": 22,
   "id": "b85d63d8",
   "metadata": {},
   "outputs": [
    {
     "name": "stdout",
     "output_type": "stream",
     "text": [
      "I want to pay 27.95 dollars for 3 pieces of item 495\n"
     ]
    }
   ],
   "source": [
    "# You can use index numbers {0} to be sure the arguments are placed in the correct placeholders:\n",
    "myorder = 'I want to pay {2} dollars for {0} pieces of item {1}'\n",
    "print(myorder.format(quantity, itemno, price))"
   ]
  },
  {
   "cell_type": "markdown",
   "id": "b7149700",
   "metadata": {},
   "source": [
    "#### Escape Characters\n",
    "To insert characters that are illegal in a string, use an escape character. <br>\n",
    "An escape character is a backslash \\ followed by the character you want to insert. <br>\n",
    "An example of an illegal character is a double quote inside a string that is surrounded by double quotes: <br>\n",
    "txt = \"We are the so-called \"Vikings\" from the north.\""
   ]
  },
  {
   "cell_type": "code",
   "execution_count": 23,
   "id": "cf608232",
   "metadata": {},
   "outputs": [
    {
     "data": {
      "text/plain": [
       "'We are the so-called \"Vikings\" from the north'"
      ]
     },
     "execution_count": 23,
     "metadata": {},
     "output_type": "execute_result"
    }
   ],
   "source": [
    "# The escape character allows you to use double quotes when you normally would not be allowed:\n",
    "txt = \"We are the so-called \\\"Vikings\\\" from the north\"\n",
    "txt"
   ]
  },
  {
   "cell_type": "code",
   "execution_count": 24,
   "id": "027f97ad",
   "metadata": {},
   "outputs": [
    {
     "data": {
      "text/plain": [
       "\"It's a nice day\""
      ]
     },
     "execution_count": 24,
     "metadata": {},
     "output_type": "execute_result"
    }
   ],
   "source": [
    "# Other escape characters used in Python:\n",
    "# single quote \\'\n",
    "txt = 'It\\'s a nice day'\n",
    "txt"
   ]
  },
  {
   "cell_type": "code",
   "execution_count": 25,
   "id": "8d24c4ff",
   "metadata": {},
   "outputs": [
    {
     "name": "stdout",
     "output_type": "stream",
     "text": [
      "This will insert one \\ (backslash)\n"
     ]
    }
   ],
   "source": [
    "# backslash \\\\\n",
    "print('This will insert one \\\\ (backslash)')"
   ]
  },
  {
   "cell_type": "code",
   "execution_count": 26,
   "id": "2ca864af",
   "metadata": {},
   "outputs": [
    {
     "name": "stdout",
     "output_type": "stream",
     "text": [
      "Hello \n",
      "World\n"
     ]
    }
   ],
   "source": [
    "# new line \\n\n",
    "print('Hello \\nWorld')"
   ]
  },
  {
   "cell_type": "code",
   "execution_count": 27,
   "id": "f4fcae1c",
   "metadata": {},
   "outputs": [
    {
     "name": "stdout",
     "output_type": "stream",
     "text": [
      "123456\n"
     ]
    }
   ],
   "source": [
    "# CarriageReturn \\r\n",
    "txt = ('Python is a programming language \\r123456')\n",
    "print(txt)"
   ]
  },
  {
   "cell_type": "code",
   "execution_count": 28,
   "id": "1406fe81",
   "metadata": {},
   "outputs": [
    {
     "name": "stdout",
     "output_type": "stream",
     "text": [
      "Hello \tWorld\n"
     ]
    }
   ],
   "source": [
    "# tab \\t\n",
    "print('Hello \\tWorld')"
   ]
  },
  {
   "cell_type": "code",
   "execution_count": 29,
   "id": "72f7040a",
   "metadata": {},
   "outputs": [
    {
     "name": "stdout",
     "output_type": "stream",
     "text": [
      "Hello \bWorld\n"
     ]
    }
   ],
   "source": [
    "# backspace \\b\n",
    "print('Hello \\bWorld')"
   ]
  },
  {
   "cell_type": "code",
   "execution_count": 30,
   "id": "1d147587",
   "metadata": {},
   "outputs": [
    {
     "name": "stdout",
     "output_type": "stream",
     "text": [
      "Hello\n"
     ]
    }
   ],
   "source": [
    "# Octal value \\ooo\n",
    "#A backslash followed by three integers will result in a octal value:\n",
    "txt = \"\\110\\145\\154\\154\\157\"\n",
    "print(txt) \n",
    "\n",
    "# A number system which has its base as 'eight' is called an Octal number system. It uses numbers from 0 to 7."
   ]
  },
  {
   "cell_type": "code",
   "execution_count": 31,
   "id": "e9fe58a7",
   "metadata": {},
   "outputs": [
    {
     "name": "stdout",
     "output_type": "stream",
     "text": [
      "Hello\n"
     ]
    }
   ],
   "source": [
    "# Hex value \\xhh\n",
    "#A backslash followed by an 'x' and a hex number represents a hex value:\n",
    "txt = \"\\x48\\x65\\x6c\\x6c\\x6f\"\n",
    "print(txt) "
   ]
  },
  {
   "cell_type": "code",
   "execution_count": 32,
   "id": "ed362b89",
   "metadata": {},
   "outputs": [],
   "source": [
    "# form feed \\f"
   ]
  },
  {
   "cell_type": "markdown",
   "id": "488d674d",
   "metadata": {},
   "source": [
    "### String Methods\n",
    "Python has a set of built-in methods that you can use on strings. <br>\n",
    "Note: All string methods return new values. They do not change the original string.\n",
    "\n",
    "Method\tDescription <br>\n",
    "**capitalize()**\tConverts the first character to upper case <br>\n",
    "**casefold()**\tConverts string into lower case <br>\n",
    "**center()**\tReturns a centered string <br>\n",
    "**count()**\tReturns the number of times a specified value occurs in a string <br>\n",
    "**encode()**\tReturns an encoded version of the string <br>\n",
    "**endswith()**\tReturns true if the string ends with the specified value <br>\n",
    "**expandtabs()**\tSets the tab size of the string <br>\n",
    "**find()**\tSearches the string for a specified value and returns the position of where it was found <br>\n",
    "**format()**\tFormats specified values in a string <br>\n",
    "**format_map()**\tFormats specified values in a string <br>\n",
    "**index()**\tSearches the string for a specified value and returns the position of where it was found <br>\n",
    "**isalnum()**\tReturns True if all characters in the string are alphanumeric <br>\n",
    "**isalpha()**\tReturns True if all characters in the string are in the alphabet <br>\n",
    "**isdecimal()**\tReturns True if all characters in the string are decimals <br>\n",
    "**isdigit()**\tReturns True if all characters in the string are digits <br>\n",
    "**isidentifier()**\tReturns True if the string is an identifier <br>\n",
    "**islower()**\tReturns True if all characters in the string are lower case <br>\n",
    "**isnumeric()**\tReturns True if all characters in the string are numeric <br>\n",
    "**isprintable()**\tReturns True if all characters in the string are printable <br>\n",
    "**isspace()**\tReturns True if all characters in the string are whitespaces <br>\n",
    "**istitle()**\tReturns True if the string follows the rules of a title <br>\n",
    "**isupper()**\tReturns True if all characters in the string are upper case <br>\n",
    "**join()**\tJoins the elements of an iterable to the end of the string <br>\n",
    "**ljust()**\tReturns a left justified version of the string <br>\n",
    "**lower()**\tConverts a string into lower case <br>\n",
    "**lstrip()**\tReturns a left trim version of the string <br>\n",
    "**maketrans()**\tReturns a translation table to be used in translations <br>\n",
    "**partition()**\tReturns a tuple where the string is parted into three parts <br>\n",
    "**replace()**\tReturns a string where a specified value is replaced with a specified value <br>\n",
    "**rfind()**\tSearches the string for a specified value and returns the last position of where it was found <br>\n",
    "**rindex()**\tSearches the string for a specified value and returns the last position of where it was found <br>\n",
    "**rjust()**\tReturns a right justified version of the string <br>\n",
    "**rpartition()**\tReturns a tuple where the string is parted into three parts <br>\n",
    "**rsplit()**\tSplits the string at the specified separator, and returns a list <br>\n",
    "**rstrip()**\tReturns a right trim version of the string <br>\n",
    "**split()**\tSplits the string at the specified separator, and returns a list <br>\n",
    "**splitlines()**\tSplits the string at line breaks and returns a list <br>\n",
    "**startswith()**\tReturns true if the string starts with the specified value <br>\n",
    "**strip()**\tReturns a trimmed version of the string <br>\n",
    "**swapcase()**\tSwaps cases, lower case becomes upper case and vice versa <br>\n",
    "**title()**\tConverts the first character of each word to upper case <br>\n",
    "**translate()**\tReturns a translated string <br>\n",
    "**upper()**\tConverts a string into upper case <br>\n",
    "**zfill()**\tFills the string with a specified number of 0 values at the beginning\n"
   ]
  },
  {
   "cell_type": "code",
   "execution_count": null,
   "id": "044b127f",
   "metadata": {},
   "outputs": [],
   "source": []
  }
 ],
 "metadata": {
  "kernelspec": {
   "display_name": "Python 3 (ipykernel)",
   "language": "python",
   "name": "python3"
  },
  "language_info": {
   "codemirror_mode": {
    "name": "ipython",
    "version": 3
   },
   "file_extension": ".py",
   "mimetype": "text/x-python",
   "name": "python",
   "nbconvert_exporter": "python",
   "pygments_lexer": "ipython3",
   "version": "3.9.12"
  }
 },
 "nbformat": 4,
 "nbformat_minor": 5
}
