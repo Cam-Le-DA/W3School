{
 "cells": [
  {
   "cell_type": "markdown",
   "id": "f70304dc",
   "metadata": {},
   "source": [
    "### Python Classes/Objects\n",
    "Python is an object oriented programming language.\n",
    "\n",
    "Almost everything in Python is an object, with its properties and methods.\n",
    "\n",
    "A Class is like an object constructor, or a \"blueprint\" for creating objects."
   ]
  },
  {
   "cell_type": "code",
   "execution_count": 2,
   "id": "c1b0a03e",
   "metadata": {},
   "outputs": [
    {
     "name": "stdout",
     "output_type": "stream",
     "text": [
      "<class '__main__.MyClass'>\n"
     ]
    }
   ],
   "source": [
    "# CREATE A CLASS\n",
    "# To create a class, use the keyword class:\n",
    "\n",
    "# Create a class named MyClass, with a property named x:\n",
    "\n",
    "class MyClass:\n",
    "    x = 5\n",
    "print(MyClass)"
   ]
  },
  {
   "cell_type": "code",
   "execution_count": 3,
   "id": "2ee3f0ca",
   "metadata": {},
   "outputs": [
    {
     "name": "stdout",
     "output_type": "stream",
     "text": [
      "5\n"
     ]
    }
   ],
   "source": [
    "# CREATE OBJECT\n",
    "# Now we can use the class named MyClass to create objects:\n",
    "\n",
    "# Create an object named p1, and print the value of x:\n",
    "p1 = MyClass()\n",
    "print(p1.x)"
   ]
  },
  {
   "cell_type": "markdown",
   "id": "9efc2116",
   "metadata": {},
   "source": [
    "### The __init__() Function\n",
    "The examples above are classes and objects in their simplest form, and are not really useful in real life applications.\n",
    "\n",
    "To understand the meaning of classes we have to understand the built-in __init__() function.\n",
    "\n",
    "All classes have a function called __init__(), which is always executed when the class is being initiated.\n",
    "\n",
    "Use the __init__() function to assign values to object properties, or other operations that are necessary to do when the object is being created:"
   ]
  },
  {
   "cell_type": "code",
   "execution_count": 4,
   "id": "960f53f6",
   "metadata": {},
   "outputs": [
    {
     "name": "stdout",
     "output_type": "stream",
     "text": [
      "John\n",
      "36\n"
     ]
    }
   ],
   "source": [
    "# Create a class named Person, use the __init__() function to assign values for name and age:\n",
    "\n",
    "class Person:\n",
    "    def __init__(self, name, age):\n",
    "        self.name = name\n",
    "        self.age = age\n",
    "        \n",
    "P1 = Person('John', 36)\n",
    "print(P1.name)\n",
    "print(P1.age)\n",
    "\n",
    "# Note: The __init__() function is called automatically every time the class is being used to create a new object."
   ]
  },
  {
   "cell_type": "markdown",
   "id": "9c9f3acd",
   "metadata": {},
   "source": [
    "### The __str__() Function\n",
    "The __str__() function controls what should be returned when the class object is represented as a string.\n",
    "\n",
    "If the __str__() function is not set, the string representation of the object is returned:"
   ]
  },
  {
   "cell_type": "code",
   "execution_count": 5,
   "id": "bd4c21d0",
   "metadata": {},
   "outputs": [
    {
     "name": "stdout",
     "output_type": "stream",
     "text": [
      "<__main__.Person object at 0x00000176F51F30D0>\n"
     ]
    }
   ],
   "source": [
    "# The string representation of an object WITHOUT the __str__() function:\n",
    "print(P1)"
   ]
  },
  {
   "cell_type": "code",
   "execution_count": 7,
   "id": "f0b2e462",
   "metadata": {},
   "outputs": [
    {
     "name": "stdout",
     "output_type": "stream",
     "text": [
      "John(36)\n"
     ]
    }
   ],
   "source": [
    "# The string representation of an object WITH the __str__() function:\n",
    "\n",
    "class Person:\n",
    "    def __init__(self, name, age):\n",
    "        self.name = name\n",
    "        self.age = age\n",
    "        \n",
    "    def __str__(self):\n",
    "        return f\"{self.name}({self.age})\"\n",
    "    \n",
    "P1 = Person('John', 36)\n",
    "print(P1)"
   ]
  },
  {
   "cell_type": "markdown",
   "id": "ab1e1114",
   "metadata": {},
   "source": [
    "### Object Methods\n",
    "Objects can also contain methods. Methods in objects are functions that belong to the object.\n",
    "\n",
    "Let us create a method in the Person class:"
   ]
  },
  {
   "cell_type": "code",
   "execution_count": 10,
   "id": "52b49b0d",
   "metadata": {},
   "outputs": [
    {
     "name": "stdout",
     "output_type": "stream",
     "text": [
      "My name is John\n"
     ]
    }
   ],
   "source": [
    "# Insert a function that prints a greeting, and execute it on the p1 object:\n",
    "\n",
    "class Person:\n",
    "    def __init__(self, name, age):\n",
    "        self.name = name\n",
    "        self.age = age\n",
    "        \n",
    "    def myfunc(self):\n",
    "        print('My name is', self.name)\n",
    "        \n",
    "p1 = Person('John',36)\n",
    "p1.myfunc()"
   ]
  },
  {
   "cell_type": "markdown",
   "id": "85b9463e",
   "metadata": {},
   "source": [
    "### The self Parameter\n",
    "The self parameter is a reference to the current instance of the class, and is used to access variables that belongs to the class.\n",
    "\n",
    "It does not have to be named self , you can call it whatever you like, but it has to be the first parameter of any function in the class:"
   ]
  },
  {
   "cell_type": "code",
   "execution_count": 21,
   "id": "c6be0316",
   "metadata": {},
   "outputs": [
    {
     "name": "stdout",
     "output_type": "stream",
     "text": [
      "Hello, my name is John\n"
     ]
    }
   ],
   "source": [
    "# Use the words mysillyobject and abc instead of self:\n",
    "\n",
    "class MyClass:\n",
    "    def __init__(mysillyobject, name, age):\n",
    "        mysillyobject.name = name\n",
    "        mysillyobject.age = age\n",
    "        \n",
    "    def myfunc(abc):\n",
    "        print('Hello, my name is', abc.name)\n",
    "        \n",
    "p1 = MyClass('John', 36)\n",
    "p1.myfunc()"
   ]
  },
  {
   "cell_type": "code",
   "execution_count": 17,
   "id": "1e7498b2",
   "metadata": {},
   "outputs": [
    {
     "name": "stdout",
     "output_type": "stream",
     "text": [
      "40\n"
     ]
    }
   ],
   "source": [
    "# MODIFY OBJECT PROPERTIES\n",
    "# You can modify properties on objects like this:\n",
    "\n",
    "p1.age = 40\n",
    "print(p1.age)"
   ]
  },
  {
   "cell_type": "code",
   "execution_count": 18,
   "id": "b3a6f1e2",
   "metadata": {},
   "outputs": [
    {
     "ename": "AttributeError",
     "evalue": "'MyClass' object has no attribute 'age'",
     "output_type": "error",
     "traceback": [
      "\u001b[1;31m---------------------------------------------------------------------------\u001b[0m",
      "\u001b[1;31mAttributeError\u001b[0m                            Traceback (most recent call last)",
      "Input \u001b[1;32mIn [18]\u001b[0m, in \u001b[0;36m<cell line: 5>\u001b[1;34m()\u001b[0m\n\u001b[0;32m      1\u001b[0m \u001b[38;5;66;03m# DELETE OBJECT PROPERTIES\u001b[39;00m\n\u001b[0;32m      2\u001b[0m \u001b[38;5;66;03m# You can delete properties on objects by using the del keyword:\u001b[39;00m\n\u001b[0;32m      4\u001b[0m \u001b[38;5;28;01mdel\u001b[39;00m p1\u001b[38;5;241m.\u001b[39mage\n\u001b[1;32m----> 5\u001b[0m \u001b[38;5;28mprint\u001b[39m(\u001b[43mp1\u001b[49m\u001b[38;5;241;43m.\u001b[39;49m\u001b[43mage\u001b[49m)\n",
      "\u001b[1;31mAttributeError\u001b[0m: 'MyClass' object has no attribute 'age'"
     ]
    }
   ],
   "source": [
    "# DELETE OBJECT PROPERTIES\n",
    "# You can delete properties on objects by using the del keyword:\n",
    "\n",
    "del p1.age\n",
    "print(p1.age)"
   ]
  },
  {
   "cell_type": "code",
   "execution_count": 19,
   "id": "852641d2",
   "metadata": {},
   "outputs": [
    {
     "ename": "NameError",
     "evalue": "name 'p1' is not defined",
     "output_type": "error",
     "traceback": [
      "\u001b[1;31m---------------------------------------------------------------------------\u001b[0m",
      "\u001b[1;31mNameError\u001b[0m                                 Traceback (most recent call last)",
      "Input \u001b[1;32mIn [19]\u001b[0m, in \u001b[0;36m<cell line: 5>\u001b[1;34m()\u001b[0m\n\u001b[0;32m      1\u001b[0m \u001b[38;5;66;03m# DELETE OBJECT\u001b[39;00m\n\u001b[0;32m      2\u001b[0m \u001b[38;5;66;03m# You can delete objects by using the del keyword:\u001b[39;00m\n\u001b[0;32m      4\u001b[0m \u001b[38;5;28;01mdel\u001b[39;00m p1\n\u001b[1;32m----> 5\u001b[0m \u001b[38;5;28mprint\u001b[39m(\u001b[43mp1\u001b[49m)\n",
      "\u001b[1;31mNameError\u001b[0m: name 'p1' is not defined"
     ]
    }
   ],
   "source": [
    "# DELETE OBJECT\n",
    "# You can delete objects by using the del keyword:\n",
    "\n",
    "del p1\n",
    "print(p1)"
   ]
  },
  {
   "cell_type": "code",
   "execution_count": 20,
   "id": "7f667b82",
   "metadata": {},
   "outputs": [],
   "source": [
    "# THE PASS STATEMENT\n",
    "# class definitions cannot be empty, but if you for some reason have a class definition with no content, put in the pass\n",
    "# statement to avoid getting an error.\n",
    "\n",
    "class MyClass:\n",
    "    pass\n"
   ]
  },
  {
   "cell_type": "code",
   "execution_count": null,
   "id": "3d8bd502",
   "metadata": {},
   "outputs": [],
   "source": []
  }
 ],
 "metadata": {
  "kernelspec": {
   "display_name": "Python 3 (ipykernel)",
   "language": "python",
   "name": "python3"
  },
  "language_info": {
   "codemirror_mode": {
    "name": "ipython",
    "version": 3
   },
   "file_extension": ".py",
   "mimetype": "text/x-python",
   "name": "python",
   "nbconvert_exporter": "python",
   "pygments_lexer": "ipython3",
   "version": "3.9.12"
  }
 },
 "nbformat": 4,
 "nbformat_minor": 5
}
