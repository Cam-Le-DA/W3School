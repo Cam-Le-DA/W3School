{
 "cells": [
  {
   "cell_type": "markdown",
   "id": "aed15482",
   "metadata": {},
   "source": [
    "### Python Iterators\n",
    "An iterator is an object that contains a countable number of values.\n",
    "\n",
    "An iterator is an object that can be iterated upon, meaning that you can traverse through all the values.\n",
    "\n",
    "Technically, in Python, an iterator is an object which implements the iterator protocol, which consist of the methods __iter__() and __next__().\n",
    "\n",
    "### Iterator vs Iterable\n",
    "Lists, tuples, dictionaries, and sets are all iterable objects. They are iterable containers which you can get an iterator from.\n",
    "\n",
    "All these objects have a iter() method which is used to get an iterator:"
   ]
  },
  {
   "cell_type": "code",
   "execution_count": 1,
   "id": "425e41a2",
   "metadata": {},
   "outputs": [
    {
     "name": "stdout",
     "output_type": "stream",
     "text": [
      "apple\n",
      "banana\n",
      "mango\n"
     ]
    }
   ],
   "source": [
    "# Return an iterator from a tuple, and print each value:\n",
    "mytuple = ('apple','banana','mango')\n",
    "myit = iter(mytuple)\n",
    "\n",
    "print(next(myit))\n",
    "print(next(myit))\n",
    "print(next(myit))"
   ]
  },
  {
   "cell_type": "code",
   "execution_count": 2,
   "id": "5331ffbf",
   "metadata": {},
   "outputs": [
    {
     "name": "stdout",
     "output_type": "stream",
     "text": [
      "b\n",
      "a\n",
      "n\n",
      "a\n",
      "n\n",
      "a\n"
     ]
    }
   ],
   "source": [
    "# Even strings are iterable objects, and can return an iterator:\n",
    "mystring = 'banana'\n",
    "myit = iter(mystring)\n",
    "\n",
    "print(next(myit))\n",
    "print(next(myit))\n",
    "print(next(myit))\n",
    "print(next(myit))\n",
    "print(next(myit))\n",
    "print(next(myit))"
   ]
  },
  {
   "cell_type": "code",
   "execution_count": 3,
   "id": "78b44ca1",
   "metadata": {},
   "outputs": [
    {
     "name": "stdout",
     "output_type": "stream",
     "text": [
      "banana\n",
      "apple\n",
      "cherry\n"
     ]
    }
   ],
   "source": [
    "# LOOPING THROUGH AN ITERATOR\n",
    "# We can also use a for loop to iterate through an iterable object:\n",
    "\n",
    "# Iterate the values of a tuple:\n",
    "mytuple =('banana','apple','cherry')\n",
    "for x in mytuple:\n",
    "    print(x)"
   ]
  },
  {
   "cell_type": "code",
   "execution_count": 4,
   "id": "41a2c60d",
   "metadata": {},
   "outputs": [
    {
     "name": "stdout",
     "output_type": "stream",
     "text": [
      "a\n",
      "p\n",
      "p\n",
      "l\n",
      "e\n"
     ]
    }
   ],
   "source": [
    "# Iterate the characters of a string:\n",
    "mystring = 'apple'\n",
    "for x in mystring:\n",
    "    print(x)\n",
    "    \n",
    "# The for loop actually creates an iterator object and executes the next() method for each loop."
   ]
  },
  {
   "cell_type": "markdown",
   "id": "bf832cb9",
   "metadata": {},
   "source": [
    "### Create an Iterator\n",
    "To create an object/class as an iterator you have to implement the methods __iter__() and __next__() to your object.\n",
    "\n",
    "As you have learned in the Python Classes/Objects chapter, all classes have a function called __init__(), which allows you to do some initializing when the object is being created.\n",
    "\n",
    "The __iter__() method acts similar, you can do operations (initializing etc.), but must always return the iterator object itself.\n",
    "\n",
    "The __next__() method also allows you to do operations, and must return the next item in the sequence."
   ]
  },
  {
   "cell_type": "code",
   "execution_count": 5,
   "id": "2f231a38",
   "metadata": {},
   "outputs": [
    {
     "name": "stdout",
     "output_type": "stream",
     "text": [
      "1\n",
      "2\n",
      "3\n",
      "4\n",
      "5\n"
     ]
    }
   ],
   "source": [
    "# Create an iterator that returns numbers, starting with 1, and each sequence will increase by one (returning 1,2,3,4,5 etc.):\n",
    "\n",
    "class MyNumbers:\n",
    "    def __iter__(self):\n",
    "        self.a = 1\n",
    "        return self\n",
    "    \n",
    "    def __next__(self):\n",
    "        x = self.a\n",
    "        self.a += 1\n",
    "        return x\n",
    "    \n",
    "myclass = MyNumbers()\n",
    "myit = iter(myclass)\n",
    "\n",
    "print(next(myit))\n",
    "print(next(myit))\n",
    "print(next(myit))\n",
    "print(next(myit))\n",
    "print(next(myit))"
   ]
  },
  {
   "cell_type": "markdown",
   "id": "258a8071",
   "metadata": {},
   "source": [
    "### StopIteration\n",
    "The example above would continue forever if you had enough next() statements, or if it was used in a for loop.\n",
    "\n",
    "To prevent the iteration to go on forever, we can use the StopIteration statement.\n",
    "\n",
    "In the __next__() method, we can add a terminating condition to raise an error if the iteration is done a specified number of times:"
   ]
  },
  {
   "cell_type": "code",
   "execution_count": 1,
   "id": "8ef54314",
   "metadata": {},
   "outputs": [
    {
     "name": "stdout",
     "output_type": "stream",
     "text": [
      "1\n",
      "2\n",
      "3\n",
      "4\n",
      "5\n",
      "6\n",
      "7\n",
      "8\n",
      "9\n",
      "10\n",
      "11\n",
      "12\n",
      "13\n",
      "14\n",
      "15\n",
      "16\n",
      "17\n",
      "18\n",
      "19\n",
      "20\n"
     ]
    }
   ],
   "source": [
    "# Stop after 20 iterations:\n",
    "\n",
    "class MyClass:\n",
    "    def __iter__(self):\n",
    "        self.a = 1\n",
    "        return self\n",
    "    \n",
    "    def __next__(self):\n",
    "        if self.a <= 20:\n",
    "            x = self.a\n",
    "            self.a += 1\n",
    "            return x\n",
    "        else:\n",
    "            raise StopIteration\n",
    "            \n",
    "aclass = MyClass()\n",
    "myit = iter(aclass)\n",
    "\n",
    "for x in myit:\n",
    "    print(x)"
   ]
  },
  {
   "cell_type": "code",
   "execution_count": null,
   "id": "9bebcb0c",
   "metadata": {},
   "outputs": [],
   "source": []
  }
 ],
 "metadata": {
  "kernelspec": {
   "display_name": "Python 3 (ipykernel)",
   "language": "python",
   "name": "python3"
  },
  "language_info": {
   "codemirror_mode": {
    "name": "ipython",
    "version": 3
   },
   "file_extension": ".py",
   "mimetype": "text/x-python",
   "name": "python",
   "nbconvert_exporter": "python",
   "pygments_lexer": "ipython3",
   "version": "3.9.12"
  }
 },
 "nbformat": 4,
 "nbformat_minor": 5
}
