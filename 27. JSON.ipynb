{
 "cells": [
  {
   "cell_type": "markdown",
   "id": "c0f628e4",
   "metadata": {},
   "source": [
    "JSON is a syntax for storing and exchanging data.\n",
    "\n",
    "JSON is text, written with JavaScript object notation.\n",
    "\n",
    "### JSON in Python\n",
    "Python has a built-in package called json, which can be used to work with JSON data."
   ]
  },
  {
   "cell_type": "markdown",
   "id": "9be12439",
   "metadata": {},
   "source": [
    "### Parse JSON - Convert from JSON to Python\n",
    "If you have a JSON string, you can parse it by using the json.loads() method.\n",
    "\n",
    "The result will be a Python dictionary."
   ]
  },
  {
   "cell_type": "code",
   "execution_count": 5,
   "id": "69d657e1",
   "metadata": {},
   "outputs": [
    {
     "name": "stdout",
     "output_type": "stream",
     "text": [
      "{'name': 'John', 'age': 36, 'city': 'New York'}\n"
     ]
    }
   ],
   "source": [
    "# Convert from JSON to Python:\n",
    "import json\n",
    "\n",
    "# some json:\n",
    "x = '{ \"name\":\"John\",\"age\":36,\"city\":\"New York\"}'\n",
    "\n",
    "# parse x:\n",
    "y = json.loads(x)\n",
    "\n",
    "# the result is a python dictionary\n",
    "print(y)"
   ]
  },
  {
   "cell_type": "markdown",
   "id": "d0bfb0d0",
   "metadata": {},
   "source": [
    "### Convert from Python to JSON\n",
    "If you have a Python object, you can convert it into a JSON string by using the json.dumps() method."
   ]
  },
  {
   "cell_type": "code",
   "execution_count": 6,
   "id": "ab631ebf",
   "metadata": {},
   "outputs": [
    {
     "name": "stdout",
     "output_type": "stream",
     "text": [
      "{\"brand\": \"Toyota\", \"model\": \"Venza\", \"year\": 2013}\n"
     ]
    }
   ],
   "source": [
    "# Convert from Python to JSON:\n",
    "x = {'brand':'Toyota','model':'Venza','year':2013}\n",
    "\n",
    "# convert into JSON:\n",
    "y = json.dumps(x)\n",
    "\n",
    "# the result is a JSON string:\n",
    "print(y)"
   ]
  },
  {
   "cell_type": "markdown",
   "id": "d27ca071",
   "metadata": {},
   "source": [
    "You can convert Python objects of the following types, into JSON strings:\n",
    "\n",
    "dict<br>\n",
    "list<br>\n",
    "tuple<br>\n",
    "string<br>\n",
    "int<br>\n",
    "float<br>\n",
    "True<br>\n",
    "False<br>\n",
    "None"
   ]
  },
  {
   "cell_type": "code",
   "execution_count": 7,
   "id": "89e9f92c",
   "metadata": {},
   "outputs": [
    {
     "name": "stdout",
     "output_type": "stream",
     "text": [
      "{\"name\": \"John\", \"age\": 36}\n",
      "[\"Honda\", \"Toyota\"]\n",
      "[\"rose\", \"tulip\"]\n",
      "\"string\"\n",
      "1\n",
      "2.3\n",
      "true\n",
      "false\n",
      "null\n"
     ]
    }
   ],
   "source": [
    "import json\n",
    "\n",
    "print(json.dumps({'name':'John','age':36}))\n",
    "print(json.dumps(['Honda','Toyota']))\n",
    "print(json.dumps(('rose','tulip')))\n",
    "print(json.dumps('string'))\n",
    "print(json.dumps(1))\n",
    "print(json.dumps(2.3))\n",
    "print(json.dumps(True))\n",
    "print(json.dumps(False))\n",
    "print(json.dumps(None))"
   ]
  },
  {
   "cell_type": "markdown",
   "id": "016d56a8",
   "metadata": {},
   "source": [
    "When you convert from Python to JSON, Python objects are converted into the JSON (JavaScript) equivalent:\n",
    "\n",
    "Python\tJSON<br>\n",
    "**dict**\tObject<br>\n",
    "**list**\tArray<br>\n",
    "**tuple**\tArray<br>\n",
    "**str**\tString<br>\n",
    "**int**\tNumber<br>\n",
    "**float**\tNumber<br>\n",
    "**True**\ttrue<br>\n",
    "**False**\tfalse<br>\n",
    "**None**\tnull\n"
   ]
  },
  {
   "cell_type": "code",
   "execution_count": 8,
   "id": "20f7b8f0",
   "metadata": {},
   "outputs": [
    {
     "name": "stdout",
     "output_type": "stream",
     "text": [
      "{\"name\": \"John\", \"age\": 30, \"married\": true, \"divorced\": false, \"children\": [\"Ann\", \"Billy\"], \"pets\": null, \"cars\": [{\"model\": \"BMW 230\", \"mpg\": 27.5}, {\"model\": \"Ford Edge\", \"mpg\": 24.1}]}\n"
     ]
    }
   ],
   "source": [
    "import json\n",
    "\n",
    "x = {\n",
    "  \"name\": \"John\",\n",
    "  \"age\": 30,\n",
    "  \"married\": True,\n",
    "  \"divorced\": False,\n",
    "  \"children\": (\"Ann\",\"Billy\"),\n",
    "  \"pets\": None,\n",
    "  \"cars\": [\n",
    "    {\"model\": \"BMW 230\", \"mpg\": 27.5},\n",
    "    {\"model\": \"Ford Edge\", \"mpg\": 24.1}\n",
    "  ]\n",
    "}\n",
    "\n",
    "print(json.dumps(x))"
   ]
  },
  {
   "cell_type": "markdown",
   "id": "eef5ad91",
   "metadata": {},
   "source": [
    "### Format the Result\n",
    "The example above prints a JSON string, but it is not very easy to read, with no indentations and line breaks.\n",
    "\n",
    "The json.dumps() method has parameters to make it easier to read the result:"
   ]
  },
  {
   "cell_type": "code",
   "execution_count": 9,
   "id": "2b81409a",
   "metadata": {},
   "outputs": [
    {
     "name": "stdout",
     "output_type": "stream",
     "text": [
      "{\n",
      "    \"name\": \"John\",\n",
      "    \"age\": 30,\n",
      "    \"married\": true,\n",
      "    \"divorced\": false,\n",
      "    \"children\": [\n",
      "        \"Ann\",\n",
      "        \"Billy\"\n",
      "    ],\n",
      "    \"pets\": null,\n",
      "    \"cars\": [\n",
      "        {\n",
      "            \"model\": \"BMW 230\",\n",
      "            \"mpg\": 27.5\n",
      "        },\n",
      "        {\n",
      "            \"model\": \"Ford Edge\",\n",
      "            \"mpg\": 24.1\n",
      "        }\n",
      "    ]\n",
      "}\n"
     ]
    }
   ],
   "source": [
    "# Use the indent parameter to define the numbers of indents:\n",
    "print(json.dumps(x, indent=4))"
   ]
  },
  {
   "cell_type": "markdown",
   "id": "2625f97b",
   "metadata": {},
   "source": [
    "You can also define the separators, default value is (\", \", \": \"), which means using a comma and a space to separate each object, and a colon and a space to separate keys from values:"
   ]
  },
  {
   "cell_type": "code",
   "execution_count": 12,
   "id": "33d9175d",
   "metadata": {},
   "outputs": [
    {
     "name": "stdout",
     "output_type": "stream",
     "text": [
      "{\n",
      "    \"name\" = \"John\". \n",
      "    \"age\" = 30. \n",
      "    \"married\" = true. \n",
      "    \"divorced\" = false. \n",
      "    \"children\" = [\n",
      "        \"Ann\". \n",
      "        \"Billy\"\n",
      "    ]. \n",
      "    \"pets\" = null. \n",
      "    \"cars\" = [\n",
      "        {\n",
      "            \"model\" = \"BMW 230\". \n",
      "            \"mpg\" = 27.5\n",
      "        }. \n",
      "        {\n",
      "            \"model\" = \"Ford Edge\". \n",
      "            \"mpg\" = 24.1\n",
      "        }\n",
      "    ]\n",
      "}\n"
     ]
    }
   ],
   "source": [
    "# Use the separators parameter to change the default separator:\n",
    "print(json.dumps(x, indent = 4, separators = ('. ',' = ')))\n",
    "\n",
    "# use . and a space to separate objects, and a space, a = and a space to separate keys from their values:"
   ]
  },
  {
   "cell_type": "markdown",
   "id": "96e6f93b",
   "metadata": {},
   "source": [
    "### Order the Result\n",
    "The json.dumps() method has parameters to order the keys in the result:"
   ]
  },
  {
   "cell_type": "code",
   "execution_count": 13,
   "id": "bd087c1d",
   "metadata": {},
   "outputs": [
    {
     "name": "stdout",
     "output_type": "stream",
     "text": [
      "{\n",
      "    \"age\": 30,\n",
      "    \"cars\": [\n",
      "        {\n",
      "            \"model\": \"BMW 230\",\n",
      "            \"mpg\": 27.5\n",
      "        },\n",
      "        {\n",
      "            \"model\": \"Ford Edge\",\n",
      "            \"mpg\": 24.1\n",
      "        }\n",
      "    ],\n",
      "    \"children\": [\n",
      "        \"Ann\",\n",
      "        \"Billy\"\n",
      "    ],\n",
      "    \"divorced\": false,\n",
      "    \"married\": true,\n",
      "    \"name\": \"John\",\n",
      "    \"pets\": null\n",
      "}\n"
     ]
    }
   ],
   "source": [
    "# Use the sort_keys parameter to specify if the result should be sorted or not:\n",
    "\n",
    "print(json.dumps(x, indent = 4, sort_keys = True))"
   ]
  },
  {
   "cell_type": "code",
   "execution_count": null,
   "id": "f38a274c",
   "metadata": {},
   "outputs": [],
   "source": []
  }
 ],
 "metadata": {
  "kernelspec": {
   "display_name": "Python 3 (ipykernel)",
   "language": "python",
   "name": "python3"
  },
  "language_info": {
   "codemirror_mode": {
    "name": "ipython",
    "version": 3
   },
   "file_extension": ".py",
   "mimetype": "text/x-python",
   "name": "python",
   "nbconvert_exporter": "python",
   "pygments_lexer": "ipython3",
   "version": "3.9.12"
  }
 },
 "nbformat": 4,
 "nbformat_minor": 5
}
