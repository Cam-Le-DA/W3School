{
 "cells": [
  {
   "cell_type": "markdown",
   "id": "1d2c2e49",
   "metadata": {},
   "source": [
    "To make sure a string will display as expected, we can format the result with the format() method.\n",
    "\n",
    "### String format()\n",
    "The format() method allows you to format selected parts of a string.\n",
    "\n",
    "Sometimes there are parts of a text that you do not control, maybe they come from a database, or user input?\n",
    "\n",
    "To control such values, add placeholders (curly brackets {}) in the text, and run the values through the format() method:"
   ]
  },
  {
   "cell_type": "code",
   "execution_count": 1,
   "id": "5859d674",
   "metadata": {},
   "outputs": [
    {
     "name": "stdout",
     "output_type": "stream",
     "text": [
      "The price is 49 dollars\n"
     ]
    }
   ],
   "source": [
    "# Add a placeholder where you want to display the price:\n",
    "price = 49\n",
    "txt = 'The price is {} dollars'\n",
    "print(txt.format(price))"
   ]
  },
  {
   "cell_type": "code",
   "execution_count": 2,
   "id": "8528755f",
   "metadata": {},
   "outputs": [
    {
     "name": "stdout",
     "output_type": "stream",
     "text": [
      "The price is 49.00 dollars\n"
     ]
    }
   ],
   "source": [
    "# You can add parameters inside the curly brackets to specify how to convert the value:\n",
    "# Format the price to be displayed as a number with two decimals:\n",
    "\n",
    "txt = 'The price is {:.2f} dollars'\n",
    "print(txt.format(price))"
   ]
  },
  {
   "cell_type": "markdown",
   "id": "4654b946",
   "metadata": {},
   "source": [
    "Check out all formatting types in our String format() Reference.\n",
    "\n",
    "### Multiple Values\n",
    "If you want to use more values, just add more values to the format() method:"
   ]
  },
  {
   "cell_type": "code",
   "execution_count": 3,
   "id": "71b16300",
   "metadata": {},
   "outputs": [
    {
     "name": "stdout",
     "output_type": "stream",
     "text": [
      "I want 3 pieces of item number 547 for 49.00 dollars\n"
     ]
    }
   ],
   "source": [
    "# And add more placeholders:\n",
    "quantity = 3\n",
    "itemno = 547\n",
    "price = 49\n",
    "\n",
    "myorder = 'I want {} pieces of item number {} for {:.2f} dollars'\n",
    "print(myorder.format(quantity,itemno,price))"
   ]
  },
  {
   "cell_type": "markdown",
   "id": "ad7c298e",
   "metadata": {},
   "source": [
    "### Index Numbers\n",
    "You can use index numbers (a number inside the curly brackets {0}) to be sure the values are placed in the correct placeholders:"
   ]
  },
  {
   "cell_type": "code",
   "execution_count": 4,
   "id": "be53a74c",
   "metadata": {},
   "outputs": [
    {
     "name": "stdout",
     "output_type": "stream",
     "text": [
      "I want 3 pieces of item number 547 for 49.00 dollars\n"
     ]
    }
   ],
   "source": [
    "myorder = 'I want {0} pieces of item number {1} for {2:.2f} dollars'\n",
    "print(myorder.format(quantity,itemno,price))"
   ]
  },
  {
   "cell_type": "code",
   "execution_count": 6,
   "id": "f161f303",
   "metadata": {},
   "outputs": [
    {
     "name": "stdout",
     "output_type": "stream",
     "text": [
      "His name is John.John is 36 years old\n"
     ]
    }
   ],
   "source": [
    "# Also, if you want to refer to the same value more than once, use the index number:\n",
    "age = 36\n",
    "name = 'John'\n",
    "txt = 'His name is {1}.{1} is {0} years old'\n",
    "print(txt.format(age,name))"
   ]
  },
  {
   "cell_type": "markdown",
   "id": "58415a7a",
   "metadata": {},
   "source": [
    "### Named Indexes\n",
    "You can also use named indexes by entering a name inside the curly brackets {carname}, but then you must use names when you pass the parameter values txt.format(carname = \"Ford\"):"
   ]
  },
  {
   "cell_type": "code",
   "execution_count": 8,
   "id": "fa252112",
   "metadata": {},
   "outputs": [
    {
     "name": "stdout",
     "output_type": "stream",
     "text": [
      "I have a Toyota, it is a Venza\n"
     ]
    }
   ],
   "source": [
    "myorder = 'I have a {carname}, it is a {model}'\n",
    "print(myorder.format(carname = 'Toyota', model = 'Venza'))"
   ]
  },
  {
   "cell_type": "code",
   "execution_count": null,
   "id": "4f08a138",
   "metadata": {},
   "outputs": [],
   "source": []
  }
 ],
 "metadata": {
  "kernelspec": {
   "display_name": "Python 3 (ipykernel)",
   "language": "python",
   "name": "python3"
  },
  "language_info": {
   "codemirror_mode": {
    "name": "ipython",
    "version": 3
   },
   "file_extension": ".py",
   "mimetype": "text/x-python",
   "name": "python",
   "nbconvert_exporter": "python",
   "pygments_lexer": "ipython3",
   "version": "3.9.12"
  }
 },
 "nbformat": 4,
 "nbformat_minor": 5
}
