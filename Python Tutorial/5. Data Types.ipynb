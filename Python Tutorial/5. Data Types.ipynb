{
 "cells": [
  {
   "cell_type": "markdown",
   "id": "1c49528d",
   "metadata": {},
   "source": [
    "### Built-in Data Types\n",
    "\n",
    "In programming, data type is an important concept.<br>\n",
    "Variables can store data of different types, and different types can do different things.<br>\n",
    "Python has the following data types built-in by default, in these categories:\n",
    "\n",
    "Text Type:\t*str* <br>\n",
    "Numeric Types:\t*int, float, complex* <br>\n",
    "Sequence Types:\t*list, tuple, range* <br>\n",
    "Mapping Type:\t*dict* <br>\n",
    "Set Types:\t*set, frozenset* <br>\n",
    "Boolean Type:\t*bool* <br>\n",
    "Binary Types:\t*bytes, bytearray, memoryview* <br>\n",
    "None Type:\t*NoneType*"
   ]
  },
  {
   "cell_type": "code",
   "execution_count": 1,
   "id": "91be438a",
   "metadata": {},
   "outputs": [
    {
     "name": "stdout",
     "output_type": "stream",
     "text": [
      "<class 'int'>\n"
     ]
    }
   ],
   "source": [
    "# You can get the data type of any object by using the type() function:\n",
    "x = 5\n",
    "print(type(x))"
   ]
  },
  {
   "cell_type": "code",
   "execution_count": 2,
   "id": "ae823bd2",
   "metadata": {},
   "outputs": [
    {
     "name": "stdout",
     "output_type": "stream",
     "text": [
      "<class 'str'>\n",
      "<class 'int'>\n",
      "<class 'float'>\n"
     ]
    }
   ],
   "source": [
    "# In Python, the data type is set when you assign a value to a variable:\n",
    "x = 'Hello'\n",
    "y = 20\n",
    "z = 1.5\n",
    "\n",
    "print(type(x))\n",
    "print(type(y))\n",
    "print(type(z))"
   ]
  },
  {
   "cell_type": "code",
   "execution_count": 3,
   "id": "ebc78063",
   "metadata": {},
   "outputs": [
    {
     "name": "stdout",
     "output_type": "stream",
     "text": [
      "<class 'complex'>\n",
      "<class 'list'>\n",
      "<class 'tuple'>\n"
     ]
    }
   ],
   "source": [
    "x = 1j\n",
    "y = ['banana', 'cherry', 'orange']\n",
    "z= ('banana', 'cherry', 'orange')\n",
    "\n",
    "print(type(x))\n",
    "print(type(y))\n",
    "print(type(z))"
   ]
  },
  {
   "cell_type": "code",
   "execution_count": 4,
   "id": "f29ed97a",
   "metadata": {},
   "outputs": [
    {
     "name": "stdout",
     "output_type": "stream",
     "text": [
      "<class 'range'>\n",
      "<class 'dict'>\n",
      "<class 'set'>\n"
     ]
    }
   ],
   "source": [
    "x = range(6)\n",
    "y = {'name':'John','age':36}\n",
    "z = {'banana','cherry','orange'}\n",
    "\n",
    "print(type(x))\n",
    "print(type(y))\n",
    "print(type(z))"
   ]
  },
  {
   "cell_type": "code",
   "execution_count": 5,
   "id": "2878f9ee",
   "metadata": {},
   "outputs": [
    {
     "name": "stdout",
     "output_type": "stream",
     "text": [
      "<class 'frozenset'>\n",
      "<class 'bool'>\n",
      "<class 'bytes'>\n"
     ]
    }
   ],
   "source": [
    "x = frozenset({'banana','cherry','orange'})\n",
    "y = True\n",
    "z = b'Hello'\n",
    "\n",
    "print(type(x))\n",
    "print(type(y))\n",
    "print(type(z))"
   ]
  },
  {
   "cell_type": "code",
   "execution_count": 6,
   "id": "e4118e82",
   "metadata": {},
   "outputs": [
    {
     "name": "stdout",
     "output_type": "stream",
     "text": [
      "<class 'bytearray'>\n",
      "<class 'memoryview'>\n",
      "<class 'NoneType'>\n"
     ]
    }
   ],
   "source": [
    "x = bytearray(5)\n",
    "y = memoryview(bytes(5))\n",
    "z = None\n",
    "\n",
    "print(type(x))\n",
    "print(type(y))\n",
    "print(type(z))"
   ]
  },
  {
   "cell_type": "code",
   "execution_count": 7,
   "id": "aebbb848",
   "metadata": {},
   "outputs": [
    {
     "name": "stdout",
     "output_type": "stream",
     "text": [
      "<class 'str'>\n",
      "<class 'int'>\n",
      "<class 'float'>\n"
     ]
    }
   ],
   "source": [
    "# If you want to specify the data type, you can use the following constructor functions:\n",
    "x = str('Hello')\n",
    "y = int(20)\n",
    "z = float(1.5)\n",
    "\n",
    "print(type(x))\n",
    "print(type(y))\n",
    "print(type(z))"
   ]
  },
  {
   "cell_type": "code",
   "execution_count": 8,
   "id": "f288be81",
   "metadata": {},
   "outputs": [
    {
     "name": "stdout",
     "output_type": "stream",
     "text": [
      "<class 'complex'>\n",
      "<class 'list'>\n",
      "<class 'tuple'>\n"
     ]
    }
   ],
   "source": [
    "x = complex(1j)\n",
    "y = list(('banana', 'cherry', 'orange'))\n",
    "z= tuple(('banana', 'cherry', 'orange'))\n",
    "\n",
    "print(type(x))\n",
    "print(type(y))\n",
    "print(type(z))"
   ]
  },
  {
   "cell_type": "code",
   "execution_count": 9,
   "id": "070e29e2",
   "metadata": {},
   "outputs": [
    {
     "name": "stdout",
     "output_type": "stream",
     "text": [
      "<class 'range'>\n",
      "<class 'dict'>\n",
      "<class 'set'>\n"
     ]
    }
   ],
   "source": [
    "x = range(6)\n",
    "y = dict(name='John',age=36)\n",
    "z = set(('banana','cherry','orange'))\n",
    "\n",
    "print(type(x))\n",
    "print(type(y))\n",
    "print(type(z))"
   ]
  },
  {
   "cell_type": "code",
   "execution_count": 10,
   "id": "b7b8c38f",
   "metadata": {},
   "outputs": [
    {
     "name": "stdout",
     "output_type": "stream",
     "text": [
      "<class 'frozenset'>\n",
      "<class 'bool'>\n",
      "<class 'bytes'>\n"
     ]
    }
   ],
   "source": [
    "x = frozenset(('banana','cherry','orange'))\n",
    "y = bool(5)\n",
    "z = bytes(5)\n",
    "\n",
    "print(type(x))\n",
    "print(type(y))\n",
    "print(type(z))"
   ]
  },
  {
   "cell_type": "code",
   "execution_count": 11,
   "id": "fd67e13b",
   "metadata": {},
   "outputs": [
    {
     "name": "stdout",
     "output_type": "stream",
     "text": [
      "<class 'bytearray'>\n",
      "<class 'memoryview'>\n"
     ]
    }
   ],
   "source": [
    "x = bytearray(5)\n",
    "y = memoryview(bytes(5))\n",
    "\n",
    "print(type(x))\n",
    "print(type(y))"
   ]
  },
  {
   "cell_type": "code",
   "execution_count": null,
   "id": "af8bc5bc",
   "metadata": {},
   "outputs": [],
   "source": []
  }
 ],
 "metadata": {
  "kernelspec": {
   "display_name": "Python 3 (ipykernel)",
   "language": "python",
   "name": "python3"
  },
  "language_info": {
   "codemirror_mode": {
    "name": "ipython",
    "version": 3
   },
   "file_extension": ".py",
   "mimetype": "text/x-python",
   "name": "python",
   "nbconvert_exporter": "python",
   "pygments_lexer": "ipython3",
   "version": "3.9.12"
  }
 },
 "nbformat": 4,
 "nbformat_minor": 5
}
