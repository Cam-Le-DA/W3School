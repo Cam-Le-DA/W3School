{
 "cells": [
  {
   "cell_type": "markdown",
   "id": "13b9e302",
   "metadata": {},
   "source": [
    "Sets are used to store multiple items in a single variable.\n",
    "\n",
    "Set is one of 4 built-in data types in Python used to store collections of data, the other 3 are List, Tuple, and Dictionary, all with different qualities and usage.\n",
    "\n",
    "A set is a collection which is unordered, unchangeable*, and unindexed.\n",
    "\n",
    "* Note: Set items are unchangeable, but you can remove items and add new items.\n",
    "\n",
    "Sets are written with curly brackets."
   ]
  },
  {
   "cell_type": "code",
   "execution_count": 1,
   "id": "6ce71e7f",
   "metadata": {},
   "outputs": [
    {
     "name": "stdout",
     "output_type": "stream",
     "text": [
      "{'daisy', 'tulip', 'rose'}\n"
     ]
    }
   ],
   "source": [
    "# Create a set\n",
    "\n",
    "set1 = {'rose','tulip','daisy'}\n",
    "print(set1)\n",
    "\n",
    "# Note: Sets are unordered, so you cannot be sure in which order the items will appear."
   ]
  },
  {
   "cell_type": "markdown",
   "id": "0099a62e",
   "metadata": {},
   "source": [
    "### Set Items\n",
    "Set items are unordered, unchangeable, and do not allow duplicate values."
   ]
  },
  {
   "cell_type": "markdown",
   "id": "c6b511e0",
   "metadata": {},
   "source": [
    "### Unordered\n",
    "Unordered means that the items in a set do not have a defined order.\n",
    "\n",
    "Set items can appear in a different order every time you use them, and cannot be referred to by index or key."
   ]
  },
  {
   "cell_type": "markdown",
   "id": "d959648d",
   "metadata": {},
   "source": [
    "### Unchangeable\n",
    "Set items are unchangeable, meaning that we cannot change the items after the set has been created.\n",
    "\n",
    "Once a set is created, you cannot change its items, but you can remove items and add new items."
   ]
  },
  {
   "cell_type": "markdown",
   "id": "2a67258f",
   "metadata": {},
   "source": [
    "### Duplicates Not Allowed\n",
    "Sets cannot have two items with the same value."
   ]
  },
  {
   "cell_type": "code",
   "execution_count": 2,
   "id": "4dac7c09",
   "metadata": {},
   "outputs": [
    {
     "name": "stdout",
     "output_type": "stream",
     "text": [
      "{'daisy', 'tulip', 'rose'}\n"
     ]
    }
   ],
   "source": [
    "set1 = {'rose','daisy','daisy','tulip'}\n",
    "print(set1)"
   ]
  },
  {
   "cell_type": "code",
   "execution_count": 5,
   "id": "79d39ed0",
   "metadata": {},
   "outputs": [
    {
     "name": "stdout",
     "output_type": "stream",
     "text": [
      "{False, True, 'a'}\n"
     ]
    }
   ],
   "source": [
    "# Note: The values True and 1 are considered the same value in sets, and are treated as duplicates:\n",
    "set1 = {True, 1, False, 'a', 0}\n",
    "print(set1)"
   ]
  },
  {
   "cell_type": "code",
   "execution_count": 6,
   "id": "260b2b24",
   "metadata": {},
   "outputs": [
    {
     "name": "stdout",
     "output_type": "stream",
     "text": [
      "3\n"
     ]
    }
   ],
   "source": [
    "# To determine how many items a set has, use the len() function.\n",
    "print(len(set1))"
   ]
  },
  {
   "cell_type": "code",
   "execution_count": 7,
   "id": "64b8d030",
   "metadata": {},
   "outputs": [
    {
     "data": {
      "text/plain": [
       "{0.2, 3, True, 'cat'}"
      ]
     },
     "execution_count": 7,
     "metadata": {},
     "output_type": "execute_result"
    }
   ],
   "source": [
    "# SET ITEMS - DATA TYPES\n",
    "# Set items can be of any data type\n",
    "# A set can contain different data types\n",
    "\n",
    "myset = {True, 3, 'cat', 0.2}\n",
    "myset"
   ]
  },
  {
   "cell_type": "code",
   "execution_count": 8,
   "id": "11785993",
   "metadata": {},
   "outputs": [
    {
     "name": "stdout",
     "output_type": "stream",
     "text": [
      "<class 'set'>\n"
     ]
    }
   ],
   "source": [
    "# From Python's perspective, sets are defined as objects with the data type 'set':\n",
    "print(type(myset))"
   ]
  },
  {
   "cell_type": "code",
   "execution_count": 9,
   "id": "8e67e089",
   "metadata": {},
   "outputs": [
    {
     "data": {
      "text/plain": [
       "{1, 2.5, 'daisy'}"
      ]
     },
     "execution_count": 9,
     "metadata": {},
     "output_type": "execute_result"
    }
   ],
   "source": [
    "# The set() Constructor\n",
    "# It is also possible to use the set() constructor to make a set.\n",
    "\n",
    "myset = set((1, True, 2.5, 'daisy'))\n",
    "myset"
   ]
  },
  {
   "cell_type": "markdown",
   "id": "95ef3679",
   "metadata": {},
   "source": [
    "### Access Items\n",
    "You cannot access items in a set by referring to an index or a key.\n",
    "\n",
    "But you can loop through the set items using a for loop, or ask if a specified value is present in a set, by using the in keyword."
   ]
  },
  {
   "cell_type": "code",
   "execution_count": 10,
   "id": "3f912d5e",
   "metadata": {},
   "outputs": [
    {
     "name": "stdout",
     "output_type": "stream",
     "text": [
      "daisy\n",
      "tulip\n",
      "rose\n"
     ]
    }
   ],
   "source": [
    "# Loop through the set, and print the values:\n",
    "\n",
    "myset = {'rose','tulip','daisy'}\n",
    "for x in myset:\n",
    "    print(x)"
   ]
  },
  {
   "cell_type": "code",
   "execution_count": 11,
   "id": "fc85b0a1",
   "metadata": {},
   "outputs": [
    {
     "name": "stdout",
     "output_type": "stream",
     "text": [
      "True\n"
     ]
    }
   ],
   "source": [
    "# Check if \"tulip\" is present in the set:\n",
    "\n",
    "print('tulip' in myset)"
   ]
  },
  {
   "cell_type": "markdown",
   "id": "fab78214",
   "metadata": {},
   "source": [
    "### Change Items\n",
    "Once a set is created, you cannot change its items, but you can add new items."
   ]
  },
  {
   "cell_type": "code",
   "execution_count": 12,
   "id": "69b46a75",
   "metadata": {},
   "outputs": [
    {
     "name": "stdout",
     "output_type": "stream",
     "text": [
      "{'lily', 'daisy', 'tulip', 'rose'}\n"
     ]
    }
   ],
   "source": [
    "# ADD ITEMS\n",
    "# To add one item to a set use the add() method.\n",
    "\n",
    "myset.add('lily')\n",
    "print(myset)"
   ]
  },
  {
   "cell_type": "code",
   "execution_count": 13,
   "id": "18affa59",
   "metadata": {},
   "outputs": [
    {
     "name": "stdout",
     "output_type": "stream",
     "text": [
      "{1, 'lily', 2, 'daisy', 3, 'tulip', 'rose'}\n"
     ]
    }
   ],
   "source": [
    "# ADD SETS\n",
    "# To add items from another set into the current set, use the update() method.\n",
    "\n",
    "y = {1, 2, 3}\n",
    "myset.update(y)\n",
    "print(myset)"
   ]
  },
  {
   "cell_type": "code",
   "execution_count": 14,
   "id": "395b1857",
   "metadata": {},
   "outputs": [
    {
     "name": "stdout",
     "output_type": "stream",
     "text": [
      "{0.9, 1, 2, 3, 'daisy', 'tulip', 'rose', 'lily', 45}\n"
     ]
    }
   ],
   "source": [
    "# ADD ANY ITERABLE\n",
    "# The object in the update() method does not have to be a set, it can be any iterable object (tuples, lists, dictionaries etc.).\n",
    "\n",
    "list1 = [45, 0.9]\n",
    "myset.update(list1)\n",
    "print(myset)"
   ]
  },
  {
   "cell_type": "code",
   "execution_count": 16,
   "id": "d0fb6a40",
   "metadata": {},
   "outputs": [
    {
     "name": "stdout",
     "output_type": "stream",
     "text": [
      "{0.9, 1, 2, 3, 'daisy', 'tulip', 'rose', 'lily'}\n"
     ]
    }
   ],
   "source": [
    "# REMOVE ITEMS\n",
    "# To remove an item in a set, use the remove(), or the discard() method.\n",
    "\n",
    "myset.remove(45)\n",
    "print(myset)\n",
    "\n",
    "# Note: If the item to remove does not exist, remove() will raise an error."
   ]
  },
  {
   "cell_type": "code",
   "execution_count": 18,
   "id": "28cac28d",
   "metadata": {},
   "outputs": [
    {
     "name": "stdout",
     "output_type": "stream",
     "text": [
      "{0.9, 1, 2, 3, 'daisy', 'tulip', 'rose'}\n"
     ]
    }
   ],
   "source": [
    "myset.discard('tiger')\n",
    "print(myset)\n",
    "\n",
    "# Note: If the item to remove does not exist, discard() will NOT raise an error."
   ]
  },
  {
   "cell_type": "code",
   "execution_count": 22,
   "id": "0f10b5ef",
   "metadata": {},
   "outputs": [
    {
     "name": "stdout",
     "output_type": "stream",
     "text": [
      "{2, 3, 'daisy', 'tulip', 'rose'}\n",
      "1\n"
     ]
    }
   ],
   "source": [
    "# You can also use the pop() method to remove an item, but this method will remove a random item, so you cannot be sure\n",
    "# what item that gets removed.\n",
    "# The return value of the pop() method is the removed item.\n",
    "myset = {'daisy','tulip','rose', 1, 2, 3}\n",
    "x = myset.pop()\n",
    "print(myset)\n",
    "print(x)"
   ]
  },
  {
   "cell_type": "code",
   "execution_count": 24,
   "id": "aca693a4",
   "metadata": {},
   "outputs": [
    {
     "name": "stdout",
     "output_type": "stream",
     "text": [
      "set()\n"
     ]
    }
   ],
   "source": [
    "# The clear() method empties the set:\n",
    "myset.clear()\n",
    "print(myset)"
   ]
  },
  {
   "cell_type": "code",
   "execution_count": 25,
   "id": "78a72a34",
   "metadata": {},
   "outputs": [
    {
     "ename": "NameError",
     "evalue": "name 'myset' is not defined",
     "output_type": "error",
     "traceback": [
      "\u001b[1;31m---------------------------------------------------------------------------\u001b[0m",
      "\u001b[1;31mNameError\u001b[0m                                 Traceback (most recent call last)",
      "Input \u001b[1;32mIn [25]\u001b[0m, in \u001b[0;36m<cell line: 5>\u001b[1;34m()\u001b[0m\n\u001b[0;32m      3\u001b[0m myset \u001b[38;5;241m=\u001b[39m {\u001b[38;5;241m1\u001b[39m, \u001b[38;5;241m2\u001b[39m, \u001b[38;5;241m3\u001b[39m}\n\u001b[0;32m      4\u001b[0m \u001b[38;5;28;01mdel\u001b[39;00m myset\n\u001b[1;32m----> 5\u001b[0m \u001b[38;5;28mprint\u001b[39m(\u001b[43mmyset\u001b[49m)\n",
      "\u001b[1;31mNameError\u001b[0m: name 'myset' is not defined"
     ]
    }
   ],
   "source": [
    "# The del keyword will delete the set completely:\n",
    "\n",
    "myset = {1, 2, 3}\n",
    "del myset\n",
    "print(myset)"
   ]
  },
  {
   "cell_type": "code",
   "execution_count": 26,
   "id": "36140647",
   "metadata": {},
   "outputs": [
    {
     "name": "stdout",
     "output_type": "stream",
     "text": [
      "daisy\n",
      "tulip\n",
      "rose\n"
     ]
    }
   ],
   "source": [
    "# LOOP SETS\n",
    "# You can loop through the set items by using a for loop:\n",
    "\n",
    "myset = {'rose','tulip','daisy'}\n",
    "for x in myset:\n",
    "    print(x)"
   ]
  },
  {
   "cell_type": "code",
   "execution_count": 27,
   "id": "ab5e53c3",
   "metadata": {},
   "outputs": [
    {
     "name": "stdout",
     "output_type": "stream",
     "text": [
      "{1, 2, 3, 'c', 'b', 'a'}\n"
     ]
    }
   ],
   "source": [
    "# JOIN SETS\n",
    "# There are several ways to join two or more sets in Python.\n",
    "# You can use the union() method that returns a new set containing all items from both sets, or the update() method that \n",
    "# inserts all the items from one set into another\n",
    "\n",
    "seta = {1, 2, 3}\n",
    "setb = {'a', 'b', 'c'}\n",
    "setc = seta.union(setb)\n",
    "print(setc)"
   ]
  },
  {
   "cell_type": "code",
   "execution_count": 28,
   "id": "31ab6770",
   "metadata": {},
   "outputs": [
    {
     "name": "stdout",
     "output_type": "stream",
     "text": [
      "{1, 2, 3, 'c', 'b', 'a'}\n"
     ]
    }
   ],
   "source": [
    "seta.update(setb)\n",
    "print(seta)\n",
    "\n",
    "# Note: Both union() and update() will exclude any duplicate items."
   ]
  },
  {
   "cell_type": "code",
   "execution_count": 29,
   "id": "9b6bd6c8",
   "metadata": {},
   "outputs": [
    {
     "name": "stdout",
     "output_type": "stream",
     "text": [
      "{'apple'}\n"
     ]
    }
   ],
   "source": [
    "# KEEP ONLY THE DUPLICATES\n",
    "# The intersection_update() method will keep only the items that are present in both sets.\n",
    "\n",
    "x = {'apple','cherry'}\n",
    "y = {'apple','facebook'}\n",
    "\n",
    "x.intersection_update(y)\n",
    "print(x)"
   ]
  },
  {
   "cell_type": "code",
   "execution_count": 30,
   "id": "59c10529",
   "metadata": {},
   "outputs": [
    {
     "name": "stdout",
     "output_type": "stream",
     "text": [
      "{'apple'}\n"
     ]
    }
   ],
   "source": [
    "# The intersection() method will return a new set, that only contains the items that are present in both sets.\n",
    "\n",
    "z = x.intersection(y)\n",
    "print(z)"
   ]
  },
  {
   "cell_type": "code",
   "execution_count": 32,
   "id": "42f9146b",
   "metadata": {},
   "outputs": [
    {
     "name": "stdout",
     "output_type": "stream",
     "text": [
      "{'cherry', 'facebook'}\n"
     ]
    }
   ],
   "source": [
    "# KEEP ALL, BUT NOT THE DUPLICATES\n",
    "# The symmetric_difference_update() method will keep only the elements that are NOT present in both sets.\n",
    "\n",
    "x = {'apple','cherry'}\n",
    "y = {'apple','facebook'}\n",
    "x.symmetric_difference_update(y)\n",
    "print(x)"
   ]
  },
  {
   "cell_type": "code",
   "execution_count": 34,
   "id": "8b7744d2",
   "metadata": {},
   "outputs": [
    {
     "name": "stdout",
     "output_type": "stream",
     "text": [
      "{'cherry', 'facebook'}\n"
     ]
    }
   ],
   "source": [
    "# The symmetric_difference() method will return a new set, that contains only the elements that are NOT present in both sets.\n",
    "\n",
    "x = {'apple','cherry'}\n",
    "y = {'apple','facebook'}\n",
    "z = x.symmetric_difference(y)\n",
    "print(z)"
   ]
  },
  {
   "cell_type": "code",
   "execution_count": 35,
   "id": "9bc162d2",
   "metadata": {},
   "outputs": [
    {
     "name": "stdout",
     "output_type": "stream",
     "text": [
      "{'cherry', 'facebook'}\n"
     ]
    }
   ],
   "source": [
    "# Note: The values True and 1 are considered the same value in sets, and are treated as duplicates:\n",
    "\n",
    "x = {'apple','cherry', 1}\n",
    "y = {'apple','facebook', True}\n",
    "\n",
    "z = x.symmetric_difference(y)\n",
    "print(z)"
   ]
  },
  {
   "cell_type": "markdown",
   "id": "596e031a",
   "metadata": {},
   "source": [
    "### Set Methods\n",
    "Python has a set of built-in methods that you can use on sets.\n",
    "\n",
    "Method\tDescription <br>\n",
    "**add()**\tAdds an element to the set <br>\n",
    "**clear()**\tRemoves all the elements from the set<br>\n",
    "**copy()**\tReturns a copy of the set<br>\n",
    "**difference()**\tReturns a set containing the difference between two or more sets<br>\n",
    "**difference_update()**\tRemoves the items in this set that are also included in another, specified set<br>\n",
    "**discard()**\tRemove the specified item<br>\n",
    "**intersection()**\tReturns a set, that is the intersection of two other sets<br>\n",
    "**intersection_update()**\tRemoves the items in this set that are not present in other, specified set(s)<br>\n",
    "**isdisjoint()**\tReturns whether two sets have a intersection or not<br>\n",
    "**issubset()**\tReturns whether another set contains this set or not<br>\n",
    "**issuperset()**\tReturns whether this set contains another set or not<br>\n",
    "**pop()**\tRemoves an element from the set<br>\n",
    "**remove()**\tRemoves the specified element<br>\n",
    "**symmetric_difference()**\tReturns a set with the symmetric differences of two sets<br>\n",
    "**symmetric_difference_update()**\tinserts the symmetric differences from this set and another<br>\n",
    "**union()**\tReturn a set containing the union of sets<br>\n",
    "**update()**\tUpdate the set with the union of this set and others"
   ]
  },
  {
   "cell_type": "code",
   "execution_count": null,
   "id": "e68b3f06",
   "metadata": {},
   "outputs": [],
   "source": []
  }
 ],
 "metadata": {
  "kernelspec": {
   "display_name": "Python 3 (ipykernel)",
   "language": "python",
   "name": "python3"
  },
  "language_info": {
   "codemirror_mode": {
    "name": "ipython",
    "version": 3
   },
   "file_extension": ".py",
   "mimetype": "text/x-python",
   "name": "python",
   "nbconvert_exporter": "python",
   "pygments_lexer": "ipython3",
   "version": "3.9.12"
  }
 },
 "nbformat": 4,
 "nbformat_minor": 5
}
