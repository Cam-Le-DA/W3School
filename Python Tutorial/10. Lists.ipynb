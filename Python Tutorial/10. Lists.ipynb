{
 "cells": [
  {
   "cell_type": "markdown",
   "id": "cc2a391b",
   "metadata": {},
   "source": [
    "Lists are used to store multiple items in a single variable.<br>\n",
    "Lists are one of 4 built-in data types in Python used to store collections of data, the other 3 are Tuple, Set, and Dictionary, all with different qualities and usage. <br>\n",
    "Lists are created using square brackets:"
   ]
  },
  {
   "cell_type": "code",
   "execution_count": 1,
   "id": "719d5b32",
   "metadata": {},
   "outputs": [
    {
     "data": {
      "text/plain": [
       "['apple', 'banana', 'cherry', 'cherry', 'apple']"
      ]
     },
     "execution_count": 1,
     "metadata": {},
     "output_type": "execute_result"
    }
   ],
   "source": [
    "thislist = ['apple','banana','cherry','cherry','apple']\n",
    "thislist"
   ]
  },
  {
   "cell_type": "markdown",
   "id": "fd34f1c6",
   "metadata": {},
   "source": [
    "#### List items\n",
    "List items are ordered, changeable, and allow duplicate values.<br>\n",
    "List items are indexed, the first item has index [0], the second item has index [1] etc."
   ]
  },
  {
   "cell_type": "markdown",
   "id": "bf84a9bf",
   "metadata": {},
   "source": [
    "#### Ordered\n",
    "When we say that lists are ordered, it means that the items have a defined order, and that order will not change.<br>\n",
    "If you add new items to a list, the new items will be placed at the end of the list.<br>\n",
    "Note: There are some list methods that will change the order, but in general: the order of the items will not change."
   ]
  },
  {
   "cell_type": "markdown",
   "id": "8c0961ff",
   "metadata": {},
   "source": [
    "#### Changeable\n",
    "The list is changeable, meaning that we can change, add, and remove items in a list after it has been created."
   ]
  },
  {
   "cell_type": "markdown",
   "id": "744e95b2",
   "metadata": {},
   "source": [
    "#### Allow Duplicates\n",
    "Since lists are indexed, lists can have items with the same value"
   ]
  },
  {
   "cell_type": "code",
   "execution_count": 2,
   "id": "f5971650",
   "metadata": {},
   "outputs": [
    {
     "data": {
      "text/plain": [
       "5"
      ]
     },
     "execution_count": 2,
     "metadata": {},
     "output_type": "execute_result"
    }
   ],
   "source": [
    "# To determine how many items a list has, use the len() function:\n",
    "len(thislist)"
   ]
  },
  {
   "cell_type": "code",
   "execution_count": 3,
   "id": "c8be2a6d",
   "metadata": {},
   "outputs": [],
   "source": [
    "# List items can be of any data type\n",
    "# A list can contain different data types\n",
    "list1 = ['age', 36, True, 12.8, 'abc']"
   ]
  },
  {
   "cell_type": "code",
   "execution_count": 4,
   "id": "fbcd775d",
   "metadata": {},
   "outputs": [
    {
     "data": {
      "text/plain": [
       "list"
      ]
     },
     "execution_count": 4,
     "metadata": {},
     "output_type": "execute_result"
    }
   ],
   "source": [
    "# From Python's perspective, lists are defined as objects with the data type 'list'\n",
    "type(list1)"
   ]
  },
  {
   "cell_type": "code",
   "execution_count": 5,
   "id": "3fb5481a",
   "metadata": {},
   "outputs": [
    {
     "data": {
      "text/plain": [
       "['cherry', 'apple', 'banana']"
      ]
     },
     "execution_count": 5,
     "metadata": {},
     "output_type": "execute_result"
    }
   ],
   "source": [
    "# The list() constructor\n",
    "#It is also possible to use the list() constructor when creating a new list.\n",
    "thislist = list(('cherry','apple','banana'))  # note the double round-brackets\n",
    "thislist"
   ]
  },
  {
   "cell_type": "markdown",
   "id": "a6483891",
   "metadata": {},
   "source": [
    "### Python Collections (Arrays)\n",
    "There are four collection data types in the Python programming language:\n",
    "\n",
    "**List** is a collection which is ordered and changeable. Allows duplicate members.<br>\n",
    "**Tuple** is a collection which is ordered and unchangeable. Allows duplicate members.<br>\n",
    "**Set** is a collection which is unordered, unchangeable, and unindexed. No duplicate members.<br>\n",
    "**Dictionary** is a collection which is ordered and changeable. No duplicate members.\n",
    "\n",
    "*Set items are unchangeable, but you can remove and/or add items whenever you like.\n",
    "\n",
    "**As of Python version 3.7, dictionaries are ordered. In Python 3.6 and earlier, dictionaries are unordered.\n",
    "\n",
    "When choosing a collection type, it is useful to understand the properties of that type. Choosing the right type for a particular data set could mean retention of meaning, and, it could mean an increase in efficiency or security."
   ]
  },
  {
   "cell_type": "code",
   "execution_count": 6,
   "id": "4f020b13",
   "metadata": {},
   "outputs": [
    {
     "name": "stdout",
     "output_type": "stream",
     "text": [
      "apple\n"
     ]
    }
   ],
   "source": [
    "# ACCESS LIST ITEMS\n",
    "# List items are indexed and you can access them by referring to the index number:\n",
    "print(thislist[1])"
   ]
  },
  {
   "cell_type": "code",
   "execution_count": 7,
   "id": "36449a19",
   "metadata": {},
   "outputs": [
    {
     "name": "stdout",
     "output_type": "stream",
     "text": [
      "banana\n"
     ]
    }
   ],
   "source": [
    "# Negative indexing means start from the end\n",
    "print(thislist[-1])"
   ]
  },
  {
   "cell_type": "code",
   "execution_count": 8,
   "id": "b24f00ad",
   "metadata": {},
   "outputs": [
    {
     "name": "stdout",
     "output_type": "stream",
     "text": [
      "['banana', 'kiwi', 'cherry', 'mango']\n"
     ]
    }
   ],
   "source": [
    "# You can specify a range of indexes by specifying where to start and where to end the range.\n",
    "# When specifying a range, the return value will be a new list with the specified items.\n",
    "\n",
    "list1 = ['apple','banana','kiwi','cherry','mango','peach']\n",
    "print(list1[1:5])\n",
    "\n",
    "# Note: The search will start at index 1 (included) and end at index 5 (not included).\n",
    "# Remember that the first item has index 0."
   ]
  },
  {
   "cell_type": "code",
   "execution_count": 9,
   "id": "5cfab67b",
   "metadata": {},
   "outputs": [
    {
     "name": "stdout",
     "output_type": "stream",
     "text": [
      "['apple', 'banana', 'kiwi']\n"
     ]
    }
   ],
   "source": [
    "# By leaving out the start value, the range will start at the first item:\n",
    "print(list1[:3])"
   ]
  },
  {
   "cell_type": "code",
   "execution_count": 10,
   "id": "877595a9",
   "metadata": {},
   "outputs": [
    {
     "name": "stdout",
     "output_type": "stream",
     "text": [
      "['cherry', 'mango', 'peach']\n"
     ]
    }
   ],
   "source": [
    "# By leaving out the end value, the range will go on to the end of the list:\n",
    "print(list1[3:])"
   ]
  },
  {
   "cell_type": "code",
   "execution_count": 11,
   "id": "1f40df02",
   "metadata": {},
   "outputs": [
    {
     "name": "stdout",
     "output_type": "stream",
     "text": [
      "['kiwi', 'cherry', 'mango']\n"
     ]
    }
   ],
   "source": [
    "# Specify negative indexes if you want to start the search from the end of the list:\n",
    "print(list1[-4:-1])\n",
    "\n",
    "# This example returns the items from \"kiwi\" (-4) to, but NOT including \"peach\" (-1):"
   ]
  },
  {
   "cell_type": "code",
   "execution_count": 12,
   "id": "ca500620",
   "metadata": {},
   "outputs": [
    {
     "name": "stdout",
     "output_type": "stream",
     "text": [
      "Yes, 'mango' is in the list\n"
     ]
    }
   ],
   "source": [
    "# To determine if a specified item is present in a list use the in keyword:\n",
    "if 'mango' in list1:\n",
    "    print(\"Yes, 'mango' is in the list\")"
   ]
  },
  {
   "cell_type": "code",
   "execution_count": 13,
   "id": "09848a24",
   "metadata": {},
   "outputs": [
    {
     "data": {
      "text/plain": [
       "['apple', 'strawberry', 'peach', 'cherry', 'kiwi']"
      ]
     },
     "execution_count": 13,
     "metadata": {},
     "output_type": "execute_result"
    }
   ],
   "source": [
    "# CHANGE LIST ITEMS\n",
    "# To change the value of a specific item, refer to the index number:\n",
    "list1 = ['apple','banana','peach','cherry','kiwi']\n",
    "list1[1] = 'strawberry'\n",
    "list1"
   ]
  },
  {
   "cell_type": "code",
   "execution_count": 14,
   "id": "77379150",
   "metadata": {},
   "outputs": [
    {
     "name": "stdout",
     "output_type": "stream",
     "text": [
      "['apple', 'strawberry', 'blackberry', 'blueberry', 'kiwi']\n"
     ]
    }
   ],
   "source": [
    "# To change the value of items within a specific range, define a list with the new values, and refer to the range of \n",
    "# index numbers where you want to insert the new values:\n",
    "list1[2:4] = ['blackberry','blueberry']\n",
    "print(list1)"
   ]
  },
  {
   "cell_type": "code",
   "execution_count": 15,
   "id": "a7d9d0f6",
   "metadata": {},
   "outputs": [
    {
     "name": "stdout",
     "output_type": "stream",
     "text": [
      "['apple', 'tomato', 'carrot', 'blackberry', 'blueberry', 'kiwi']\n"
     ]
    }
   ],
   "source": [
    "# If you insert more items than you replace, the new items will be inserted where you specified, and the remaining items \n",
    "# will move accordingly:\n",
    "list1[1:2] = ['tomato','carrot']\n",
    "print(list1)\n",
    "\n",
    "# Note: The length of the list will change when the number of items inserted does not match the number of items replaced."
   ]
  },
  {
   "cell_type": "code",
   "execution_count": 16,
   "id": "f30f34ee",
   "metadata": {},
   "outputs": [
    {
     "name": "stdout",
     "output_type": "stream",
     "text": [
      "['apple', 'orange', 'lemon', 'blueberry', 'kiwi']\n"
     ]
    }
   ],
   "source": [
    "# If you insert less items than you replace, the new items will be inserted where you specified, and the remaining items \n",
    "# will move accordingly:\n",
    "list1[1:4] = ['orange','lemon']\n",
    "print(list1)\n",
    "\n",
    "# Change the second third and fourth value by replacing it with two value:"
   ]
  },
  {
   "cell_type": "code",
   "execution_count": 17,
   "id": "fdb0c632",
   "metadata": {},
   "outputs": [
    {
     "name": "stdout",
     "output_type": "stream",
     "text": [
      "['apple', 'orange', 'mandarin', 'lemon', 'blueberry', 'kiwi']\n"
     ]
    }
   ],
   "source": [
    "# INSERT ITEMS (Add List Items)\n",
    "# To insert a new list item, without replacing any of the existing values, we can use the insert() method.\n",
    "# The insert() method inserts an item at the specified index:\n",
    "\n",
    "list1.insert(2,'mandarin')\n",
    "print(list1)\n",
    "\n",
    "# Note: As a result of the example above, the list will now contain 6 items."
   ]
  },
  {
   "cell_type": "code",
   "execution_count": 18,
   "id": "3b48e35c",
   "metadata": {},
   "outputs": [
    {
     "name": "stdout",
     "output_type": "stream",
     "text": [
      "['apple', 'orange', 'mandarin', 'lemon', 'blueberry', 'kiwi', 'watermelon']\n"
     ]
    }
   ],
   "source": [
    "# APPEND ITEMS\n",
    "# To add an item to the end of the list, use the append() method:\n",
    "\n",
    "list1.append('watermelon')\n",
    "print(list1)"
   ]
  },
  {
   "cell_type": "code",
   "execution_count": 19,
   "id": "45057386",
   "metadata": {},
   "outputs": [
    {
     "name": "stdout",
     "output_type": "stream",
     "text": [
      "['apple', 'banana', 'tomato', 'carrot']\n"
     ]
    }
   ],
   "source": [
    "# EXTEND LIST\n",
    "# To append elements from another list to the current list, use the extend() method.\n",
    "\n",
    "list1 = ['apple','banana']\n",
    "list2 = ['tomato','carrot']\n",
    "list1.extend(list2)\n",
    "print(list1)\n",
    "\n",
    "# The elements will be added to the end of the list."
   ]
  },
  {
   "cell_type": "code",
   "execution_count": 20,
   "id": "9716f7df",
   "metadata": {},
   "outputs": [
    {
     "name": "stdout",
     "output_type": "stream",
     "text": [
      "['apple', 'banana', 'dog', 'cat']\n"
     ]
    }
   ],
   "source": [
    "# ADD ANY ITERABLE\n",
    "# The extend() method does not have to append lists, you can add any iterable object (tuples, sets, dictionaries etc.).\n",
    "\n",
    "list1 = ['apple','banana']\n",
    "tuple1 = ('dog','cat')\n",
    "list1.extend(tuple1)\n",
    "print(list1)"
   ]
  },
  {
   "cell_type": "code",
   "execution_count": 21,
   "id": "da6d4a0b",
   "metadata": {},
   "outputs": [
    {
     "name": "stdout",
     "output_type": "stream",
     "text": [
      "['apple', 'dog', 'cat']\n"
     ]
    }
   ],
   "source": [
    "# REMOVE SPECIFIED ITEM\n",
    "# The remove() method removes the specified item.\n",
    "\n",
    "list1.remove('banana')\n",
    "print(list1)"
   ]
  },
  {
   "cell_type": "code",
   "execution_count": 24,
   "id": "8b35029f",
   "metadata": {},
   "outputs": [
    {
     "name": "stdout",
     "output_type": "stream",
     "text": [
      "['apple', 'dog']\n"
     ]
    }
   ],
   "source": [
    "# REMOVE SPECIFIED INDEX\n",
    "# The pop() method removes the specified index.\n",
    "\n",
    "list1.pop(2)\n",
    "print(list1)"
   ]
  },
  {
   "cell_type": "code",
   "execution_count": 25,
   "id": "d0ab2630",
   "metadata": {},
   "outputs": [
    {
     "name": "stdout",
     "output_type": "stream",
     "text": [
      "['apple']\n"
     ]
    }
   ],
   "source": [
    "# If you do not specify the index, the pop() method removes the last item.\n",
    "\n",
    "list1.pop()\n",
    "print(list1)"
   ]
  },
  {
   "cell_type": "code",
   "execution_count": 27,
   "id": "0cc9dc6b",
   "metadata": {},
   "outputs": [
    {
     "name": "stdout",
     "output_type": "stream",
     "text": [
      "['apple', 'cherry']\n"
     ]
    }
   ],
   "source": [
    "# The del keyword also removes the specified index:\n",
    "\n",
    "list1 = ['apple','banana','cherry']\n",
    "del list1[1]\n",
    "print(list1)"
   ]
  },
  {
   "cell_type": "code",
   "execution_count": 28,
   "id": "a1d5a1ad",
   "metadata": {},
   "outputs": [
    {
     "ename": "NameError",
     "evalue": "name 'list1' is not defined",
     "output_type": "error",
     "traceback": [
      "\u001b[1;31m---------------------------------------------------------------------------\u001b[0m",
      "\u001b[1;31mNameError\u001b[0m                                 Traceback (most recent call last)",
      "Input \u001b[1;32mIn [28]\u001b[0m, in \u001b[0;36m<cell line: 4>\u001b[1;34m()\u001b[0m\n\u001b[0;32m      1\u001b[0m \u001b[38;5;66;03m# The del keyword can also delete the list completely.\u001b[39;00m\n\u001b[0;32m      3\u001b[0m \u001b[38;5;28;01mdel\u001b[39;00m list1\n\u001b[1;32m----> 4\u001b[0m \u001b[38;5;28mprint\u001b[39m(\u001b[43mlist1\u001b[49m)\n",
      "\u001b[1;31mNameError\u001b[0m: name 'list1' is not defined"
     ]
    }
   ],
   "source": [
    "# The del keyword can also delete the list completely.\n",
    "\n",
    "del list1\n",
    "print(list1)   #this will cause an error because you have succsesfully deleted \"list1\""
   ]
  },
  {
   "cell_type": "code",
   "execution_count": 29,
   "id": "abd538fd",
   "metadata": {},
   "outputs": [
    {
     "name": "stdout",
     "output_type": "stream",
     "text": [
      "[]\n"
     ]
    }
   ],
   "source": [
    "# The clear() method empties the list.\n",
    "# The list still remains, but it has no content.\n",
    "\n",
    "list1 = ['apple','banana']\n",
    "list1.clear()\n",
    "print(list1)"
   ]
  },
  {
   "cell_type": "code",
   "execution_count": 30,
   "id": "21728253",
   "metadata": {},
   "outputs": [
    {
     "name": "stdout",
     "output_type": "stream",
     "text": [
      "apple\n",
      "banana\n",
      "mango\n"
     ]
    }
   ],
   "source": [
    "# LOOP LIST\n",
    "# You can loop through the list items by using a for loop:\n",
    "\n",
    "list1 = ['apple','banana','mango']\n",
    "for x in list1:\n",
    "    print(x)"
   ]
  },
  {
   "cell_type": "code",
   "execution_count": 32,
   "id": "88860f74",
   "metadata": {},
   "outputs": [
    {
     "name": "stdout",
     "output_type": "stream",
     "text": [
      "apple\n",
      "banana\n",
      "mango\n"
     ]
    }
   ],
   "source": [
    "# LOOP THROUGH THE INDEX NUMBERS\n",
    "# You can also loop through the list items by referring to their index number.\n",
    "# Use the range() and len() functions to create a suitable iterable.\n",
    "\n",
    "for i in range(len(list1)):\n",
    "    print(list1[i])\n",
    "\n",
    "# The iterable created in the example above is [0, 1, 2]."
   ]
  },
  {
   "cell_type": "code",
   "execution_count": 33,
   "id": "8b3523e3",
   "metadata": {},
   "outputs": [
    {
     "name": "stdout",
     "output_type": "stream",
     "text": [
      "apple\n",
      "banana\n",
      "cherry\n"
     ]
    }
   ],
   "source": [
    "# USING A WHILE LOOP\n",
    "# You can loop through the list items by using a while loop.\n",
    "# Use the len() function to determine the length of the list, then start at 0 and loop your way through the list items by \n",
    "# referring to their indexes.\n",
    "# Remember to increase the index by 1 after each iteration.\n",
    "\n",
    "list1 = ['apple','banana','cherry']\n",
    "i = 0\n",
    "while i < len(list1):\n",
    "    print(list1[i])\n",
    "    i += 1"
   ]
  },
  {
   "cell_type": "code",
   "execution_count": 34,
   "id": "0fda98a2",
   "metadata": {},
   "outputs": [
    {
     "name": "stdout",
     "output_type": "stream",
     "text": [
      "apple\n",
      "banana\n",
      "cherry\n"
     ]
    },
    {
     "data": {
      "text/plain": [
       "[None, None, None]"
      ]
     },
     "execution_count": 34,
     "metadata": {},
     "output_type": "execute_result"
    }
   ],
   "source": [
    "# LOOPING USING LIST COMPREHENSION\n",
    "# List Comprehension offers the shortest syntax for looping through lists:\n",
    "\n",
    "list1 = ['apple','banana','cherry']\n",
    "[print(x) for x in list1]"
   ]
  },
  {
   "cell_type": "markdown",
   "id": "4045840e",
   "metadata": {},
   "source": [
    "### List Comprehension\n",
    "List comprehension offers a shorter syntax when you want to create a new list based on the values of an existing list.\n",
    "\n",
    "Example:\n",
    "\n",
    "Based on a list of fruits, you want a new list, containing only the fruits with the letter \"a\" in the name. <br>\n",
    "Without list comprehension you will have to write a for statement with a conditional test inside:"
   ]
  },
  {
   "cell_type": "code",
   "execution_count": 35,
   "id": "f4fe9622",
   "metadata": {},
   "outputs": [
    {
     "data": {
      "text/plain": [
       "['apple', 'banana']"
      ]
     },
     "execution_count": 35,
     "metadata": {},
     "output_type": "execute_result"
    }
   ],
   "source": [
    "list1 = ['apple','banana','cherry']\n",
    "newlist = []\n",
    "\n",
    "for value in list1:\n",
    "    if 'a' in value:\n",
    "        newlist.append(value)\n",
    "        \n",
    "newlist"
   ]
  },
  {
   "cell_type": "code",
   "execution_count": 37,
   "id": "84926257",
   "metadata": {},
   "outputs": [
    {
     "data": {
      "text/plain": [
       "['apple', 'banana']"
      ]
     },
     "execution_count": 37,
     "metadata": {},
     "output_type": "execute_result"
    }
   ],
   "source": [
    "# With list comprehension you can do all that with only one line of code:\n",
    "newlist = [value for value in list1 if 'a' in value]\n",
    "newlist"
   ]
  },
  {
   "cell_type": "markdown",
   "id": "cc7d8d58",
   "metadata": {},
   "source": [
    "### The Syntax\n",
    "\n",
    "newlist = [expression **for** item **in** iterable **if** condition == True]\n",
    "\n",
    "The return value is a new list, leaving the old list unchanged."
   ]
  },
  {
   "cell_type": "code",
   "execution_count": 38,
   "id": "2869e933",
   "metadata": {},
   "outputs": [
    {
     "data": {
      "text/plain": [
       "['apple', 'cherry']"
      ]
     },
     "execution_count": 38,
     "metadata": {},
     "output_type": "execute_result"
    }
   ],
   "source": [
    "# Condition\n",
    "# The condition is like a filter that only accepts the items that valuate to True.\n",
    "\n",
    "newlist = [value for value in list1 if value !='banana']\n",
    "newlist"
   ]
  },
  {
   "cell_type": "code",
   "execution_count": 39,
   "id": "a362af02",
   "metadata": {},
   "outputs": [
    {
     "data": {
      "text/plain": [
       "['apple', 'banana', 'cherry']"
      ]
     },
     "execution_count": 39,
     "metadata": {},
     "output_type": "execute_result"
    }
   ],
   "source": [
    "# The condition is optional and can be omitted:\n",
    "newlist = [x for x in list1]\n",
    "newlist"
   ]
  },
  {
   "cell_type": "code",
   "execution_count": 40,
   "id": "98a95543",
   "metadata": {},
   "outputs": [
    {
     "data": {
      "text/plain": [
       "[0, 1, 2, 3, 4, 5, 6, 7, 8, 9]"
      ]
     },
     "execution_count": 40,
     "metadata": {},
     "output_type": "execute_result"
    }
   ],
   "source": [
    "# Iterable\n",
    "# The iterable can be any iterable object, like a list, tuple, set etc.\n",
    "# You can use the range() function to create an iterable:\n",
    "\n",
    "newlist = [x for x in range(10)]\n",
    "newlist"
   ]
  },
  {
   "cell_type": "code",
   "execution_count": 41,
   "id": "aa0c185a",
   "metadata": {},
   "outputs": [
    {
     "data": {
      "text/plain": [
       "[0, 1, 2, 3, 4]"
      ]
     },
     "execution_count": 41,
     "metadata": {},
     "output_type": "execute_result"
    }
   ],
   "source": [
    "# Same example, but with a condition:\n",
    "\n",
    "newlist = [x for x in range(10) if x < 5]\n",
    "newlist"
   ]
  },
  {
   "cell_type": "code",
   "execution_count": 42,
   "id": "b0be4440",
   "metadata": {},
   "outputs": [
    {
     "data": {
      "text/plain": [
       "['APPLE', 'BANANA', 'CHERRY']"
      ]
     },
     "execution_count": 42,
     "metadata": {},
     "output_type": "execute_result"
    }
   ],
   "source": [
    "# Expression\n",
    "# The expression is the current item in the iteration, but it is also the outcome, which you can manipulate before it ends up \n",
    "# like a list item in the new list:\n",
    "# Set the values in the new list to upper case:\n",
    "\n",
    "newlist = [x.upper() for x in list1]\n",
    "newlist"
   ]
  },
  {
   "cell_type": "code",
   "execution_count": 43,
   "id": "44d4c3eb",
   "metadata": {},
   "outputs": [
    {
     "data": {
      "text/plain": [
       "['hello', 'hello', 'hello']"
      ]
     },
     "execution_count": 43,
     "metadata": {},
     "output_type": "execute_result"
    }
   ],
   "source": [
    "# You can set the outcome to whatever you like:\n",
    "# Set all values in the new list to 'hello':\n",
    "\n",
    "newlist = ['hello' for x in list1]\n",
    "newlist"
   ]
  },
  {
   "cell_type": "code",
   "execution_count": 44,
   "id": "a3bd4833",
   "metadata": {},
   "outputs": [
    {
     "data": {
      "text/plain": [
       "['apple', 'orange', 'cherry']"
      ]
     },
     "execution_count": 44,
     "metadata": {},
     "output_type": "execute_result"
    }
   ],
   "source": [
    "# The expression can also contain conditions, not like a filter, but as a way to manipulate the outcome:\n",
    "# Return \"orange\" instead of \"banana\":\n",
    "\n",
    "newlist = [x if x != 'banana' else 'orange' for x in list1]\n",
    "newlist\n",
    "\n",
    "#The expression in the example above says:\n",
    "# \"Return the item if it is not banana, if it is banana return orange\"."
   ]
  },
  {
   "cell_type": "code",
   "execution_count": 45,
   "id": "2a38c4f7",
   "metadata": {},
   "outputs": [
    {
     "data": {
      "text/plain": [
       "['apple', 'kiwi', 'mango', 'peach', 'strawberry']"
      ]
     },
     "execution_count": 45,
     "metadata": {},
     "output_type": "execute_result"
    }
   ],
   "source": [
    "# SORT LIST ALPHANUMERICALLY\n",
    "# List objects have a sort() method that will sort the list alphanumerically, ascending, by default:\n",
    "\n",
    "list1 = ['apple','strawberry','mango','kiwi','peach']\n",
    "list1.sort()\n",
    "list1"
   ]
  },
  {
   "cell_type": "code",
   "execution_count": 46,
   "id": "e4d277d9",
   "metadata": {},
   "outputs": [
    {
     "name": "stdout",
     "output_type": "stream",
     "text": [
      "[11, 25, 45, 98, 100]\n"
     ]
    }
   ],
   "source": [
    "list2 = [100, 25, 45, 11, 98]\n",
    "list2.sort()\n",
    "print(list2)"
   ]
  },
  {
   "cell_type": "code",
   "execution_count": 48,
   "id": "60549d59",
   "metadata": {},
   "outputs": [
    {
     "data": {
      "text/plain": [
       "['strawberry', 'peach', 'mango', 'kiwi', 'apple']"
      ]
     },
     "execution_count": 48,
     "metadata": {},
     "output_type": "execute_result"
    }
   ],
   "source": [
    "# To sort descending, use the keyword argument reverse = True\n",
    "list1.sort(reverse = True)\n",
    "list1"
   ]
  },
  {
   "cell_type": "code",
   "execution_count": 50,
   "id": "7e104a04",
   "metadata": {},
   "outputs": [
    {
     "name": "stdout",
     "output_type": "stream",
     "text": [
      "[45, 25, 11, 98, 100]\n"
     ]
    }
   ],
   "source": [
    "# CUSTOMIZE SORT FUNCTION\n",
    "# You can also customize your own function by using the keyword argument key = function.\n",
    "# The function will return a number that will be used to sort the list (the lowest number first):\n",
    "# Sort the list based on how close the number is to 50:\n",
    "\n",
    "def myFunct(n):\n",
    "    return abs(n - 50)\n",
    "\n",
    "list2.sort(key = myFunct)\n",
    "print(list2)"
   ]
  },
  {
   "cell_type": "code",
   "execution_count": 51,
   "id": "8dd6c14d",
   "metadata": {},
   "outputs": [
    {
     "name": "stdout",
     "output_type": "stream",
     "text": [
      "['Kiwi', 'Mango', 'apple', 'cherry']\n"
     ]
    }
   ],
   "source": [
    "# CASE INSENSITIVE SORT\n",
    "# By default the sort() method is case sensitive, resulting in all capital letters being sorted before lower case letters:\n",
    "# Case sensitive sorting can give an unexpected result:\n",
    "\n",
    "list1 = ['apple','Kiwi','Mango','cherry']\n",
    "list1.sort()\n",
    "print(list1)"
   ]
  },
  {
   "cell_type": "code",
   "execution_count": 52,
   "id": "dfffae0b",
   "metadata": {},
   "outputs": [
    {
     "name": "stdout",
     "output_type": "stream",
     "text": [
      "['apple', 'cherry', 'Kiwi', 'Mango']\n"
     ]
    }
   ],
   "source": [
    "# Luckily we can use built-in functions as key functions when sorting a list.\n",
    "# So if you want a case-insensitive sort function, use str.lower as a key function:\n",
    "\n",
    "list1.sort(key = str.lower)\n",
    "print(list1)"
   ]
  },
  {
   "cell_type": "code",
   "execution_count": 53,
   "id": "a25ee6ff",
   "metadata": {},
   "outputs": [
    {
     "name": "stdout",
     "output_type": "stream",
     "text": [
      "['Mango', 'Kiwi', 'cherry', 'apple']\n"
     ]
    }
   ],
   "source": [
    "# REVERSE ORDER\n",
    "# What if you want to reverse the order of a list, regardless of the alphabet?\n",
    "# The reverse() method reverses the current sorting order of the elements.\n",
    "\n",
    "list1.reverse()\n",
    "print(list1)"
   ]
  },
  {
   "cell_type": "code",
   "execution_count": 54,
   "id": "a914a0ce",
   "metadata": {},
   "outputs": [
    {
     "name": "stdout",
     "output_type": "stream",
     "text": [
      "['apple', 'banana', 'cherry']\n"
     ]
    }
   ],
   "source": [
    "# COPY A LIST\n",
    "# You cannot copy a list simply by typing list2 = list1, because: list2 will only be a reference to list1, and changes\n",
    "# made in list1 will automatically also be made in list2.\n",
    "# There are ways to make a copy, one way is to use the built-in List method copy().\n",
    "\n",
    "list1 = ['apple','banana','cherry']\n",
    "mylist = list1.copy()\n",
    "print(mylist)"
   ]
  },
  {
   "cell_type": "code",
   "execution_count": 55,
   "id": "0108d30d",
   "metadata": {},
   "outputs": [
    {
     "name": "stdout",
     "output_type": "stream",
     "text": [
      "['apple', 'banana', 'cherry']\n"
     ]
    }
   ],
   "source": [
    "# Another way to make a copy is to use the built-in method list().\n",
    "\n",
    "mylist = list(list1)\n",
    "print(mylist)"
   ]
  },
  {
   "cell_type": "code",
   "execution_count": 58,
   "id": "a3943727",
   "metadata": {},
   "outputs": [
    {
     "name": "stdout",
     "output_type": "stream",
     "text": [
      "['a', 'b', 'c', 1, 2, 3]\n"
     ]
    }
   ],
   "source": [
    "# JOIN LISTS\n",
    "# There are several ways to join, or concatenate, two or more lists in Python.\n",
    "# One of the easiest ways are by using the + operator.\n",
    "\n",
    "list1 = [\"a\",\"b\",\"c\"]\n",
    "list2 = [1,2,3]\n",
    "list3 = list1 + list2\n",
    "print(list3)"
   ]
  },
  {
   "cell_type": "code",
   "execution_count": 59,
   "id": "5a0e1ef4",
   "metadata": {},
   "outputs": [
    {
     "name": "stdout",
     "output_type": "stream",
     "text": [
      "['a', 'b', 'c', 1, 2, 3]\n"
     ]
    }
   ],
   "source": [
    "# Another way to join two lists is by appending all the items from list2 into list1, one by one:\n",
    "\n",
    "for x in list2:\n",
    "    list1.append(x)\n",
    "    \n",
    "print(list1)"
   ]
  },
  {
   "cell_type": "code",
   "execution_count": 60,
   "id": "7088442c",
   "metadata": {},
   "outputs": [
    {
     "name": "stdout",
     "output_type": "stream",
     "text": [
      "['a', 'b', 'c', 1, 2, 3, 1, 2, 3]\n"
     ]
    }
   ],
   "source": [
    "# Or you can use the extend() method, which purpose is to add elements from one list to another list:\n",
    "\n",
    "list1.extend(list2)\n",
    "print(list1)"
   ]
  },
  {
   "cell_type": "markdown",
   "id": "4ffea9e4",
   "metadata": {},
   "source": [
    "### List Methods\n",
    "Python has a set of built-in methods that you can use on lists.\n",
    "\n",
    "Method\tDescription <br>\n",
    "**append()**\tAdds an element at the end of the list <br>\n",
    "**clear()**\tRemoves all the elements from the list <br>\n",
    "**copy()**\tReturns a copy of the list <br>\n",
    "**count()**\tReturns the number of elements with the specified value <br>\n",
    "**extend()**\tAdd the elements of a list (or any iterable), to the end of the current list <br>\n",
    "**index()**\tReturns the index of the first element with the specified value <br>\n",
    "**insert()**\tAdds an element at the specified position <br>\n",
    "**pop()**\tRemoves the element at the specified position <br>\n",
    "**remove()**\tRemoves the item with the specified value <br>\n",
    "**reverse()**\tReverses the order of the list <br>\n",
    "**sort()**\tSorts the list\n"
   ]
  },
  {
   "cell_type": "code",
   "execution_count": null,
   "id": "fca36966",
   "metadata": {},
   "outputs": [],
   "source": []
  }
 ],
 "metadata": {
  "kernelspec": {
   "display_name": "Python 3 (ipykernel)",
   "language": "python",
   "name": "python3"
  },
  "language_info": {
   "codemirror_mode": {
    "name": "ipython",
    "version": 3
   },
   "file_extension": ".py",
   "mimetype": "text/x-python",
   "name": "python",
   "nbconvert_exporter": "python",
   "pygments_lexer": "ipython3",
   "version": "3.9.12"
  }
 },
 "nbformat": 4,
 "nbformat_minor": 5
}
