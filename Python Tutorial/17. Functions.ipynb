{
 "cells": [
  {
   "cell_type": "markdown",
   "id": "8437ff92",
   "metadata": {},
   "source": [
    "### Python Functions\n",
    "A function is a block of code which only runs when it is called.\n",
    "\n",
    "You can pass data, known as parameters, into a function.\n",
    "\n",
    "A function can return data as a result."
   ]
  },
  {
   "cell_type": "code",
   "execution_count": 3,
   "id": "1ad585bb",
   "metadata": {},
   "outputs": [],
   "source": [
    "# CREATING A FUNCTION\n",
    "# In Python a function is defined using the def keyword:\n",
    "\n",
    "def myfunc():\n",
    "    print('Hello from a function!')"
   ]
  },
  {
   "cell_type": "code",
   "execution_count": 4,
   "id": "66bc48e3",
   "metadata": {},
   "outputs": [
    {
     "name": "stdout",
     "output_type": "stream",
     "text": [
      "Hello from a function!\n"
     ]
    }
   ],
   "source": [
    "# CALLING A FUNCTION\n",
    "# To call a function, use the function name followed by parenthesis:\n",
    "\n",
    "myfunc()"
   ]
  },
  {
   "cell_type": "code",
   "execution_count": 5,
   "id": "266a43bc",
   "metadata": {},
   "outputs": [
    {
     "name": "stdout",
     "output_type": "stream",
     "text": [
      "Elise Clinton\n",
      "Bill Clinton\n"
     ]
    }
   ],
   "source": [
    "# ARGUMENTS\n",
    "# Information can be passed into functions as arguments.\n",
    "# Arguments are specified after the function name, inside the parentheses. You can add as many arguments as you want, just\n",
    "# separate them with a comma.\n",
    "\n",
    "# The following example has a function with one argument (fname). When the function is called, we pass along a first name, \n",
    "# which is used inside the function to print the full name:\n",
    "\n",
    "def myfunc(fname):\n",
    "    print(fname, 'Clinton')\n",
    "    \n",
    "myfunc('Elise')\n",
    "myfunc('Bill')\n",
    "\n",
    "# Arguments are often shortened to args in Python documentations."
   ]
  },
  {
   "cell_type": "markdown",
   "id": "8b2d0b83",
   "metadata": {},
   "source": [
    "### Parameters or Arguments?\n",
    "The terms parameter and argument can be used for the same thing: information that are passed into a function.\n",
    "\n",
    "From a function's perspective:\n",
    "\n",
    "A parameter is the variable listed inside the parentheses in the function definition.\n",
    "\n",
    "An argument is the value that is sent to the function when it is called."
   ]
  },
  {
   "cell_type": "code",
   "execution_count": 6,
   "id": "504c9581",
   "metadata": {},
   "outputs": [
    {
     "name": "stdout",
     "output_type": "stream",
     "text": [
      "Bill Gates\n"
     ]
    }
   ],
   "source": [
    "# NUMBER OF ARGUMENTS\n",
    "# By default, a function must be called with the correct number of arguments. Meaning that if your function expects 2 \n",
    "# arguments, you have to call the function with 2 arguments, not more, and not less.\n",
    "\n",
    "def myfunc(firstname, lastname):\n",
    "    print(firstname + ' ' + lastname)\n",
    "    \n",
    "myfunc('Bill','Gates')"
   ]
  },
  {
   "cell_type": "code",
   "execution_count": 7,
   "id": "943c3b8c",
   "metadata": {},
   "outputs": [
    {
     "ename": "TypeError",
     "evalue": "myfunc() missing 1 required positional argument: 'lastname'",
     "output_type": "error",
     "traceback": [
      "\u001b[1;31m---------------------------------------------------------------------------\u001b[0m",
      "\u001b[1;31mTypeError\u001b[0m                                 Traceback (most recent call last)",
      "Input \u001b[1;32mIn [7]\u001b[0m, in \u001b[0;36m<cell line: 3>\u001b[1;34m()\u001b[0m\n\u001b[0;32m      1\u001b[0m \u001b[38;5;66;03m# If you try to call the function with 1 or 3 arguments, you will get an error:\u001b[39;00m\n\u001b[1;32m----> 3\u001b[0m \u001b[43mmyfunc\u001b[49m\u001b[43m(\u001b[49m\u001b[38;5;124;43m'\u001b[39;49m\u001b[38;5;124;43mMelissa\u001b[39;49m\u001b[38;5;124;43m'\u001b[39;49m\u001b[43m)\u001b[49m\n",
      "\u001b[1;31mTypeError\u001b[0m: myfunc() missing 1 required positional argument: 'lastname'"
     ]
    }
   ],
   "source": [
    "# If you try to call the function with 1 or 3 arguments, you will get an error:\n",
    "\n",
    "myfunc('Melissa')"
   ]
  },
  {
   "cell_type": "code",
   "execution_count": 8,
   "id": "b317e6c0",
   "metadata": {},
   "outputs": [
    {
     "name": "stdout",
     "output_type": "stream",
     "text": [
      "The youngest child is  Rose\n"
     ]
    }
   ],
   "source": [
    "# ARBITRARY ARGUMENTS *ARGS\n",
    "# If you do not know how many arguments that will be passed into your function, add a * before the parameter name in the \n",
    "# function definition.\n",
    "# This way the function will receive a tuple of arguments, and can access the items accordingly:\n",
    "\n",
    "def myfunc(*kids):\n",
    "    print('The youngest child is ', kids[2])\n",
    "    \n",
    "myfunc('Emily','Tom','Rose','Kim')\n",
    "\n",
    "# Arbitrary Arguments are often shortened to *args in Python documentations."
   ]
  },
  {
   "cell_type": "code",
   "execution_count": 9,
   "id": "d281e25b",
   "metadata": {},
   "outputs": [
    {
     "name": "stdout",
     "output_type": "stream",
     "text": [
      "The youngest child is  Rose\n"
     ]
    }
   ],
   "source": [
    "# KEYWORD ARGUMENTS\n",
    "# You can also send arguments with the key = value syntax.\n",
    "# This way the order of the arguments does not matter.\n",
    "\n",
    "def myfunc(child1, child2, child3):\n",
    "    print('The youngest child is ', child3)\n",
    "    \n",
    "myfunc(child1 = 'Emliy', child2 = 'Tom', child3 = 'Rose')\n",
    "\n",
    "# The phrase Keyword Arguments are often shortened to kwargs in Python documentations."
   ]
  },
  {
   "cell_type": "code",
   "execution_count": 10,
   "id": "e9082d77",
   "metadata": {},
   "outputs": [
    {
     "name": "stdout",
     "output_type": "stream",
     "text": [
      "The last name is Cruise\n"
     ]
    }
   ],
   "source": [
    "# ARBITRARY KEYWORD ARGUMENTS\n",
    "# If you do not know how many keyword arguments that will be passed into your function, add two asterisk: ** before the \n",
    "# parameter name in the function definition.\n",
    "# This way the function will receive a dictionary of arguments, and can access the items accordingly:\n",
    "\n",
    "def myfunc(**child):\n",
    "    print('The last name is', child['lname'])\n",
    "    \n",
    "myfunc(fname = 'Tom', lname = 'Cruise')\n",
    "\n",
    "# Arbitrary Kword Arguments are often shortened to **kwargs in Python documentations."
   ]
  },
  {
   "cell_type": "code",
   "execution_count": 11,
   "id": "2c17e695",
   "metadata": {},
   "outputs": [
    {
     "name": "stdout",
     "output_type": "stream",
     "text": [
      "I am from Sweden\n",
      "I am from Norway\n",
      "I am from Canada\n"
     ]
    }
   ],
   "source": [
    "# DEFAULT PARMAMETER VALUE\n",
    "# The following example shows how to use a default parameter value.\n",
    "# If we call the function without argument, it uses the default value:\n",
    "\n",
    "def myfunc(country = 'Norway'):\n",
    "    print('I am from', country)\n",
    "    \n",
    "myfunc('Sweden')\n",
    "myfunc()\n",
    "myfunc('Canada')"
   ]
  },
  {
   "cell_type": "code",
   "execution_count": 13,
   "id": "b3cac57f",
   "metadata": {},
   "outputs": [
    {
     "name": "stdout",
     "output_type": "stream",
     "text": [
      "dog\n",
      "star\n",
      "tree\n"
     ]
    }
   ],
   "source": [
    "# PASSING A LIST AS AN ARGUMENT\n",
    "# You can send any data types of argument to a function (string, number, list, dictionary etc.), and it will be treated \n",
    "# as the same data type inside the function.\n",
    "# E.g. if you send a List as an argument, it will still be a List when it reaches the function:\n",
    "\n",
    "def myfunc(mylist):\n",
    "    for x in mylist:\n",
    "        print(x)\n",
    "    \n",
    "list1 = ['dog','star','tree']\n",
    "myfunc(list1)"
   ]
  },
  {
   "cell_type": "code",
   "execution_count": 15,
   "id": "31f83f94",
   "metadata": {},
   "outputs": [
    {
     "name": "stdout",
     "output_type": "stream",
     "text": [
      "30\n",
      "60\n"
     ]
    }
   ],
   "source": [
    "# RETURN VALUE\n",
    "# To let a function return a value, use the return statement:\n",
    "\n",
    "def myfunc(x):\n",
    "    return x * 5\n",
    "\n",
    "print(myfunc(6))\n",
    "print(myfunc(12))"
   ]
  },
  {
   "cell_type": "code",
   "execution_count": 16,
   "id": "d78ff01d",
   "metadata": {},
   "outputs": [],
   "source": [
    "# THE PASS STATEMENT\n",
    "# function definitions cannot be empty, but if you for some reason have a function definition with no content, put in the\n",
    "# pass statement to avoid getting an error.\n",
    "\n",
    "def myfunc(x):\n",
    "    pass"
   ]
  },
  {
   "cell_type": "markdown",
   "id": "3178e467",
   "metadata": {},
   "source": [
    "### Recursion\n",
    "Python also accepts function recursion, which means a defined function can call itself.\n",
    "\n",
    "Recursion is a common mathematical and programming concept. It means that a function calls itself. This has the benefit of meaning that you can loop through data to reach a result.\n",
    "\n",
    "The developer should be very careful with recursion as it can be quite easy to slip into writing a function which never terminates, or one that uses excess amounts of memory or processor power. However, when written correctly recursion can be a very efficient and mathematically-elegant approach to programming.\n",
    "\n",
    "In this example, tri_recursion() is a function that we have defined to call itself (\"recurse\"). We use the k variable as the data, which decrements (-1) every time we recurse. The recursion ends when the condition is not greater than 0 (i.e. when it is 0).\n",
    "\n",
    "To a new developer it can take some time to work out how exactly this works, best way to find out is by testing and modifying it."
   ]
  },
  {
   "cell_type": "code",
   "execution_count": 17,
   "id": "4f4477e0",
   "metadata": {},
   "outputs": [
    {
     "name": "stdout",
     "output_type": "stream",
     "text": [
      "\n",
      "\n",
      " Recursion Example Results\n",
      "1\n",
      "3\n",
      "6\n",
      "10\n",
      "15\n",
      "21\n"
     ]
    },
    {
     "data": {
      "text/plain": [
       "21"
      ]
     },
     "execution_count": 17,
     "metadata": {},
     "output_type": "execute_result"
    }
   ],
   "source": [
    "def tri_recursion(k):\n",
    "    if k > 0:\n",
    "        result = k + tri_recursion(k - 1)\n",
    "        print(result)\n",
    "    else:\n",
    "        result = 0\n",
    "    return result\n",
    "\n",
    "print('\\n\\n Recursion Example Results')\n",
    "tri_recursion(6)"
   ]
  },
  {
   "cell_type": "code",
   "execution_count": null,
   "id": "12750c8f",
   "metadata": {},
   "outputs": [],
   "source": []
  }
 ],
 "metadata": {
  "kernelspec": {
   "display_name": "Python 3 (ipykernel)",
   "language": "python",
   "name": "python3"
  },
  "language_info": {
   "codemirror_mode": {
    "name": "ipython",
    "version": 3
   },
   "file_extension": ".py",
   "mimetype": "text/x-python",
   "name": "python",
   "nbconvert_exporter": "python",
   "pygments_lexer": "ipython3",
   "version": "3.9.12"
  }
 },
 "nbformat": 4,
 "nbformat_minor": 5
}
