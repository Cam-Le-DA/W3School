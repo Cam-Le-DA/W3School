{
 "cells": [
  {
   "cell_type": "markdown",
   "id": "4739097d",
   "metadata": {},
   "source": [
    "### What is PIP?\n",
    "PIP is a package manager for Python packages, or modules if you like.\n",
    "\n",
    "Note: If you have Python version 3.4 or later, PIP is included by default.\n",
    "\n",
    "### What is a Package?\n",
    "A package contains all the files you need for a module.\n",
    "\n",
    "Modules are Python code libraries you can include in your project.\n",
    "\n",
    "#### Check if PIP is Installed\n",
    "Navigate your command line to the location of Python's script directory, and type the following:"
   ]
  },
  {
   "cell_type": "markdown",
   "id": "e4db67ff",
   "metadata": {},
   "source": [
    "Check PIP version:\n",
    "\n",
    "C:\\Users\\Your Name\\AppData\\Local\\Programs\\Python\\Python36-32\\Scripts>pip --version\n",
    "\n",
    "#### Install PIP\n",
    "If you do not have PIP installed, you can download and install it from this page: https://pypi.org/project/pip/"
   ]
  },
  {
   "cell_type": "markdown",
   "id": "ee4df435",
   "metadata": {},
   "source": [
    "### Download a Package\n",
    "Downloading a package is very easy.\n",
    "\n",
    "Open the command line interface and tell PIP to download the package you want.\n",
    "\n",
    "Navigate your command line to the location of Python's script directory, and type the following:"
   ]
  },
  {
   "cell_type": "markdown",
   "id": "80616e83",
   "metadata": {},
   "source": [
    "Download a package named \"camelcase\":\n",
    "\n",
    "C:\\Users\\Your Name\\AppData\\Local\\Programs\\Python\\Python36-32\\Scripts>pip install camelcase\n",
    "\n",
    "Now you have downloaded and installed your first package!"
   ]
  },
  {
   "cell_type": "markdown",
   "id": "57423dfa",
   "metadata": {},
   "source": [
    "### Using a Package\n",
    "Once the package is installed, it is ready to use.\n",
    "\n",
    "Import the \"camelcase\" package into your project."
   ]
  },
  {
   "cell_type": "code",
   "execution_count": 1,
   "id": "65c3f598",
   "metadata": {},
   "outputs": [
    {
     "name": "stdout",
     "output_type": "stream",
     "text": [
      "Hello World\n"
     ]
    }
   ],
   "source": [
    "import camelcase\n",
    "\n",
    "c = camelcase.CamelCase()\n",
    "txt = 'hello world'\n",
    "print(c.hump(txt))  #This method capitalizes the first letter of each word."
   ]
  },
  {
   "cell_type": "markdown",
   "id": "2df661c4",
   "metadata": {},
   "source": [
    "### Find Packages\n",
    "Find more packages at https://pypi.org/.\n",
    "\n",
    "### Remove a Package\n",
    "Use the uninstall command to remove a package:"
   ]
  },
  {
   "cell_type": "markdown",
   "id": "a5d79719",
   "metadata": {},
   "source": [
    "Uninstall the package named \"camelcase\":\n",
    "\n",
    "C:\\Users\\Your Name\\AppData\\Local\\Programs\\Python\\Python36-32\\Scripts>pip uninstall camelcase\n",
    "\n",
    "The PIP Package Manager will ask you to confirm that you want to remove the camelcase package:\n",
    "\n",
    "Uninstalling camelcase-02.1:<br>\n",
    "  Would remove:<br> <br>\n",
    "    c:\\users\\Your Name\\appdata\\local\\programs\\python\\python36-32\\lib\\site-packages\\camecase-0.2-py3.6.egg-info <br>\n",
    "    c:\\users\\Your Name\\appdata\\local\\programs\\python\\python36-32\\lib\\site-packages\\camecase\\* <br>\n",
    "Proceed (y/n)? <br>\n",
    "Press y and the package will be removed."
   ]
  },
  {
   "cell_type": "markdown",
   "id": "1e994350",
   "metadata": {},
   "source": [
    "### List Packages\n",
    "Use the list command to list all the packages installed on your system:"
   ]
  },
  {
   "cell_type": "markdown",
   "id": "752e7c7f",
   "metadata": {},
   "source": [
    "List installed packages:\n",
    "\n",
    "C:\\Users\\Your Name\\AppData\\Local\\Programs\\Python\\Python36-32\\Scripts>pip list\n",
    "\n",
    "Result:\n",
    "\n",
    "Package         Version\n",
    "-----------------------\n",
    "camelcase       0.2 <br>\n",
    "mysql-connector 2.1.6 <br>\n",
    "pip             18.1 <br>\n",
    "pymongo         3.6.1 <br>\n",
    "setuptools      39.0.1"
   ]
  },
  {
   "cell_type": "code",
   "execution_count": null,
   "id": "192d1c6c",
   "metadata": {},
   "outputs": [],
   "source": []
  }
 ],
 "metadata": {
  "kernelspec": {
   "display_name": "Python 3 (ipykernel)",
   "language": "python",
   "name": "python3"
  },
  "language_info": {
   "codemirror_mode": {
    "name": "ipython",
    "version": 3
   },
   "file_extension": ".py",
   "mimetype": "text/x-python",
   "name": "python",
   "nbconvert_exporter": "python",
   "pygments_lexer": "ipython3",
   "version": "3.9.12"
  }
 },
 "nbformat": 4,
 "nbformat_minor": 5
}
