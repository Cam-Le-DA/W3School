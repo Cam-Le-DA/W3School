{
 "cells": [
  {
   "cell_type": "markdown",
   "id": "cef3bb74",
   "metadata": {},
   "source": [
    "### Python Loops\n",
    "Python has two primitive loop commands:\n",
    "\n",
    "while loops<br>\n",
    "for loops"
   ]
  },
  {
   "cell_type": "code",
   "execution_count": 1,
   "id": "ae7d8cb5",
   "metadata": {},
   "outputs": [
    {
     "name": "stdout",
     "output_type": "stream",
     "text": [
      "1\n",
      "2\n",
      "3\n",
      "4\n",
      "5\n"
     ]
    }
   ],
   "source": [
    "# WHILE LOOP\n",
    "# With the while loop we can execute a set of statements as long as a condition is true.\n",
    "\n",
    "i = 1\n",
    "while i < 6:\n",
    "    print(i)\n",
    "    i += 1\n",
    "    \n",
    "# Note: remember to increment i, or else the loop will continue forever.\n",
    "# The while loop requires relevant variables to be ready, in this example we need to define an indexing variable, i, \n",
    "# which we set to 1."
   ]
  },
  {
   "cell_type": "code",
   "execution_count": 2,
   "id": "89bff20a",
   "metadata": {},
   "outputs": [
    {
     "name": "stdout",
     "output_type": "stream",
     "text": [
      "1\n",
      "2\n",
      "3\n"
     ]
    }
   ],
   "source": [
    "# THE BREAK STATEMENT\n",
    "# With the break statement we can stop the loop even if the while condition is true:\n",
    "\n",
    "i = 1\n",
    "while i < 6:\n",
    "    print(i)\n",
    "    if i == 3:\n",
    "        break\n",
    "    i += 1"
   ]
  },
  {
   "cell_type": "code",
   "execution_count": 3,
   "id": "5800f26b",
   "metadata": {},
   "outputs": [
    {
     "name": "stdout",
     "output_type": "stream",
     "text": [
      "1\n",
      "2\n",
      "4\n",
      "5\n",
      "6\n"
     ]
    }
   ],
   "source": [
    "# THE CONTINUE STATEMENT\n",
    "# With the continue statement we can stop the current iteration, and continue with the next:\n",
    "\n",
    "i = 0\n",
    "while i < 6:\n",
    "    i += 1\n",
    "    if i == 3:      \n",
    "        continue     # Continue to the next iteration if i is 3:\n",
    "    print(i)"
   ]
  },
  {
   "cell_type": "code",
   "execution_count": 5,
   "id": "c62e9b4c",
   "metadata": {},
   "outputs": [
    {
     "name": "stdout",
     "output_type": "stream",
     "text": [
      "1\n",
      "2\n",
      "3\n",
      "4\n",
      "5\n",
      "i is no longer less than 6\n"
     ]
    }
   ],
   "source": [
    "# THE ELSE STATEMENT\n",
    "# With the else statement we can run a block of code once when the condition no longer is true:\n",
    "\n",
    "i = 1\n",
    "while i < 6:\n",
    "    print(i)\n",
    "    i += 1\n",
    "else:\n",
    "    print('i is no longer less than 6')"
   ]
  },
  {
   "cell_type": "code",
   "execution_count": null,
   "id": "bea12c6d",
   "metadata": {},
   "outputs": [],
   "source": []
  }
 ],
 "metadata": {
  "kernelspec": {
   "display_name": "Python 3 (ipykernel)",
   "language": "python",
   "name": "python3"
  },
  "language_info": {
   "codemirror_mode": {
    "name": "ipython",
    "version": 3
   },
   "file_extension": ".py",
   "mimetype": "text/x-python",
   "name": "python",
   "nbconvert_exporter": "python",
   "pygments_lexer": "ipython3",
   "version": "3.9.12"
  }
 },
 "nbformat": 4,
 "nbformat_minor": 5
}
