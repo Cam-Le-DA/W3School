{
 "cells": [
  {
   "cell_type": "markdown",
   "id": "4ae4f393",
   "metadata": {},
   "source": [
    "Tuples are used to store multiple items in a single variable.\n",
    "\n",
    "Tuple is one of 4 built-in data types in Python used to store collections of data, the other 3 are List, Set, and Dictionary, all with different qualities and usage.\n",
    "\n",
    "A tuple is a collection which is ordered and unchangeable.\n",
    "\n",
    "Tuples are written with round brackets."
   ]
  },
  {
   "cell_type": "code",
   "execution_count": 1,
   "id": "ad544605",
   "metadata": {},
   "outputs": [
    {
     "name": "stdout",
     "output_type": "stream",
     "text": [
      "('dog', 'cat', 'fish')\n"
     ]
    }
   ],
   "source": [
    "# Create a tuple\n",
    "tuple1 = ('dog','cat','fish')\n",
    "print(tuple1)"
   ]
  },
  {
   "cell_type": "markdown",
   "id": "5c3d3ef8",
   "metadata": {},
   "source": [
    "### Tuple items\n",
    "Tuple items are ordered, unchangeable, and allow duplicate values.\n",
    "\n",
    "Tuple items are indexed, the first item has index [0], the second item has index [1] etc."
   ]
  },
  {
   "cell_type": "markdown",
   "id": "723b86a6",
   "metadata": {},
   "source": [
    "### Ordered\n",
    "When we say that tuples are ordered, it means that the items have a defined order, and that order will not change."
   ]
  },
  {
   "cell_type": "markdown",
   "id": "98bfb4b1",
   "metadata": {},
   "source": [
    "### Unchangeable\n",
    "Tuples are unchangeable, meaning that we cannot change, add or remove items after the tuple has been created."
   ]
  },
  {
   "cell_type": "markdown",
   "id": "c5e27c06",
   "metadata": {},
   "source": [
    "### Allow Duplicates\n",
    "Since tuples are indexed, they can have items with the same value"
   ]
  },
  {
   "cell_type": "code",
   "execution_count": 2,
   "id": "06852f27",
   "metadata": {},
   "outputs": [
    {
     "name": "stdout",
     "output_type": "stream",
     "text": [
      "3\n"
     ]
    }
   ],
   "source": [
    "# TUPLE LENGTH\n",
    "# To determine how many items a tuple has, use the len() function:\n",
    "\n",
    "tuple1 = ('dog','cat','fish')\n",
    "print(len(tuple1))"
   ]
  },
  {
   "cell_type": "code",
   "execution_count": 4,
   "id": "0a1fbe62",
   "metadata": {},
   "outputs": [
    {
     "name": "stdout",
     "output_type": "stream",
     "text": [
      "<class 'tuple'>\n"
     ]
    }
   ],
   "source": [
    "# CREATE A TUPLE WITH ONLY 1 ITEM\n",
    "# To create a tuple with only one item, you have to add a comma after the item, otherwise Python will not recognize it \n",
    "# as a tuple.\n",
    "\n",
    "tuple1 = ('apple',)\n",
    "print(type(tuple1))"
   ]
  },
  {
   "cell_type": "code",
   "execution_count": 6,
   "id": "0ebdfe18",
   "metadata": {},
   "outputs": [
    {
     "name": "stdout",
     "output_type": "stream",
     "text": [
      "('a', 1, True, 2.8)\n"
     ]
    }
   ],
   "source": [
    "# TUPLE ITEMS - DATA TYPES\n",
    "# Tuple items can be of any data type:\n",
    "# A tuple can contain different data types:\n",
    "\n",
    "tuple1 = ('a', 1, True, 2.8)\n",
    "print(tuple1)"
   ]
  },
  {
   "cell_type": "code",
   "execution_count": 7,
   "id": "e6ce58b7",
   "metadata": {},
   "outputs": [
    {
     "name": "stdout",
     "output_type": "stream",
     "text": [
      "<class 'tuple'>\n"
     ]
    }
   ],
   "source": [
    "# From Python's perspective, tuples are defined as objects with the data type 'tuple':\n",
    "\n",
    "print(type(tuple1))"
   ]
  },
  {
   "cell_type": "code",
   "execution_count": 8,
   "id": "944b21e8",
   "metadata": {},
   "outputs": [
    {
     "name": "stdout",
     "output_type": "stream",
     "text": [
      "('dog', 'fish', 'cat')\n"
     ]
    }
   ],
   "source": [
    "# The Tuple() Constructor\n",
    "# It is also possible to use the tuple() constructor to make a tuple.\n",
    "\n",
    "tuple1 = tuple(('dog','fish','cat'))\n",
    "print(tuple1)"
   ]
  },
  {
   "cell_type": "code",
   "execution_count": 9,
   "id": "0d4a84b4",
   "metadata": {},
   "outputs": [
    {
     "name": "stdout",
     "output_type": "stream",
     "text": [
      "fish\n"
     ]
    }
   ],
   "source": [
    "# ACCESS TUPLE ITEMS\n",
    "# You can access tuple items by referring to the index number, inside square brackets:\n",
    "print(tuple1[1])"
   ]
  },
  {
   "cell_type": "code",
   "execution_count": 10,
   "id": "37484a61",
   "metadata": {},
   "outputs": [
    {
     "name": "stdout",
     "output_type": "stream",
     "text": [
      "fish\n"
     ]
    }
   ],
   "source": [
    "# Negative indexing means start from the end.\n",
    "# -1 refers to the last item, -2 refers to the second last item etc.\n",
    "\n",
    "print(tuple1[-2])"
   ]
  },
  {
   "cell_type": "code",
   "execution_count": 11,
   "id": "fbf2d7c7",
   "metadata": {},
   "outputs": [
    {
     "name": "stdout",
     "output_type": "stream",
     "text": [
      "('dog', 'fish')\n",
      "<class 'tuple'>\n"
     ]
    }
   ],
   "source": [
    "# RANGE OF INDEXES\n",
    "# You can specify a range of indexes by specifying where to start and where to end the range.\n",
    "# When specifying a range, the return value will be a new tuple with the specified items.\n",
    "\n",
    "tuple2 = tuple1[0:2]\n",
    "print(tuple2)\n",
    "print(type(tuple2))"
   ]
  },
  {
   "cell_type": "code",
   "execution_count": 12,
   "id": "e6caf455",
   "metadata": {},
   "outputs": [
    {
     "name": "stdout",
     "output_type": "stream",
     "text": [
      "('dog', 'fish', 'cat')\n"
     ]
    }
   ],
   "source": [
    "# By leaving out the start value, the range will start at the first item:\n",
    "# By leaving out the end value, the range will go on to the end of the list:\n",
    "print(tuple1[:])"
   ]
  },
  {
   "cell_type": "code",
   "execution_count": 13,
   "id": "75f44326",
   "metadata": {},
   "outputs": [
    {
     "name": "stdout",
     "output_type": "stream",
     "text": [
      "('dog', 'fish')\n"
     ]
    }
   ],
   "source": [
    "# RANGE OF NEGATIVE INDEXES\n",
    "# Specify negative indexes if you want to start the search from the end of the tuple:\n",
    "\n",
    "print(tuple1[-3:-1])"
   ]
  },
  {
   "cell_type": "code",
   "execution_count": 14,
   "id": "b981b926",
   "metadata": {},
   "outputs": [
    {
     "name": "stdout",
     "output_type": "stream",
     "text": [
      "Yes, 'cat' is in this tuple\n"
     ]
    }
   ],
   "source": [
    "# CHECK IF ITEM EXISTS\n",
    "# To determine if a specified item is present in a tuple use the in keyword:\n",
    "\n",
    "if 'cat' in tuple1:\n",
    "    print(\"Yes, 'cat' is in this tuple\")"
   ]
  },
  {
   "cell_type": "markdown",
   "id": "9496ca49",
   "metadata": {},
   "source": [
    "### Update Tuples\n",
    "Tuples are unchangeable, meaning that you cannot change, add, or remove items once the tuple is created.\n",
    "\n",
    "But there are some workarounds."
   ]
  },
  {
   "cell_type": "code",
   "execution_count": 15,
   "id": "4f4eca95",
   "metadata": {},
   "outputs": [
    {
     "name": "stdout",
     "output_type": "stream",
     "text": [
      "('dog', 'bird', 'cat')\n"
     ]
    }
   ],
   "source": [
    "# CHANGE TUPLE VALUES\n",
    "# Once a tuple is created, you cannot change its values. Tuples are unchangeable, or immutable as it also is called.\n",
    "# But there is a workaround. You can convert the tuple into a list, change the list, and convert the list back into a tuple.\n",
    "\n",
    "tuple1 = ('dog', 'fish', 'cat')\n",
    "list1 = list(tuple1)\n",
    "list1[1] = 'bird'\n",
    "tuple1 = tuple(list1)\n",
    "print(tuple1)"
   ]
  },
  {
   "cell_type": "markdown",
   "id": "a9a9a4e4",
   "metadata": {},
   "source": [
    "### Add Items\n",
    "Since tuples are immutable, they do not have a build-in append() method, but there are other ways to add items to a tuple."
   ]
  },
  {
   "cell_type": "code",
   "execution_count": 16,
   "id": "043f4b87",
   "metadata": {},
   "outputs": [
    {
     "name": "stdout",
     "output_type": "stream",
     "text": [
      "('dog', 'fish', 'cat', 'tiger')\n"
     ]
    }
   ],
   "source": [
    "# 1. CONVERT INTO A LIST\n",
    "# Just like the workaround for changing a tuple, you can convert it into a list, add your item(s), and convert it back into \n",
    "# a tuple.\n",
    "\n",
    "tuple1 = ('dog','fish','cat')\n",
    "list1 = list(tuple1)\n",
    "list1.append('tiger')\n",
    "tuple1 = tuple(list1)\n",
    "print(tuple1)"
   ]
  },
  {
   "cell_type": "code",
   "execution_count": 17,
   "id": "e2cf81d2",
   "metadata": {},
   "outputs": [
    {
     "name": "stdout",
     "output_type": "stream",
     "text": [
      "('dog', 'fish', 'cat', 'bear')\n"
     ]
    }
   ],
   "source": [
    "# 2. ADD TUPLE TO A TUPLE\n",
    "# You are allowed to add tuples to tuples, so if you want to add one item, (or many), create a new tuple with the item(s), \n",
    "# and add it to the existing tuple:\n",
    "\n",
    "tuple1 = ('dog','fish','cat')\n",
    "y = ('bear',)\n",
    "tuple1 += y\n",
    "print(tuple1)"
   ]
  },
  {
   "cell_type": "markdown",
   "id": "6ef51853",
   "metadata": {},
   "source": [
    "### Remove Items\n",
    "Note: You cannot remove items in a tuple.\n",
    "\n",
    "Tuples are unchangeable, so you cannot remove items from it, but you can use the same workaround as we used for changing and adding tuple items:"
   ]
  },
  {
   "cell_type": "code",
   "execution_count": 19,
   "id": "d008fdcf",
   "metadata": {},
   "outputs": [
    {
     "name": "stdout",
     "output_type": "stream",
     "text": [
      "('dog', 'fish', 'bear')\n"
     ]
    }
   ],
   "source": [
    "# Convert the tuple into a list, remove \"apple\", and convert it back into a tuple:\n",
    "\n",
    "list1 = list(tuple1)\n",
    "list1.remove('cat')\n",
    "tuple1 = tuple(list1)\n",
    "print(tuple1)"
   ]
  },
  {
   "cell_type": "code",
   "execution_count": 20,
   "id": "661aa30d",
   "metadata": {},
   "outputs": [
    {
     "ename": "NameError",
     "evalue": "name 'tuple1' is not defined",
     "output_type": "error",
     "traceback": [
      "\u001b[1;31m---------------------------------------------------------------------------\u001b[0m",
      "\u001b[1;31mNameError\u001b[0m                                 Traceback (most recent call last)",
      "Input \u001b[1;32mIn [20]\u001b[0m, in \u001b[0;36m<cell line: 4>\u001b[1;34m()\u001b[0m\n\u001b[0;32m      1\u001b[0m \u001b[38;5;66;03m# Or you can delete the tuple completely:\u001b[39;00m\n\u001b[0;32m      3\u001b[0m \u001b[38;5;28;01mdel\u001b[39;00m tuple1\n\u001b[1;32m----> 4\u001b[0m \u001b[38;5;28mprint\u001b[39m(\u001b[43mtuple1\u001b[49m)\n",
      "\u001b[1;31mNameError\u001b[0m: name 'tuple1' is not defined"
     ]
    }
   ],
   "source": [
    "# Or you can delete the tuple completely:\n",
    "\n",
    "del tuple1\n",
    "print(tuple1)  #this will raise an error because the tuple no longer exists"
   ]
  },
  {
   "cell_type": "code",
   "execution_count": 21,
   "id": "10e79835",
   "metadata": {},
   "outputs": [],
   "source": [
    "# UNPACKING A TUPLE\n",
    "# When we create a tuple, we normally assign values to it. This is called \"packing\" a tuple:\n",
    "\n",
    "tuple1 = ('dog','fish','cat')"
   ]
  },
  {
   "cell_type": "code",
   "execution_count": 22,
   "id": "77d6161a",
   "metadata": {},
   "outputs": [
    {
     "name": "stdout",
     "output_type": "stream",
     "text": [
      "dog\n",
      "fish\n",
      "cat\n"
     ]
    }
   ],
   "source": [
    "# But, in Python, we are also allowed to extract the values back into variables. This is called \"unpacking\":\n",
    "\n",
    "(white, red, black) = tuple1\n",
    "\n",
    "print(white)\n",
    "print(red)\n",
    "print(black)\n",
    "\n",
    "# Note: The number of variables must match the number of values in the tuple, if not, you must use an asterisk to collect \n",
    "# the remaining values as a list."
   ]
  },
  {
   "cell_type": "code",
   "execution_count": 23,
   "id": "2699fa4f",
   "metadata": {},
   "outputs": [
    {
     "name": "stdout",
     "output_type": "stream",
     "text": [
      "dog\n",
      "fish\n",
      "['cat', 'bear', 'bird']\n"
     ]
    }
   ],
   "source": [
    "# USING ASTERISK *\n",
    "# If the number of variables is less than the number of values, you can add an * to the variable name and the values will be \n",
    "# assigned to the variable as a list:\n",
    "# Assign the rest of the values as a list called \"red\":\n",
    "\n",
    "tuple1 = ('dog','fish','cat','bear','bird')\n",
    "(white, red, *yellow) = tuple1\n",
    "\n",
    "\n",
    "print(white)\n",
    "print(red)\n",
    "print(yellow)"
   ]
  },
  {
   "cell_type": "code",
   "execution_count": 25,
   "id": "a72cf303",
   "metadata": {},
   "outputs": [
    {
     "name": "stdout",
     "output_type": "stream",
     "text": [
      "dog\n",
      "['fish', 'cat', 'bear']\n",
      "bird\n"
     ]
    }
   ],
   "source": [
    "# If the asterisk is added to another variable name than the last, Python will assign values to the variable until the number \n",
    "# of values left matches the number of variables left.\n",
    "\n",
    "(white, *red, yellow) = tuple1\n",
    "\n",
    "print(white)\n",
    "print(red)\n",
    "print(yellow)"
   ]
  },
  {
   "cell_type": "code",
   "execution_count": 26,
   "id": "a69cfa24",
   "metadata": {},
   "outputs": [
    {
     "name": "stdout",
     "output_type": "stream",
     "text": [
      "dog\n",
      "fish\n",
      "cat\n",
      "bear\n",
      "bird\n"
     ]
    }
   ],
   "source": [
    "# LOOP TUPLES\n",
    "# You can loop through the tuple items by using a for loop.\n",
    "\n",
    "for x in tuple1:\n",
    "    print(x)"
   ]
  },
  {
   "cell_type": "code",
   "execution_count": 28,
   "id": "9a11a451",
   "metadata": {},
   "outputs": [
    {
     "name": "stdout",
     "output_type": "stream",
     "text": [
      "dog\n",
      "fish\n",
      "cat\n",
      "bear\n",
      "bird\n"
     ]
    }
   ],
   "source": [
    "# LOOP THROUGH THE INDEX NUMBERS\n",
    "# You can also loop through the tuple items by referring to their index number.\n",
    "# Use the range() and len() functions to create a suitable iterable.\n",
    "\n",
    "for i in range(len(tuple1)):\n",
    "    print(tuple1[i])\n",
    "    i += 1"
   ]
  },
  {
   "cell_type": "code",
   "execution_count": 29,
   "id": "31716d3c",
   "metadata": {},
   "outputs": [
    {
     "name": "stdout",
     "output_type": "stream",
     "text": [
      "dog\n",
      "fish\n",
      "cat\n",
      "bear\n",
      "bird\n"
     ]
    }
   ],
   "source": [
    "# USING A WHILE LOOP\n",
    "# You can loop through the tuple items by using a while loop.\n",
    "# Use the len() function to determine the length of the tuple, then start at 0 and loop your way through the tuple items \n",
    "# by referring to their indexes.\n",
    "# Remember to increase the index by 1 after each iteration.\n",
    "\n",
    "i = 0\n",
    "while i < len(tuple1):\n",
    "    print(tuple1[i])\n",
    "    i += 1"
   ]
  },
  {
   "cell_type": "code",
   "execution_count": 30,
   "id": "62260129",
   "metadata": {},
   "outputs": [
    {
     "name": "stdout",
     "output_type": "stream",
     "text": [
      "('dog', 'fish', 'cat', 'bear', 'bird', 1, 2, 3)\n"
     ]
    }
   ],
   "source": [
    "# JOIN TUPLES\n",
    "# To join two or more tuples you can use the + operator:\n",
    "\n",
    "y = (1, 2, 3)\n",
    "newtuple = tuple1 + y\n",
    "print(newtuple)"
   ]
  },
  {
   "cell_type": "code",
   "execution_count": 31,
   "id": "6c4207e1",
   "metadata": {},
   "outputs": [
    {
     "name": "stdout",
     "output_type": "stream",
     "text": [
      "('dog', 'fish', 'cat', 'bear', 'bird', 1, 2, 3, 'dog', 'fish', 'cat', 'bear', 'bird', 1, 2, 3)\n"
     ]
    }
   ],
   "source": [
    "# MULTIPLY TUPLES\n",
    "# If you want to multiply the content of a tuple a given number of times, you can use the * operator:\n",
    "\n",
    "mytuple = newtuple * 2\n",
    "print(mytuple)"
   ]
  },
  {
   "cell_type": "markdown",
   "id": "1dfaa3d8",
   "metadata": {},
   "source": [
    "### Tuple Methods\n",
    "Python has two built-in methods that you can use on tuples.\n",
    "\n",
    "Method\tDescription <br>\n",
    "**count()**\tReturns the number of times a specified value occurs in a tuple <br>\n",
    "**index()**\tSearches the tuple for a specified value and returns the position of where it was found"
   ]
  },
  {
   "cell_type": "code",
   "execution_count": 34,
   "id": "0bf8fee2",
   "metadata": {},
   "outputs": [
    {
     "data": {
      "text/plain": [
       "2"
      ]
     },
     "execution_count": 34,
     "metadata": {},
     "output_type": "execute_result"
    }
   ],
   "source": [
    "mytuple.count('fish')"
   ]
  },
  {
   "cell_type": "code",
   "execution_count": 35,
   "id": "29e1fa99",
   "metadata": {},
   "outputs": [
    {
     "data": {
      "text/plain": [
       "3"
      ]
     },
     "execution_count": 35,
     "metadata": {},
     "output_type": "execute_result"
    }
   ],
   "source": [
    "newtuple.index('bear')"
   ]
  },
  {
   "cell_type": "code",
   "execution_count": null,
   "id": "daf1f957",
   "metadata": {},
   "outputs": [],
   "source": []
  }
 ],
 "metadata": {
  "kernelspec": {
   "display_name": "Python 3 (ipykernel)",
   "language": "python",
   "name": "python3"
  },
  "language_info": {
   "codemirror_mode": {
    "name": "ipython",
    "version": 3
   },
   "file_extension": ".py",
   "mimetype": "text/x-python",
   "name": "python",
   "nbconvert_exporter": "python",
   "pygments_lexer": "ipython3",
   "version": "3.9.12"
  }
 },
 "nbformat": 4,
 "nbformat_minor": 5
}
