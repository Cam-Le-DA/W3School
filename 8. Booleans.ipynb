{
 "cells": [
  {
   "cell_type": "markdown",
   "id": "5417be62",
   "metadata": {},
   "source": [
    "### Boolean\n",
    "In programming you often need to know if an expression is True or False. <br>\n",
    "You can evaluate any expression in Python, and get one of two answers, True or False. <br>\n",
    "When you compare two values, the expression is evaluated and Python returns the Boolean answer:"
   ]
  },
  {
   "cell_type": "code",
   "execution_count": 1,
   "id": "b56a80ed",
   "metadata": {},
   "outputs": [
    {
     "name": "stdout",
     "output_type": "stream",
     "text": [
      "True\n",
      "False\n",
      "False\n"
     ]
    }
   ],
   "source": [
    "print(10 > 9)\n",
    "print(10 == 9)\n",
    "print(10 < 9)"
   ]
  },
  {
   "cell_type": "code",
   "execution_count": 2,
   "id": "77e51413",
   "metadata": {},
   "outputs": [
    {
     "name": "stdout",
     "output_type": "stream",
     "text": [
      "b is NOT greater than a\n"
     ]
    }
   ],
   "source": [
    "# When you run a condition in an if statement, Python returns True or False:\n",
    "a = 200\n",
    "b = 33\n",
    "\n",
    "if b > a:\n",
    "    print('b is greater than a')\n",
    "else:\n",
    "    print('b is NOT greater than a')"
   ]
  },
  {
   "cell_type": "code",
   "execution_count": 3,
   "id": "058e576f",
   "metadata": {},
   "outputs": [
    {
     "name": "stdout",
     "output_type": "stream",
     "text": [
      "True\n",
      "True\n"
     ]
    }
   ],
   "source": [
    "# The bool() function allows you to evaluate any value, and give you True or False in return\n",
    "print(bool('Hello'))\n",
    "print(bool(15))"
   ]
  },
  {
   "cell_type": "code",
   "execution_count": 4,
   "id": "244201e2",
   "metadata": {},
   "outputs": [
    {
     "name": "stdout",
     "output_type": "stream",
     "text": [
      "True\n",
      "True\n"
     ]
    }
   ],
   "source": [
    "# Evaluate two variables:\n",
    "x = 'Hello'\n",
    "y = 15\n",
    "\n",
    "print(bool(x))\n",
    "print(bool(y))"
   ]
  },
  {
   "cell_type": "markdown",
   "id": "b93b21e3",
   "metadata": {},
   "source": [
    "#### Most Values are True\n",
    "Almost any value is evaluated to True if it has some sort of content. <br> \n",
    "Any string is True, except empty strings. <br>\n",
    "Any number is True, except 0. <br>\n",
    "Any list, tuple, set, and dictionary are True, except empty ones."
   ]
  },
  {
   "cell_type": "code",
   "execution_count": 6,
   "id": "cce4d0ad",
   "metadata": {},
   "outputs": [
    {
     "name": "stdout",
     "output_type": "stream",
     "text": [
      "False\n",
      "False\n",
      "False\n",
      "False\n",
      "False\n",
      "False\n",
      "False\n"
     ]
    }
   ],
   "source": [
    "# In fact, there are not many values that evaluate to False, except empty values, such as (), [], {}, \"\", the number 0, \n",
    "# and the value None. And of course the value False evaluates to False.\n",
    "print(bool(False))\n",
    "print(bool(None))\n",
    "print(bool(0))\n",
    "print(bool(''))\n",
    "print(bool(()))\n",
    "print(bool([]))\n",
    "print(bool({}))"
   ]
  },
  {
   "cell_type": "code",
   "execution_count": 10,
   "id": "2e123e67",
   "metadata": {},
   "outputs": [
    {
     "name": "stdout",
     "output_type": "stream",
     "text": [
      "False\n"
     ]
    }
   ],
   "source": [
    "# One more value, or object in this case, evaluates to False, and that is if you have an object that is made from a class\n",
    "# with a __len__ function that returns 0 or False:\n",
    "class myclass():\n",
    "    def __len__(self):\n",
    "        return 0\n",
    "    \n",
    "myobj = myclass()\n",
    "print(bool(myobj))"
   ]
  },
  {
   "cell_type": "code",
   "execution_count": 11,
   "id": "188bc13e",
   "metadata": {},
   "outputs": [
    {
     "name": "stdout",
     "output_type": "stream",
     "text": [
      "True\n"
     ]
    }
   ],
   "source": [
    "# You can create functions that returns a Boolean Value:\n",
    "def myFunction():\n",
    "    return True\n",
    "\n",
    "print(myFunction())"
   ]
  },
  {
   "cell_type": "code",
   "execution_count": 13,
   "id": "43762e2f",
   "metadata": {},
   "outputs": [
    {
     "name": "stdout",
     "output_type": "stream",
     "text": [
      "YES!\n"
     ]
    }
   ],
   "source": [
    "# You can execute code based on the Boolean answer of a function:\n",
    "# Print \"YES!\" if the function returns True, otherwise print \"NO!\":\n",
    "def myFunction():\n",
    "    return True\n",
    "\n",
    "if myFunction():\n",
    "    print('YES!')\n",
    "else:\n",
    "    print('NO!')"
   ]
  },
  {
   "cell_type": "code",
   "execution_count": 15,
   "id": "4525c838",
   "metadata": {},
   "outputs": [
    {
     "name": "stdout",
     "output_type": "stream",
     "text": [
      "True\n"
     ]
    }
   ],
   "source": [
    "# Python also has many built-in functions that return a boolean value, like the isinstance() function, which can be used \n",
    "# to determine if an object is of a certain data type:\n",
    "# Check if an object is an integer or not:\n",
    "\n",
    "x = 200\n",
    "print(isinstance(x, int))"
   ]
  },
  {
   "cell_type": "code",
   "execution_count": null,
   "id": "60d6634f",
   "metadata": {},
   "outputs": [],
   "source": []
  }
 ],
 "metadata": {
  "kernelspec": {
   "display_name": "Python 3 (ipykernel)",
   "language": "python",
   "name": "python3"
  },
  "language_info": {
   "codemirror_mode": {
    "name": "ipython",
    "version": 3
   },
   "file_extension": ".py",
   "mimetype": "text/x-python",
   "name": "python",
   "nbconvert_exporter": "python",
   "pygments_lexer": "ipython3",
   "version": "3.9.12"
  }
 },
 "nbformat": 4,
 "nbformat_minor": 5
}
