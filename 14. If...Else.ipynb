{
 "cells": [
  {
   "cell_type": "markdown",
   "id": "2d236517",
   "metadata": {},
   "source": [
    "### Python Conditions and If statements\n",
    "Python supports the usual logical conditions from mathematics:\n",
    "\n",
    "Equals: a == b <br>\n",
    "Not Equals: a != b <br>\n",
    "Less than: a < b <br>\n",
    "Less than or equal to: a <= b <br>\n",
    "Greater than: a > b <br>\n",
    "Greater than or equal to: a >= b <br>\n",
    "These conditions can be used in several ways, most commonly in \"if statements\" and loops."
   ]
  },
  {
   "cell_type": "code",
   "execution_count": 1,
   "id": "d40bf326",
   "metadata": {},
   "outputs": [
    {
     "name": "stdout",
     "output_type": "stream",
     "text": [
      "a is greater than b\n"
     ]
    }
   ],
   "source": [
    "# An \"if statement\" is written by using the if keyword.\n",
    "\n",
    "a = 200\n",
    "b = 33\n",
    "\n",
    "if a > b:\n",
    "    print('a is greater than b')"
   ]
  },
  {
   "cell_type": "code",
   "execution_count": 2,
   "id": "a70e1552",
   "metadata": {},
   "outputs": [
    {
     "ename": "IndentationError",
     "evalue": "expected an indented block (1643555068.py, line 10)",
     "output_type": "error",
     "traceback": [
      "\u001b[1;36m  Input \u001b[1;32mIn [2]\u001b[1;36m\u001b[0m\n\u001b[1;33m    print('a is greater than b')\u001b[0m\n\u001b[1;37m    ^\u001b[0m\n\u001b[1;31mIndentationError\u001b[0m\u001b[1;31m:\u001b[0m expected an indented block\n"
     ]
    }
   ],
   "source": [
    "# INDENTATION\n",
    "# Python relies on indentation (whitespace at the beginning of a line) to define scope in the code. Other programming languages\n",
    "# often use curly-brackets for this purpose.\n",
    "\n",
    "# If statement, without indentation (will raise an error):\n",
    "a = 200\n",
    "b = 33\n",
    "\n",
    "if a > b:\n",
    "print('a is greater than b')"
   ]
  },
  {
   "cell_type": "code",
   "execution_count": 6,
   "id": "4d5656a3",
   "metadata": {},
   "outputs": [
    {
     "name": "stdout",
     "output_type": "stream",
     "text": [
      "a and b are equal\n"
     ]
    }
   ],
   "source": [
    "# ELIF\n",
    "# The elif keyword is Python's way of saying \"if the previous conditions were not true, then try this condition\".\n",
    "\n",
    "a = 33\n",
    "b = 33\n",
    "if b > a:\n",
    "    print('b is greater than a')\n",
    "elif b == a:\n",
    "    print('a and b are equal')"
   ]
  },
  {
   "cell_type": "code",
   "execution_count": 8,
   "id": "819788a9",
   "metadata": {},
   "outputs": [
    {
     "name": "stdout",
     "output_type": "stream",
     "text": [
      "b is less than a\n"
     ]
    }
   ],
   "source": [
    "# ELSE\n",
    "# The else keyword catches anything which isn't caught by the preceding conditions.\n",
    "\n",
    "a = 200\n",
    "b = 33\n",
    "if b > a:\n",
    "    print('b is greater than a')\n",
    "elif b == a:\n",
    "    print('b and a are equal')\n",
    "else:\n",
    "    print('b is less than a')"
   ]
  },
  {
   "cell_type": "code",
   "execution_count": 9,
   "id": "261f0fe0",
   "metadata": {},
   "outputs": [
    {
     "name": "stdout",
     "output_type": "stream",
     "text": [
      "b is not greater than a\n"
     ]
    }
   ],
   "source": [
    "# You can also have an else without the elif:\n",
    "\n",
    "if b > a:\n",
    "    print('b is greater than a')\n",
    "else:\n",
    "    print('b is not greater than a')"
   ]
  },
  {
   "cell_type": "code",
   "execution_count": 10,
   "id": "674b4f24",
   "metadata": {},
   "outputs": [
    {
     "name": "stdout",
     "output_type": "stream",
     "text": [
      "a is greater than b\n"
     ]
    }
   ],
   "source": [
    "# SHORT HAND IF\n",
    "# If you have only one statement to execute, you can put it on the same line as the if statement.\n",
    "\n",
    "if a > b: print('a is greater than b')"
   ]
  },
  {
   "cell_type": "code",
   "execution_count": 12,
   "id": "967e045e",
   "metadata": {},
   "outputs": [
    {
     "name": "stdout",
     "output_type": "stream",
     "text": [
      "A\n"
     ]
    }
   ],
   "source": [
    "# SHORT HAND IF...ELSE\n",
    "# If you have only one statement to execute, one for if, and one for else, you can put it all on the same line:\n",
    "\n",
    "print('A') if a > b else print('B')\n",
    "\n",
    "# This technique is known as Ternary Operators, or Conditional Expressions."
   ]
  },
  {
   "cell_type": "code",
   "execution_count": 13,
   "id": "17de4b55",
   "metadata": {},
   "outputs": [
    {
     "name": "stdout",
     "output_type": "stream",
     "text": [
      "A\n"
     ]
    }
   ],
   "source": [
    "# You can also have multiple else statements on the same line:\n",
    "\n",
    "print('A') if a > b else print('=') if a == b else print('B')"
   ]
  },
  {
   "cell_type": "code",
   "execution_count": 14,
   "id": "0fe6c46b",
   "metadata": {},
   "outputs": [
    {
     "name": "stdout",
     "output_type": "stream",
     "text": [
      "Both conditions are True\n"
     ]
    }
   ],
   "source": [
    "# AND\n",
    "# The and keyword is a logical operator, and is used to combine conditional statements:\n",
    "\n",
    "a = 200\n",
    "b = 33\n",
    "c = 500\n",
    "\n",
    "if a > b and c > a:\n",
    "    print('Both conditions are True')"
   ]
  },
  {
   "cell_type": "code",
   "execution_count": 16,
   "id": "49bee505",
   "metadata": {},
   "outputs": [
    {
     "name": "stdout",
     "output_type": "stream",
     "text": [
      "At least one of the conditions is True\n"
     ]
    }
   ],
   "source": [
    "# OR\n",
    "# The or keyword is a logical operator, and is used to combine conditional statements:\n",
    "\n",
    "if a > b or b > c:\n",
    "    print('At least one of the conditions is True')"
   ]
  },
  {
   "cell_type": "code",
   "execution_count": 17,
   "id": "126af7ab",
   "metadata": {},
   "outputs": [
    {
     "name": "stdout",
     "output_type": "stream",
     "text": [
      "b is not greater than c\n"
     ]
    }
   ],
   "source": [
    "# NOT\n",
    "# The not keyword is a logical operator, and is used to reverse the result of the conditional statement:\n",
    "\n",
    "if not b > c:\n",
    "    print('b is not greater than c')"
   ]
  },
  {
   "cell_type": "code",
   "execution_count": 18,
   "id": "07dd60d7",
   "metadata": {},
   "outputs": [
    {
     "name": "stdout",
     "output_type": "stream",
     "text": [
      "Above ten,\n",
      "and also above twenty\n"
     ]
    }
   ],
   "source": [
    "# NESTED IF\n",
    "# You can have if statements inside if statements, this is called nested if statements.\n",
    "\n",
    "x = 41\n",
    "if x > 10:\n",
    "    print('Above ten,')\n",
    "    if x > 20:\n",
    "        print('and also above twenty')\n",
    "    else:\n",
    "        print('but not above twenty')"
   ]
  },
  {
   "cell_type": "code",
   "execution_count": 19,
   "id": "e5b53af4",
   "metadata": {},
   "outputs": [],
   "source": [
    "# The pass statement\n",
    "# if statements cannot be empty, but if you for some reason have an if statement with no content, put in the pass statement \n",
    "# to avoid getting an error.\n",
    "\n",
    "a = 200\n",
    "b = 33\n",
    "if b > a:\n",
    "    pass  # having an empty if statement like this, would raise an error without the pass statement"
   ]
  },
  {
   "cell_type": "code",
   "execution_count": null,
   "id": "5efbcef2",
   "metadata": {},
   "outputs": [],
   "source": []
  }
 ],
 "metadata": {
  "kernelspec": {
   "display_name": "Python 3 (ipykernel)",
   "language": "python",
   "name": "python3"
  },
  "language_info": {
   "codemirror_mode": {
    "name": "ipython",
    "version": 3
   },
   "file_extension": ".py",
   "mimetype": "text/x-python",
   "name": "python",
   "nbconvert_exporter": "python",
   "pygments_lexer": "ipython3",
   "version": "3.9.12"
  }
 },
 "nbformat": 4,
 "nbformat_minor": 5
}
