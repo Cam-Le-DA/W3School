{
 "cells": [
  {
   "cell_type": "markdown",
   "id": "acdf61c5",
   "metadata": {},
   "source": [
    "### Python Dates\n",
    "A date in Python is not a data type of its own, but we can import a module named datetime to work with dates as date objects."
   ]
  },
  {
   "cell_type": "code",
   "execution_count": 1,
   "id": "42d9787a",
   "metadata": {},
   "outputs": [
    {
     "name": "stdout",
     "output_type": "stream",
     "text": [
      "2023-02-23 21:38:02.726505\n"
     ]
    }
   ],
   "source": [
    "# Import the datetime module and display the current date:\n",
    "import datetime\n",
    "\n",
    "x = datetime.datetime.now()\n",
    "print(x)"
   ]
  },
  {
   "cell_type": "markdown",
   "id": "324e8435",
   "metadata": {},
   "source": [
    "### Date Output\n",
    "When we execute the code from the example above the result will be:\n",
    "\n",
    "2023-02-23 21:34:19.946734 <br>\n",
    "The date contains year, month, day, hour, minute, second, and microsecond.\n",
    "\n",
    "The datetime module has many methods to return information about the date object.\n",
    "\n",
    "Here are a few examples, you will learn more about them later in this chapter:"
   ]
  },
  {
   "cell_type": "code",
   "execution_count": 2,
   "id": "03ec4d67",
   "metadata": {},
   "outputs": [
    {
     "name": "stdout",
     "output_type": "stream",
     "text": [
      "2023\n",
      "Thursday\n"
     ]
    }
   ],
   "source": [
    "# Return the year and name of weekday:\n",
    "\n",
    "import datetime\n",
    "x = datetime.datetime.now()\n",
    "\n",
    "print(x.year)\n",
    "print(x.strftime(\"%A\"))"
   ]
  },
  {
   "cell_type": "markdown",
   "id": "fd3297dc",
   "metadata": {},
   "source": [
    "### Creating Date Objects\n",
    "To create a date, we can use the datetime() class (constructor) of the datetime module.\n",
    "\n",
    "The datetime() class requires three parameters to create a date: year, month, day."
   ]
  },
  {
   "cell_type": "code",
   "execution_count": 4,
   "id": "f089ff74",
   "metadata": {},
   "outputs": [
    {
     "name": "stdout",
     "output_type": "stream",
     "text": [
      "1979-05-28 00:00:00\n"
     ]
    }
   ],
   "source": [
    "import datetime\n",
    "\n",
    "x = datetime.datetime(1979, 5, 28)\n",
    "print(x)\n",
    "\n",
    "# The datetime() class also takes parameters for time and timezone (hour, minute, second, microsecond, tzone), but they are \n",
    "# optional, and has a default value of 0, (None for timezone)."
   ]
  },
  {
   "cell_type": "markdown",
   "id": "64bd3022",
   "metadata": {},
   "source": [
    "### The strftime() Method\n",
    "The datetime object has a method for formatting date objects into readable strings.\n",
    "\n",
    "The method is called strftime(), and takes one parameter, format, to specify the format of the returned string:"
   ]
  },
  {
   "cell_type": "code",
   "execution_count": 5,
   "id": "a8195266",
   "metadata": {},
   "outputs": [
    {
     "name": "stdout",
     "output_type": "stream",
     "text": [
      "December\n"
     ]
    }
   ],
   "source": [
    "# Display the name of the month:\n",
    "x = datetime.datetime(2021, 12, 1)\n",
    "print(x.strftime('%B'))"
   ]
  },
  {
   "cell_type": "markdown",
   "id": "a1621aa8",
   "metadata": {},
   "source": [
    "A reference of all the legal format codes:\n",
    "\n",
    "Directive\tDescription\tExample\t<br>\n",
    "**%a**\tWeekday, short version\tWed\t<br>\n",
    "**%A**\tWeekday, full version\tWednesday <br>\t\n",
    "**%w**\tWeekday as a number 0-6, 0 is Sunday\t3 <br>\t\n",
    "**%d**\tDay of month 01-31\t31\t<br>\n",
    "**%b**\tMonth name, short version\tDec <br>\t\n",
    "**%B**\tMonth name, full version\tDecember <br>\t\n",
    "**%m**\tMonth as a number 01-12\t12\t<br>\n",
    "**%y**\tYear, short version, without century\t18\t<br>\n",
    "**%Y**\tYear, full version\t2018\t<br>\n",
    "**%H**\tHour 00-23\t17\t<br>\n",
    "**%I**\tHour 00-12\t05\t<br>\n",
    "**%p**\tAM/PM\tPM\t<br>\n",
    "**%M**\tMinute 00-59\t41 <br>\t\n",
    "**%S**\tSecond 00-59\t08\t<br>\n",
    "**%f**\tMicrosecond 000000-999999\t548513\t<br>\n",
    "**%z**\tUTC offset\t+0100\t<br>\n",
    "**%Z**\tTimezone\tCST\t<br>\n",
    "**%j**\tDay number of year 001-366\t365\t<br>\n",
    "**%U**\tWeek number of year, Sunday as the first day of week, 00-53\t52\t<br>\n",
    "**%W**\tWeek number of year, Monday as the first day of week, 00-53\t52\t<br>\n",
    "**%c**\tLocal version of date and time\tMon Dec 31 17:41:00 2018\t<br>\n",
    "**%C**\tCentury\t20\t<br>\n",
    "**%x**\tLocal version of date\t12/31/18\t<br>\n",
    "**%X**\tLocal version of time\t17:41:00\t<br>\n",
    "**%%**\tA % character\t%\t<br>\n",
    "**%G**\tISO 8601 year\t2018\t<br>\n",
    "**%u**\tISO 8601 weekday (1-7)\t1\t<br>\n",
    "**%V**\tISO 8601 weeknumber (01-53)\t01\t\n"
   ]
  },
  {
   "cell_type": "code",
   "execution_count": null,
   "id": "e76b6588",
   "metadata": {},
   "outputs": [],
   "source": []
  }
 ],
 "metadata": {
  "kernelspec": {
   "display_name": "Python 3 (ipykernel)",
   "language": "python",
   "name": "python3"
  },
  "language_info": {
   "codemirror_mode": {
    "name": "ipython",
    "version": 3
   },
   "file_extension": ".py",
   "mimetype": "text/x-python",
   "name": "python",
   "nbconvert_exporter": "python",
   "pygments_lexer": "ipython3",
   "version": "3.9.12"
  }
 },
 "nbformat": 4,
 "nbformat_minor": 5
}
