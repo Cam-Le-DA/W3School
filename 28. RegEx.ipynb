{
 "cells": [
  {
   "cell_type": "markdown",
   "id": "f7b0a88a",
   "metadata": {},
   "source": [
    "A RegEx, or Regular Expression, is a sequence of characters that forms a search pattern.\n",
    "\n",
    "RegEx can be used to check if a string contains the specified search pattern.\n",
    "\n",
    "### RegEx Module\n",
    "Python has a built-in package called re, which can be used to work with Regular Expressions.\n",
    "\n",
    "When you have imported the re module, you can start using regular expressions"
   ]
  },
  {
   "cell_type": "code",
   "execution_count": 1,
   "id": "35aa8ce5",
   "metadata": {},
   "outputs": [
    {
     "name": "stdout",
     "output_type": "stream",
     "text": [
      "Yes, we have a match\n"
     ]
    }
   ],
   "source": [
    "# Search the string to see if it starts with \"The\" and ends with \"Spain\":\n",
    "\n",
    "import re\n",
    "\n",
    "txt = 'The rain in Spain'\n",
    "x = re.search('^The.*Spain$',txt)\n",
    "\n",
    "if x:\n",
    "    print('Yes, we have a match')\n",
    "else:\n",
    "    print('No match')"
   ]
  },
  {
   "cell_type": "markdown",
   "id": "0079df1f",
   "metadata": {},
   "source": [
    "### RegEx Functions\n",
    "The re module offers a set of functions that allows us to search a string for a match:\n",
    "\n",
    "Function\tDescription<br>\n",
    "**findall**\tReturns a list containing all matches<br>\n",
    "**search**\tReturns a Match object if there is a match anywhere in the string<br>\n",
    "**split**\tReturns a list where the string has been split at each match<br>\n",
    "**sub**\tReplaces one or many matches with a string"
   ]
  },
  {
   "cell_type": "markdown",
   "id": "1a4d7af5",
   "metadata": {},
   "source": [
    "### Metacharacters\n",
    "Metacharacters are characters with a special meaning:\n",
    "\n",
    "Character\tDescription\tExample\t<br>\n",
    "**[]**\tA set of characters\t\"[a-m]\"\t<br>\n",
    "**\\**\tSignals a special sequence (can also be used to escape special characters)\t\"\\d\"\t<br>\n",
    "**.**\tAny character (except newline character)\t\"he..o\"\t<br>\n",
    "**^**\tStarts with\t\"^hello\"\t<br>\n",
    "\n",
    "\n",
    "**+**\tOne or more occurrences\t\"he.+o\"\t<br>\n",
    "**?**\tZero or one occurrences\t\"he.?o\"\t<br>\n",
    "**{}**\tExactly the specified number of occurrences\t\"he.{2}o\"\t<br>\n",
    "**|**\tEither or\t\"falls|stays\"\t<br>\n",
    "**()**\tCapture and group\t "
   ]
  },
  {
   "cell_type": "code",
   "execution_count": 4,
   "id": "5cb48bd6",
   "metadata": {},
   "outputs": [],
   "source": [
    "# $ Ends with \"planet$\"\n",
    "# * Zero or more occurrences \"he.*o\""
   ]
  },
  {
   "cell_type": "code",
   "execution_count": 7,
   "id": "a3cd47c3",
   "metadata": {},
   "outputs": [
    {
     "name": "stdout",
     "output_type": "stream",
     "text": [
      "['h', 'e', 'a', 'i', 'i', 'a', 'i']\n"
     ]
    }
   ],
   "source": [
    "# Find all lower case characters alphabetically between \"a\" and \"m\":\n",
    "txt = 'The rain in Spain'\n",
    "x = re.findall(\"[a-m]\",txt)\n",
    "\n",
    "print(x)"
   ]
  },
  {
   "cell_type": "code",
   "execution_count": 8,
   "id": "89ec0cd7",
   "metadata": {},
   "outputs": [
    {
     "name": "stdout",
     "output_type": "stream",
     "text": [
      "['5', '9']\n"
     ]
    }
   ],
   "source": [
    "#Find all digit characters:\n",
    "\n",
    "txt = \"That will be 59 dollars\"\n",
    "x = re.findall('\\d',txt)\n",
    "print(x)"
   ]
  },
  {
   "cell_type": "code",
   "execution_count": 10,
   "id": "0a68fe8d",
   "metadata": {},
   "outputs": [
    {
     "name": "stdout",
     "output_type": "stream",
     "text": [
      "['hello']\n"
     ]
    }
   ],
   "source": [
    "#Search for a sequence that starts with \"he\", followed by two (any) characters, and an \"o\":\n",
    "\n",
    "txt = \"hello planet\"\n",
    "x = re.findall('he..o',txt)\n",
    "print(x)"
   ]
  },
  {
   "cell_type": "code",
   "execution_count": 11,
   "id": "97ac1d9e",
   "metadata": {},
   "outputs": [
    {
     "name": "stdout",
     "output_type": "stream",
     "text": [
      "Yes\n"
     ]
    }
   ],
   "source": [
    "#Check if the string starts with 'hello':\n",
    "\n",
    "txt = \"hello planet\"\n",
    "x = re.findall('^hello',txt)\n",
    "\n",
    "if x:\n",
    "    print('Yes')\n",
    "else:\n",
    "    print('No')"
   ]
  },
  {
   "cell_type": "code",
   "execution_count": 12,
   "id": "98840441",
   "metadata": {},
   "outputs": [
    {
     "name": "stdout",
     "output_type": "stream",
     "text": [
      "Yes\n"
     ]
    }
   ],
   "source": [
    "#Check if the string ends with 'planet':\n",
    "\n",
    "x = re.findall('planet$', txt)\n",
    "\n",
    "if x:\n",
    "    print('Yes')\n",
    "else:\n",
    "    print('No')"
   ]
  },
  {
   "cell_type": "code",
   "execution_count": 17,
   "id": "4aed7be6",
   "metadata": {},
   "outputs": [
    {
     "name": "stdout",
     "output_type": "stream",
     "text": [
      "['hello']\n"
     ]
    }
   ],
   "source": [
    "#Search for a sequence that starts with \"he\", followed by 0 or more  (any) characters, and an \"o\":\n",
    "x = re.findall('he.*o',txt)\n",
    "print(x)"
   ]
  },
  {
   "cell_type": "code",
   "execution_count": 19,
   "id": "d05a0403",
   "metadata": {},
   "outputs": [
    {
     "name": "stdout",
     "output_type": "stream",
     "text": [
      "['hello']\n"
     ]
    }
   ],
   "source": [
    "#Search for a sequence that starts with \"he\", followed by 1 or more  (any) characters, and an \"o\":\n",
    "x = re.findall('he.+o',txt)\n",
    "print(x)"
   ]
  },
  {
   "cell_type": "code",
   "execution_count": 15,
   "id": "d6ae9707",
   "metadata": {},
   "outputs": [
    {
     "name": "stdout",
     "output_type": "stream",
     "text": [
      "[]\n"
     ]
    }
   ],
   "source": [
    "#Search for a sequence that starts with \"he\", followed by 0 or 1  (any) character, and an \"o\":\n",
    "x = re.findall('he.?o',txt)\n",
    "print(x)"
   ]
  },
  {
   "cell_type": "code",
   "execution_count": 21,
   "id": "33db121b",
   "metadata": {},
   "outputs": [
    {
     "name": "stdout",
     "output_type": "stream",
     "text": [
      "['hello']\n"
     ]
    }
   ],
   "source": [
    "#Search for a sequence that starts with \"he\", followed excactly 2 (any) characters, and an \"o\":\n",
    "x = re.findall('he.{2}o',txt)\n",
    "print(x)"
   ]
  },
  {
   "cell_type": "code",
   "execution_count": 22,
   "id": "cd610492",
   "metadata": {},
   "outputs": [
    {
     "name": "stdout",
     "output_type": "stream",
     "text": [
      "Yes\n"
     ]
    }
   ],
   "source": [
    "#Check if the string contains either \"falls\" or \"stays\":\n",
    "\n",
    "txt = \"The rain in Spain falls mainly in the plain!\"\n",
    "x = re.findall('falls|stays',txt)\n",
    "\n",
    "if x:\n",
    "    print('Yes')\n",
    "else:\n",
    "    print('No')"
   ]
  },
  {
   "cell_type": "markdown",
   "id": "a7095a70",
   "metadata": {},
   "source": [
    "### Special Sequences\n",
    "A special sequence is a \\ followed by one of the characters in the list below, and has a special meaning:"
   ]
  },
  {
   "cell_type": "code",
   "execution_count": 24,
   "id": "db583d56",
   "metadata": {},
   "outputs": [
    {
     "name": "stdout",
     "output_type": "stream",
     "text": [
      "['The']\n",
      "Yes\n"
     ]
    }
   ],
   "source": [
    "# \\A\tReturns a match if the specified characters are at the beginning of the string\t\"\\AThe\"\n",
    "# Check if the string starts with \"The\":\n",
    "x = re.findall(\"\\AThe\", txt)\n",
    "\n",
    "print(x)\n",
    "if x:\n",
    "    print('Yes')\n",
    "else:\n",
    "    print('No')"
   ]
  },
  {
   "cell_type": "code",
   "execution_count": 27,
   "id": "dba2c389",
   "metadata": {},
   "outputs": [
    {
     "name": "stdout",
     "output_type": "stream",
     "text": [
      "[]\n",
      "No\n"
     ]
    }
   ],
   "source": [
    "# \\b\tReturns a match where the specified characters are at the beginning or at the end of a word\n",
    "# (the \"r\" in the beginning is making sure that the string is being treated as a \"raw string\")\tr\"\\bain\"  r\"ain\\b\"\n",
    "\n",
    "#Check if \"ain\" is present at the beginning of a WORD:\n",
    "txt = 'The rain in Spain'\n",
    "x = re.findall(r'\\bain',txt)\n",
    "print(x)\n",
    "\n",
    "if x:\n",
    "    print('Yes')\n",
    "else:\n",
    "    print('No')"
   ]
  },
  {
   "cell_type": "code",
   "execution_count": 30,
   "id": "d22326a1",
   "metadata": {},
   "outputs": [
    {
     "name": "stdout",
     "output_type": "stream",
     "text": [
      "['ain', 'ain']\n",
      "Yes\n"
     ]
    }
   ],
   "source": [
    "#Check if \"ain\" is present at the end of a WORD:\n",
    "x = re.findall(r'ain\\b',txt)\n",
    "print(x)\n",
    "\n",
    "if x:\n",
    "    print('Yes')\n",
    "else:\n",
    "    print(No)"
   ]
  },
  {
   "cell_type": "code",
   "execution_count": 31,
   "id": "4aa49560",
   "metadata": {},
   "outputs": [
    {
     "name": "stdout",
     "output_type": "stream",
     "text": [
      "['ain', 'ain']\n"
     ]
    }
   ],
   "source": [
    "# \\B\tReturns a match where the specified characters are present, but NOT at the beginning (or at the end) of a word\n",
    "# (the \"r\" in the beginning is making sure that the string is being treated as a \"raw string\") r\"\\Bain\"  r\"ain\\B\"\n",
    "\n",
    "#Check if \"ain\" is present, but NOT at the beginning of a word:\n",
    "x = re.findall(r'\\Bain', txt)\n",
    "print(x)"
   ]
  },
  {
   "cell_type": "code",
   "execution_count": 32,
   "id": "40032b62",
   "metadata": {},
   "outputs": [
    {
     "name": "stdout",
     "output_type": "stream",
     "text": [
      "[]\n"
     ]
    }
   ],
   "source": [
    "#Check if \"ain\" is present, but NOT at the end of a word:\n",
    "\n",
    "x = re.findall(r'ain\\B', txt)\n",
    "print(x)"
   ]
  },
  {
   "cell_type": "code",
   "execution_count": 33,
   "id": "f1e3f057",
   "metadata": {},
   "outputs": [
    {
     "name": "stdout",
     "output_type": "stream",
     "text": [
      "[]\n"
     ]
    }
   ],
   "source": [
    "# \\d\tReturns a match where the string contains digits (numbers from 0-9)\t\"\\d\"\n",
    "\n",
    "# #Check if the string contains any digits (numbers from 0-9):\n",
    "x = re.findall('\\d',txt)\n",
    "print(x)"
   ]
  },
  {
   "cell_type": "code",
   "execution_count": 34,
   "id": "6db6a6be",
   "metadata": {},
   "outputs": [
    {
     "name": "stdout",
     "output_type": "stream",
     "text": [
      "['T', 'h', 'e', ' ', 'r', 'a', 'i', 'n', ' ', 'i', 'n', ' ', 'S', 'p', 'a', 'i', 'n']\n"
     ]
    }
   ],
   "source": [
    "# \\D\tReturns a match where the string DOES NOT contain digits\t\"\\D\"\n",
    "\n",
    "# Return a match at every no-digit character:\n",
    "x = re.findall('\\D',txt)\n",
    "print(x)"
   ]
  },
  {
   "cell_type": "code",
   "execution_count": 35,
   "id": "83c2f867",
   "metadata": {},
   "outputs": [
    {
     "name": "stdout",
     "output_type": "stream",
     "text": [
      "[' ', ' ', ' ']\n"
     ]
    }
   ],
   "source": [
    "# \\s\tReturns a match where the string contains a white space character\t\"\\s\"\n",
    "\n",
    "# #Return a match at every white-space character:\n",
    "x = re.findall('\\s',txt)\n",
    "print(x)"
   ]
  },
  {
   "cell_type": "code",
   "execution_count": 36,
   "id": "9be633f0",
   "metadata": {},
   "outputs": [
    {
     "name": "stdout",
     "output_type": "stream",
     "text": [
      "['T', 'h', 'e', 'r', 'a', 'i', 'n', 'i', 'n', 'S', 'p', 'a', 'i', 'n']\n"
     ]
    }
   ],
   "source": [
    "# \\S\tReturns a match where the string DOES NOT contain a white space character\t\"\\S\"\n",
    "\n",
    "# Return a match at every NON white-space character:\n",
    "x = re.findall('\\S',txt)\n",
    "print(x)"
   ]
  },
  {
   "cell_type": "code",
   "execution_count": 37,
   "id": "47165453",
   "metadata": {},
   "outputs": [
    {
     "name": "stdout",
     "output_type": "stream",
     "text": [
      "['T', 'h', 'e', 'r', 'a', 'i', 'n', 'i', 'n', 'S', 'p', 'a', 'i', 'n']\n"
     ]
    }
   ],
   "source": [
    "# \\w\tReturns a match where the string contains any word characters (characters from a to Z, digits from 0-9, and the \n",
    "# underscore _ character)\t\"\\w\"\n",
    "\n",
    "#Return a match at every word character (characters from a to Z, digits from 0-9, and the underscore _ character):\n",
    "x = re.findall('\\w',txt)\n",
    "print(x)"
   ]
  },
  {
   "cell_type": "code",
   "execution_count": 38,
   "id": "ddd5e035",
   "metadata": {},
   "outputs": [
    {
     "name": "stdout",
     "output_type": "stream",
     "text": [
      "[' ', ' ', ' ']\n"
     ]
    }
   ],
   "source": [
    "# \\W\tReturns a match where the string DOES NOT contain any word characters\t\"\\W\"\n",
    "\n",
    "#Return a match at every NON word character (characters NOT between a and Z. Like \"!\", \"?\" white-space etc.):\n",
    "x = re.findall('\\W',txt)\n",
    "print(x)"
   ]
  },
  {
   "cell_type": "code",
   "execution_count": 39,
   "id": "25f92d23",
   "metadata": {},
   "outputs": [
    {
     "name": "stdout",
     "output_type": "stream",
     "text": [
      "['Spain']\n"
     ]
    }
   ],
   "source": [
    "# \\Z\tReturns a match if the specified characters are at the end of the string\t\"Spain\\Z\"\n",
    "\n",
    "# Check if the string ends with \"Spain\":\n",
    "x = re.findall('Spain\\Z',txt)\n",
    "print(x)"
   ]
  },
  {
   "cell_type": "markdown",
   "id": "3936c4cf",
   "metadata": {},
   "source": [
    "### Sets\n",
    "A set is a set of characters inside a pair of square brackets [] with a special meaning:"
   ]
  },
  {
   "cell_type": "code",
   "execution_count": 42,
   "id": "18b6db96",
   "metadata": {},
   "outputs": [
    {
     "name": "stdout",
     "output_type": "stream",
     "text": [
      "['r', 'a', 'n', 'n', 'a', 'n']\n"
     ]
    }
   ],
   "source": [
    "# [arn]\tReturns a match where one of the specified characters (a, r, or n) is present\n",
    "\n",
    "#Check if the string has any a, r, or n characters:\n",
    "x = re.findall(\"[arn]\",txt)\n",
    "print(x)"
   ]
  },
  {
   "cell_type": "code",
   "execution_count": 43,
   "id": "564e027f",
   "metadata": {},
   "outputs": [
    {
     "name": "stdout",
     "output_type": "stream",
     "text": [
      "['h', 'e', 'a', 'i', 'n', 'i', 'n', 'a', 'i', 'n']\n"
     ]
    }
   ],
   "source": [
    "# [a-n]\tReturns a match for any lower case character, alphabetically between a and n\n",
    "\n",
    "# [a-n]\tReturns a match for any lower case character, alphabetically between a and n\n",
    "x = re.findall('[a-n]',txt)\n",
    "print(x)"
   ]
  },
  {
   "cell_type": "code",
   "execution_count": 44,
   "id": "f076fa6c",
   "metadata": {},
   "outputs": [
    {
     "name": "stdout",
     "output_type": "stream",
     "text": [
      "['T', 'h', 'e', ' ', 'i', ' ', 'i', ' ', 'S', 'p', 'i']\n"
     ]
    }
   ],
   "source": [
    "# [^arn]\tReturns a match for any character EXCEPT a, r, and n\n",
    "\n",
    "#Check if the string has other characters than a, r, or n:\n",
    "x = re.findall('[^arn]',txt)\n",
    "print(x)"
   ]
  },
  {
   "cell_type": "code",
   "execution_count": 45,
   "id": "6dfa3cf1",
   "metadata": {},
   "outputs": [
    {
     "name": "stdout",
     "output_type": "stream",
     "text": [
      "[]\n"
     ]
    }
   ],
   "source": [
    "# [0123]\tReturns a match where any of the specified digits (0, 1, 2, or 3) are present\n",
    "\n",
    "# Check if the string has any 0, 1, 2, or 3 digits:\n",
    "x = re.findall('[0123]',txt)\n",
    "print(x)"
   ]
  },
  {
   "cell_type": "code",
   "execution_count": 46,
   "id": "8d3714fd",
   "metadata": {},
   "outputs": [
    {
     "name": "stdout",
     "output_type": "stream",
     "text": [
      "[]\n"
     ]
    }
   ],
   "source": [
    "# [0-9]\tReturns a match for any digit between 0 and 9\n",
    "\n",
    "#Check if the string has any digits:\n",
    "x = re.findall('[0-9]',txt)\n",
    "print(x)"
   ]
  },
  {
   "cell_type": "code",
   "execution_count": 47,
   "id": "9e3f7cd2",
   "metadata": {},
   "outputs": [
    {
     "name": "stdout",
     "output_type": "stream",
     "text": [
      "['11', '45']\n"
     ]
    }
   ],
   "source": [
    "# [0-5][0-9]\tReturns a match for any two-digit numbers from 00 and 59\n",
    "\n",
    "#Check if the string has any two-digit numbers, from 00 to 59:\n",
    "txt = \"8 times before 11:45 AM\"\n",
    "x = re.findall('[0-5][0-9]',txt)\n",
    "print(x)"
   ]
  },
  {
   "cell_type": "code",
   "execution_count": 48,
   "id": "1b2fe8fb",
   "metadata": {},
   "outputs": [
    {
     "name": "stdout",
     "output_type": "stream",
     "text": [
      "['t', 'i', 'm', 'e', 's', 'b', 'e', 'f', 'o', 'r', 'e', 'A', 'M']\n"
     ]
    }
   ],
   "source": [
    "# [a-zA-Z]\tReturns a match for any character alphabetically between a and z, lower case OR upper case\n",
    "\n",
    "# Check if the string has any characters from a to z lower case, and A to Z upper case:\n",
    "x = re.findall('[a-zA-Z]',txt)\n",
    "print(x)"
   ]
  },
  {
   "cell_type": "code",
   "execution_count": 50,
   "id": "aeff958b",
   "metadata": {},
   "outputs": [
    {
     "name": "stdout",
     "output_type": "stream",
     "text": [
      "[]\n"
     ]
    }
   ],
   "source": [
    "# [+]\tIn sets, +, *, ., |, (), $,{} has no special meaning, so [+] means: return a match for any + character in the string\n",
    "\n",
    "# Check if the string has any + characters:\n",
    "x = re.findall('[+]',txt)\n",
    "print(x)"
   ]
  },
  {
   "cell_type": "markdown",
   "id": "27c3bcb4",
   "metadata": {},
   "source": [
    "### The findall() Function\n",
    "The findall() function returns a list containing all matches.\n",
    "\n",
    "The list contains the matches in the order they are found.\n",
    "\n",
    "If no matches are found, an empty list is returned:"
   ]
  },
  {
   "cell_type": "code",
   "execution_count": 52,
   "id": "5d33b46f",
   "metadata": {},
   "outputs": [
    {
     "name": "stdout",
     "output_type": "stream",
     "text": [
      "[]\n"
     ]
    }
   ],
   "source": [
    "# Return an empty list if no match was found:\n",
    "\n",
    "txt = 'The rain in Spain'\n",
    "x = re.findall('Portugal',txt)\n",
    "print(x)"
   ]
  },
  {
   "cell_type": "markdown",
   "id": "d4f0fce9",
   "metadata": {},
   "source": [
    "### The search() Function\n",
    "The search() function searches the string for a match, and returns a Match object if there is a match.\n",
    "\n",
    "If there is more than one match, only the first occurrence of the match will be returned:"
   ]
  },
  {
   "cell_type": "code",
   "execution_count": 54,
   "id": "6285dbf8",
   "metadata": {},
   "outputs": [
    {
     "name": "stdout",
     "output_type": "stream",
     "text": [
      "The first white space position is 3\n"
     ]
    }
   ],
   "source": [
    "# Search for the first white-space character in the string:\n",
    "\n",
    "x = re.search('\\s',txt)\n",
    "print('The first white space position is', x.start())"
   ]
  },
  {
   "cell_type": "code",
   "execution_count": 55,
   "id": "4512d7b4",
   "metadata": {},
   "outputs": [
    {
     "name": "stdout",
     "output_type": "stream",
     "text": [
      "None\n"
     ]
    }
   ],
   "source": [
    "# If no matches are found, the value None is returned:\n",
    "\n",
    "x = re.search('Portugal',txt)\n",
    "print(x)"
   ]
  },
  {
   "cell_type": "markdown",
   "id": "cb5809e7",
   "metadata": {},
   "source": [
    "### The split() Function\n",
    "The split() function returns a list where the string has been split at each match:"
   ]
  },
  {
   "cell_type": "code",
   "execution_count": 57,
   "id": "5c135972",
   "metadata": {},
   "outputs": [
    {
     "name": "stdout",
     "output_type": "stream",
     "text": [
      "['The', 'rain', 'in', 'Spain']\n"
     ]
    }
   ],
   "source": [
    "# Split at each white-space character:\n",
    "\n",
    "x = re.split('\\s',txt)\n",
    "print(x)"
   ]
  },
  {
   "cell_type": "code",
   "execution_count": 58,
   "id": "fb1952ef",
   "metadata": {},
   "outputs": [
    {
     "name": "stdout",
     "output_type": "stream",
     "text": [
      "['The', 'rain in Spain']\n"
     ]
    }
   ],
   "source": [
    "# You can control the number of occurrences by specifying the maxsplit parameter:\n",
    "\n",
    "# Split the string only at the first occurrence:\n",
    "x = re.split('\\s',txt,1)\n",
    "print(x)"
   ]
  },
  {
   "cell_type": "markdown",
   "id": "8491eeb0",
   "metadata": {},
   "source": [
    "### The sub() Function\n",
    "The sub() function replaces the matches with the text of your choice:"
   ]
  },
  {
   "cell_type": "code",
   "execution_count": 60,
   "id": "e7715298",
   "metadata": {},
   "outputs": [
    {
     "name": "stdout",
     "output_type": "stream",
     "text": [
      "The9rain9in9Spain\n"
     ]
    }
   ],
   "source": [
    "# Replace every white-space character with the number 9:\n",
    "\n",
    "x = re.sub('\\s','9',txt)\n",
    "print(x)"
   ]
  },
  {
   "cell_type": "code",
   "execution_count": 61,
   "id": "365a7dc4",
   "metadata": {},
   "outputs": [
    {
     "name": "stdout",
     "output_type": "stream",
     "text": [
      "The9rain9in Spain\n"
     ]
    }
   ],
   "source": [
    "# You can control the number of replacements by specifying the count parameter:\n",
    "\n",
    "# Replace the first 2 occurrences:\n",
    "x = re.sub('\\s','9',txt,2)\n",
    "print(x)"
   ]
  },
  {
   "cell_type": "markdown",
   "id": "7032db19",
   "metadata": {},
   "source": [
    "### Match Object\n",
    "A Match Object is an object containing information about the search and the result.\n",
    "\n",
    "Note: If there is no match, the value None will be returned, instead of the Match Object."
   ]
  },
  {
   "cell_type": "code",
   "execution_count": 62,
   "id": "7a8ed868",
   "metadata": {},
   "outputs": [
    {
     "name": "stdout",
     "output_type": "stream",
     "text": [
      "<re.Match object; span=(5, 7), match='ai'>\n"
     ]
    }
   ],
   "source": [
    "# Do a search that will return a Match Object:\n",
    "x = re.search('ai',txt)\n",
    "print(x) #this will print an object"
   ]
  },
  {
   "cell_type": "markdown",
   "id": "ba2cadc9",
   "metadata": {},
   "source": [
    "The Match object has properties and methods used to retrieve information about the search, and the result:\n",
    "\n",
    "**.span()** returns a tuple containing the start-, and end positions of the match. <br>\n",
    "**.string** returns the string passed into the function <br>\n",
    "**.group()** returns the part of the string where there was a match"
   ]
  },
  {
   "cell_type": "code",
   "execution_count": 64,
   "id": "c9f27a2d",
   "metadata": {},
   "outputs": [
    {
     "name": "stdout",
     "output_type": "stream",
     "text": [
      "(12, 17)\n"
     ]
    }
   ],
   "source": [
    "# Print the position (start- and end-position) of the first match occurrence.\n",
    "# The regular expression looks for any words that starts with an upper case \"S\":\n",
    "\n",
    "x = re.search(r'\\bS\\w+', txt)\n",
    "print(x.span())"
   ]
  },
  {
   "cell_type": "code",
   "execution_count": 65,
   "id": "1cb9e26d",
   "metadata": {},
   "outputs": [
    {
     "name": "stdout",
     "output_type": "stream",
     "text": [
      "The rain in Spain\n"
     ]
    }
   ],
   "source": [
    "# Print the string passed into the function:\n",
    "print(x.string)"
   ]
  },
  {
   "cell_type": "code",
   "execution_count": 66,
   "id": "059af7eb",
   "metadata": {},
   "outputs": [
    {
     "name": "stdout",
     "output_type": "stream",
     "text": [
      "Spain\n"
     ]
    }
   ],
   "source": [
    "# Print the part of the string where there was a match.\n",
    "# The regular expression looks for any words that starts with an upper case \"S\":\n",
    "print(x.group())\n",
    "\n",
    "# Note: If there is no match, the value None will be returned, instead of the Match Object."
   ]
  },
  {
   "cell_type": "code",
   "execution_count": null,
   "id": "cc76ad90",
   "metadata": {},
   "outputs": [],
   "source": []
  }
 ],
 "metadata": {
  "kernelspec": {
   "display_name": "Python 3 (ipykernel)",
   "language": "python",
   "name": "python3"
  },
  "language_info": {
   "codemirror_mode": {
    "name": "ipython",
    "version": 3
   },
   "file_extension": ".py",
   "mimetype": "text/x-python",
   "name": "python",
   "nbconvert_exporter": "python",
   "pygments_lexer": "ipython3",
   "version": "3.9.12"
  }
 },
 "nbformat": 4,
 "nbformat_minor": 5
}
