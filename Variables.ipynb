{
 "cells": [
  {
   "cell_type": "markdown",
   "id": "15e39ba6",
   "metadata": {},
   "source": [
    "Variables are containers for storing data values.\n",
    "Python has no command for declaring a variable.\n",
    "A variable is created the moment you first assign a value to it."
   ]
  },
  {
   "cell_type": "code",
   "execution_count": 1,
   "id": "0a72db40",
   "metadata": {},
   "outputs": [
    {
     "data": {
      "text/plain": [
       "'Sally'"
      ]
     },
     "execution_count": 1,
     "metadata": {},
     "output_type": "execute_result"
    }
   ],
   "source": [
    "# Variables do not need to be declared with any particular type, and can even change type after they have been set.\n",
    "x = 4\n",
    "x = \"Sally\"\n",
    "x"
   ]
  },
  {
   "cell_type": "code",
   "execution_count": 2,
   "id": "9b01df76",
   "metadata": {},
   "outputs": [
    {
     "name": "stdout",
     "output_type": "stream",
     "text": [
      "3 3 3.0\n"
     ]
    }
   ],
   "source": [
    "# If you want to specify the data type of a variable, this can be done with casting\n",
    "x = str(3)\n",
    "y = int(3)\n",
    "z = float(3)\n",
    "print(x, y, z)"
   ]
  },
  {
   "cell_type": "code",
   "execution_count": 3,
   "id": "9edb8004",
   "metadata": {},
   "outputs": [
    {
     "name": "stdout",
     "output_type": "stream",
     "text": [
      "<class 'int'>\n",
      "<class 'str'>\n"
     ]
    }
   ],
   "source": [
    "# You can get the data type of a variable with the type() function.\n",
    "x = 5\n",
    "y = 'Hello, World!'\n",
    "print(type(x))\n",
    "print(type(y))"
   ]
  },
  {
   "cell_type": "code",
   "execution_count": 4,
   "id": "19e67f05",
   "metadata": {},
   "outputs": [
    {
     "name": "stdout",
     "output_type": "stream",
     "text": [
      "4\n",
      "Sally\n"
     ]
    }
   ],
   "source": [
    "# Variable names are case-sensitive.\n",
    "a = 4\n",
    "A = \"Sally\"\n",
    "print(a)\n",
    "print(A)"
   ]
  },
  {
   "cell_type": "markdown",
   "id": "c935bda1",
   "metadata": {},
   "source": [
    "A variable can have a short name (like x and y) or a more descriptive name (age, carname, total_volume). Rules for Python variables:\n",
    "A variable name must start with a letter or the underscore character\n",
    "A variable name cannot start with a number\n",
    "A variable name can only contain alpha-numeric characters and underscores (A-z, 0-9, and _ )\n",
    "Variable names are case-sensitive (age, Age and AGE are three different variables)"
   ]
  },
  {
   "cell_type": "code",
   "execution_count": 5,
   "id": "3e2c3575",
   "metadata": {},
   "outputs": [],
   "source": [
    "# Python allows you to assign values to multiple variables in one line:\n",
    "x, y, z = 'banana', 'orange', 'lemon'"
   ]
  },
  {
   "cell_type": "code",
   "execution_count": 6,
   "id": "9ec151ba",
   "metadata": {},
   "outputs": [],
   "source": [
    "# And you can assign the same value to multiple variables in one line:\n",
    "x = y = z = 'orange'"
   ]
  },
  {
   "cell_type": "code",
   "execution_count": 7,
   "id": "4e5ad130",
   "metadata": {},
   "outputs": [
    {
     "name": "stdout",
     "output_type": "stream",
     "text": [
      "lemon orange cherry\n"
     ]
    }
   ],
   "source": [
    "# If you have a collection of values in a list, tuple etc. Python allows you to extract the values into variables. \n",
    "# This is called unpacking.\n",
    "fruit = ['lemon', 'orange', 'cherry']\n",
    "x, y, z = fruit\n",
    "print(x, y, z)"
   ]
  },
  {
   "cell_type": "code",
   "execution_count": 8,
   "id": "9c20e53c",
   "metadata": {},
   "outputs": [
    {
     "name": "stdout",
     "output_type": "stream",
     "text": [
      "Python is awesome\n",
      "Pythonisawesome\n"
     ]
    }
   ],
   "source": [
    "# The Python print() function is often used to output variables.\n",
    "# In the print() function, you output multiple variables, separated by a comma\n",
    "x= 'Python'\n",
    "y = 'is'\n",
    "z = 'awesome'\n",
    "print(x, y, z)\n",
    "\n",
    "# You can also use the + operator to output multiple variables:\n",
    "print(x + y + z)"
   ]
  },
  {
   "cell_type": "code",
   "execution_count": 9,
   "id": "999c032b",
   "metadata": {},
   "outputs": [
    {
     "name": "stdout",
     "output_type": "stream",
     "text": [
      "14\n"
     ]
    }
   ],
   "source": [
    "# For numbers, the + character works as a mathematical operator:\n",
    "x = 5\n",
    "y = 9\n",
    "print(5 + 9)"
   ]
  },
  {
   "cell_type": "code",
   "execution_count": 10,
   "id": "a5529b20",
   "metadata": {},
   "outputs": [
    {
     "ename": "TypeError",
     "evalue": "unsupported operand type(s) for +: 'int' and 'str'",
     "output_type": "error",
     "traceback": [
      "\u001b[1;31m---------------------------------------------------------------------------\u001b[0m",
      "\u001b[1;31mTypeError\u001b[0m                                 Traceback (most recent call last)",
      "Input \u001b[1;32mIn [10]\u001b[0m, in \u001b[0;36m<cell line: 4>\u001b[1;34m()\u001b[0m\n\u001b[0;32m      2\u001b[0m x \u001b[38;5;241m=\u001b[39m \u001b[38;5;241m5\u001b[39m\n\u001b[0;32m      3\u001b[0m y \u001b[38;5;241m=\u001b[39m \u001b[38;5;124m'\u001b[39m\u001b[38;5;124mJohn\u001b[39m\u001b[38;5;124m'\u001b[39m\n\u001b[1;32m----> 4\u001b[0m \u001b[38;5;28mprint\u001b[39m(\u001b[43mx\u001b[49m\u001b[43m \u001b[49m\u001b[38;5;241;43m+\u001b[39;49m\u001b[43m \u001b[49m\u001b[43my\u001b[49m)\n",
      "\u001b[1;31mTypeError\u001b[0m: unsupported operand type(s) for +: 'int' and 'str'"
     ]
    }
   ],
   "source": [
    "# In the print() function, when you try to combine a string and a number with the + operator, Python will give you an error:\n",
    "x = 5\n",
    "y = 'John'\n",
    "print(x + y)"
   ]
  },
  {
   "cell_type": "code",
   "execution_count": 11,
   "id": "27c18eef",
   "metadata": {},
   "outputs": [
    {
     "name": "stdout",
     "output_type": "stream",
     "text": [
      "5 John\n"
     ]
    }
   ],
   "source": [
    "# The best way to output multiple variables in the print() function is to separate them with commas, which even support \n",
    "# different data types:\n",
    "print(x, y)"
   ]
  },
  {
   "cell_type": "code",
   "execution_count": 12,
   "id": "994b59f6",
   "metadata": {},
   "outputs": [
    {
     "name": "stdout",
     "output_type": "stream",
     "text": [
      "Python is awesome\n"
     ]
    }
   ],
   "source": [
    "# Variables that are created outside of a function (as in all of the examples above) are known as global variables.\n",
    "# Global variables can be used by everyone, both inside of functions and outside.\n",
    "x = 'awesome'\n",
    "def myFunction():\n",
    "    print('Python is '+ x)\n",
    "\n",
    "myFunction()"
   ]
  },
  {
   "cell_type": "code",
   "execution_count": 13,
   "id": "b99aafc7",
   "metadata": {},
   "outputs": [
    {
     "name": "stdout",
     "output_type": "stream",
     "text": [
      "Python is fantastic\n",
      "Python is awesome\n"
     ]
    }
   ],
   "source": [
    "# If you create a variable with the same name inside a function, this variable will be local, and can only be used inside the \n",
    "# function. The global variable with the same name will remain as it was, global and with the original value.\n",
    "x = 'awesome'\n",
    "def myFunction():\n",
    "    x = 'fantastic'\n",
    "    print('Python is ' + x)\n",
    "    \n",
    "myFunction()\n",
    "\n",
    "print('Python is ' + x)"
   ]
  },
  {
   "cell_type": "code",
   "execution_count": 14,
   "id": "991fb865",
   "metadata": {},
   "outputs": [
    {
     "name": "stdout",
     "output_type": "stream",
     "text": [
      "Python is fantastic\n"
     ]
    }
   ],
   "source": [
    "# To create a global variable inside a function, you can use the global keyword.\n",
    "def myFunc():\n",
    "    global x\n",
    "    x = 'fantastic'\n",
    "\n",
    "myFunc()\n",
    "print('Python is ' + x)"
   ]
  },
  {
   "cell_type": "code",
   "execution_count": 15,
   "id": "ac2f5a0f",
   "metadata": {},
   "outputs": [
    {
     "name": "stdout",
     "output_type": "stream",
     "text": [
      "Python is fantastic\n"
     ]
    }
   ],
   "source": [
    "# Also, use the global keyword if you want to change a global variable inside a function.\n",
    "x = 'awesome'\n",
    "def myFunc():\n",
    "    global x\n",
    "    x = 'fantastic'\n",
    "    \n",
    "myFunc()\n",
    "print('Python is ' + x)"
   ]
  },
  {
   "cell_type": "code",
   "execution_count": null,
   "id": "3016c468",
   "metadata": {},
   "outputs": [],
   "source": []
  }
 ],
 "metadata": {
  "kernelspec": {
   "display_name": "Python 3 (ipykernel)",
   "language": "python",
   "name": "python3"
  },
  "language_info": {
   "codemirror_mode": {
    "name": "ipython",
    "version": 3
   },
   "file_extension": ".py",
   "mimetype": "text/x-python",
   "name": "python",
   "nbconvert_exporter": "python",
   "pygments_lexer": "ipython3",
   "version": "3.9.12"
  }
 },
 "nbformat": 4,
 "nbformat_minor": 5
}
