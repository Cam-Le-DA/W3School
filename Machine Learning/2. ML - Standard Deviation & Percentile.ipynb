{
 "cells": [
  {
   "cell_type": "markdown",
   "id": "40ef3f49",
   "metadata": {},
   "source": [
    "### What is Standard Deviation?\n",
    "Standard deviation is a number that describes how spread out the values are.\n",
    "\n",
    "A low standard deviation means that most of the numbers are close to the mean (average) value.\n",
    "\n",
    "A high standard deviation means that the values are spread out over a wider range.\n",
    "\n",
    "Example: This time we have registered the speed of 7 cars:\n",
    "\n",
    "speed = [86,87,88,86,87,85,86]\n",
    "\n",
    "The standard deviation is:\n",
    "\n",
    "0.9\n",
    "\n",
    "Meaning that most of the values are within the range of 0.9 from the mean value, which is 86.4."
   ]
  },
  {
   "cell_type": "markdown",
   "id": "42903a5b",
   "metadata": {},
   "source": [
    "Let us do the same with a selection of numbers with a wider range:\n",
    "\n",
    "speed = [32,111,138,28,59,77,97]\n",
    "\n",
    "The standard deviation is:\n",
    "\n",
    "37.85\n",
    "\n",
    "Meaning that most of the values are within the range of 37.85 from the mean value, which is 77.4.\n",
    "\n",
    "As you can see, a higher standard deviation indicates that the values are spread out over a wider range.\n",
    "\n",
    "The NumPy module has a method to calculate the standard deviation:"
   ]
  },
  {
   "cell_type": "code",
   "execution_count": 2,
   "id": "6a0b3692",
   "metadata": {},
   "outputs": [
    {
     "name": "stdout",
     "output_type": "stream",
     "text": [
      "0.9035079029052513\n"
     ]
    }
   ],
   "source": [
    "import numpy as np\n",
    "\n",
    "# Use the NumPy std() method to find the standard deviation:\n",
    "speed = [86,87,88,86,87,85,86]\n",
    "\n",
    "x = np.std(speed)\n",
    "print(x)"
   ]
  },
  {
   "cell_type": "markdown",
   "id": "6008262f",
   "metadata": {},
   "source": [
    "### Variance\n",
    "Variance is another number that indicates how spread out the values are.\n",
    "\n",
    "In fact, if you take the square root of the variance, you get the standard deviation!\n",
    "\n",
    "Or the other way around, if you multiply the standard deviation by itself, you get the variance!\n",
    "\n",
    "To calculate the variance you have to do as follows:\n",
    "\n",
    "1. Find the mean:\n",
    "\n",
    "(32+111+138+28+59+77+97) / 7 = 77.4\n",
    "\n",
    "2. For each value: find the difference from the mean:\n",
    "\n",
    " 32 - 77.4 = -45.4 <br>\n",
    "111 - 77.4 =  33.6 <br>\n",
    "138 - 77.4 =  60.6 <br>\n",
    " 28 - 77.4 = -49.4 <br>\n",
    " 59 - 77.4 = -18.4 <br>\n",
    " 77 - 77.4 = - 0.4 <br>\n",
    " 97 - 77.4 =  19.6\n",
    "\n",
    "3. For each difference: find the square value:\n",
    "\n",
    "(-45.4)2 = 2061.16 <br>\n",
    " (33.6)2 = 1128.96 <br>\n",
    " (60.6)2 = 3672.36 <br>\n",
    "(-49.4)2 = 2440.36 <br>\n",
    "(-18.4)2 =  338.56 <br>\n",
    "(- 0.4)2 =    0.16 <br>\n",
    " (19.6)2 =  384.16\n",
    " \n",
    "4. The variance is the average number of these squared differences:\n",
    "\n",
    "(2061.16+1128.96+3672.36+2440.36+338.56+0.16+384.16) / 7 = 1432.2\n",
    "\n",
    "Luckily, NumPy has a method to calculate the variance:"
   ]
  },
  {
   "cell_type": "code",
   "execution_count": 4,
   "id": "ec666bf5",
   "metadata": {},
   "outputs": [
    {
     "name": "stdout",
     "output_type": "stream",
     "text": [
      "1432.2448979591834\n"
     ]
    }
   ],
   "source": [
    "# Use the NumPy var() method to find the variance:\n",
    "speed = [32,111,138,28,59,77,97]\n",
    "x = np.var(speed)\n",
    "print(x)"
   ]
  },
  {
   "cell_type": "markdown",
   "id": "fef037e6",
   "metadata": {},
   "source": [
    "### Standard Deviation\n",
    "As we have learned, the formula to find the standard deviation is the square root of the variance:\n",
    "\n",
    "√1432.25 = 37.85\n",
    "\n",
    "Or, as in the example from before, use the NumPy to calculate the standard deviation:"
   ]
  },
  {
   "cell_type": "code",
   "execution_count": 5,
   "id": "0ca289a4",
   "metadata": {},
   "outputs": [
    {
     "name": "stdout",
     "output_type": "stream",
     "text": [
      "37.84501153334721\n"
     ]
    }
   ],
   "source": [
    "# Use the NumPy std() method to find the standard deviation:\n",
    "x = np.std(speed)\n",
    "print(x)"
   ]
  },
  {
   "cell_type": "markdown",
   "id": "004537b8",
   "metadata": {},
   "source": [
    "### Symbols\n",
    "Standard Deviation is often represented by the symbol Sigma: σ\n",
    "\n",
    "Variance is often represented by the symbol Sigma Squared: σ2\n",
    "\n",
    "### Chapter Summary\n",
    "The Standard Deviation and Variance are terms that are often used in Machine Learning, so it is important to understand how to get them, and the concept behind them."
   ]
  },
  {
   "cell_type": "markdown",
   "id": "8d31916d",
   "metadata": {},
   "source": [
    "### What are Percentiles?\n",
    "Percentiles are used in statistics to give you a number that describes the value that a given percent of the values are lower than.\n",
    "\n",
    "Example: Let's say we have an array of the ages of all the people that live in a street.\n",
    "\n",
    "ages = [5,31,43,48,50,41,7,11,15,39,80,82,32,2,8,6,25,36,27,61,31]\n",
    "\n",
    "What is the 75. percentile? The answer is 43, meaning that 75% of the people are 43 or younger.\n",
    "\n",
    "The NumPy module has a method for finding the specified percentile:"
   ]
  },
  {
   "cell_type": "code",
   "execution_count": 7,
   "id": "fe9e8b03",
   "metadata": {},
   "outputs": [
    {
     "name": "stdout",
     "output_type": "stream",
     "text": [
      "43.0\n"
     ]
    }
   ],
   "source": [
    "# Use the NumPy percentile() method to find the percentiles:\n",
    "ages = [5,31,43,48,50,41,7,11,15,39,80,82,32,2,8,6,25,36,27,61,31]\n",
    "x = np.percentile(ages, 75)\n",
    "print(x)"
   ]
  },
  {
   "cell_type": "code",
   "execution_count": 8,
   "id": "67ee9038",
   "metadata": {},
   "outputs": [
    {
     "name": "stdout",
     "output_type": "stream",
     "text": [
      "61.0\n"
     ]
    }
   ],
   "source": [
    "# What is the age that 90% of the people are younger than?\n",
    "x = np.percentile(ages, 90)\n",
    "print(x)"
   ]
  },
  {
   "cell_type": "code",
   "execution_count": null,
   "id": "243557a8",
   "metadata": {},
   "outputs": [],
   "source": []
  }
 ],
 "metadata": {
  "kernelspec": {
   "display_name": "Python 3 (ipykernel)",
   "language": "python",
   "name": "python3"
  },
  "language_info": {
   "codemirror_mode": {
    "name": "ipython",
    "version": 3
   },
   "file_extension": ".py",
   "mimetype": "text/x-python",
   "name": "python",
   "nbconvert_exporter": "python",
   "pygments_lexer": "ipython3",
   "version": "3.9.12"
  }
 },
 "nbformat": 4,
 "nbformat_minor": 5
}
