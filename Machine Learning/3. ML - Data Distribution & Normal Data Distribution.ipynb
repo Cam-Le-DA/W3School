{
 "cells": [
  {
   "cell_type": "markdown",
   "id": "81c20af5",
   "metadata": {},
   "source": [
    "### Data Distribution\n",
    "Earlier in this tutorial we have worked with very small amounts of data in our examples, just to understand the different concepts.\n",
    "\n",
    "In the real world, the data sets are much bigger, but it can be difficult to gather real world data, at least at an early stage of a project.\n",
    "\n",
    "### How Can we Get Big Data Sets?\n",
    "To create big data sets for testing, we use the Python module NumPy, which comes with a number of methods to create random data sets, of any size."
   ]
  },
  {
   "cell_type": "code",
   "execution_count": 1,
   "id": "740a4c0d",
   "metadata": {},
   "outputs": [
    {
     "name": "stdout",
     "output_type": "stream",
     "text": [
      "[1.28835754e+00 1.56371420e+00 3.52300939e+00 3.35884261e+00\n",
      " 4.15521636e+00 4.41700119e-01 1.46578108e+00 3.41108390e+00\n",
      " 1.85166790e+00 3.49412217e+00 7.84958241e-01 2.43155138e+00\n",
      " 1.67893699e+00 2.56667747e+00 4.25016169e+00 1.21990062e+00\n",
      " 1.59405084e+00 4.16120770e+00 3.88034311e+00 2.84641628e+00\n",
      " 3.09148202e+00 3.72822974e+00 2.79047840e+00 3.71522148e+00\n",
      " 1.82721405e+00 2.86488726e+00 2.65196329e+00 1.94181329e+00\n",
      " 2.06240802e-04 1.30802884e+00 3.70403890e+00 2.35272393e+00\n",
      " 2.09335816e+00 4.05758120e+00 1.17982595e+00 1.46814920e+00\n",
      " 2.42868928e+00 1.55373442e+00 3.23316864e+00 2.78988034e+00\n",
      " 3.92705744e+00 1.15720852e+00 4.08094662e+00 1.13048681e+00\n",
      " 2.07017054e+00 3.81457979e+00 4.45035944e+00 4.76377146e+00\n",
      " 3.15848421e+00 2.70786731e+00 4.60193847e+00 2.93867908e+00\n",
      " 1.92027291e+00 3.16260999e+00 4.98807537e+00 2.82303454e+00\n",
      " 2.27818244e+00 4.28971697e+00 1.16595586e+00 1.71695601e+00\n",
      " 9.92688385e-01 3.35717166e+00 2.62715781e+00 4.14917792e+00\n",
      " 9.16908257e-01 1.43460699e-01 4.82977255e-01 4.61574711e+00\n",
      " 4.48795096e+00 6.91851771e-01 1.64117179e+00 3.93565133e+00\n",
      " 2.21383955e+00 6.36008406e-01 1.66814433e+00 3.51268989e+00\n",
      " 2.98956394e+00 1.63560594e+00 1.67122807e-01 2.85772695e+00\n",
      " 4.85117245e+00 3.38301327e+00 9.28578491e-01 3.76649210e+00\n",
      " 2.16885531e+00 3.21486377e+00 5.54356712e-01 4.55360274e+00\n",
      " 2.94842429e+00 3.27050255e-01 3.83553079e-01 4.10312976e+00\n",
      " 5.17836883e-01 4.10080706e+00 3.68335764e+00 4.93799548e+00\n",
      " 1.97098382e+00 7.07986302e-01 2.15073624e+00 3.29730342e+00\n",
      " 8.82564899e-01 2.37379476e-01 4.42441818e+00 1.09274976e+00\n",
      " 3.94828849e+00 4.36163952e+00 3.06552710e+00 2.58233975e+00\n",
      " 8.82941234e-01 2.05537155e+00 5.13242518e-01 2.41813437e+00\n",
      " 4.09694755e+00 1.47651357e+00 4.42526672e+00 1.00509005e+00\n",
      " 2.05391287e+00 1.64246768e+00 4.21729228e+00 8.82754403e-02\n",
      " 1.61047151e+00 6.21501294e-01 7.20937314e-01 6.11039585e-01\n",
      " 4.82614145e+00 4.22954229e-01 4.51665299e+00 4.27994366e+00\n",
      " 1.31959767e+00 4.60478884e+00 1.65540148e+00 4.12954345e+00\n",
      " 4.66223375e+00 2.33188222e+00 1.59308820e+00 1.59290853e+00\n",
      " 1.81418731e+00 1.52085081e+00 2.02152945e+00 3.30390667e+00\n",
      " 8.21030523e-01 2.52595215e+00 4.51103569e+00 1.99368585e+00\n",
      " 2.46043731e+00 2.29884582e+00 4.24555955e+00 1.81616805e-02\n",
      " 2.54314428e+00 3.40817058e+00 2.20718585e+00 3.75035511e+00\n",
      " 8.79771656e-01 1.40725761e+00 5.83008481e-01 1.47873432e+00\n",
      " 2.23418324e+00 2.93228970e+00 3.19568349e+00 1.51235278e+00\n",
      " 1.90519243e+00 4.53390138e-01 4.81388512e+00 4.38011636e+00\n",
      " 3.67551833e+00 6.69699721e-01 1.43908397e+00 3.82856887e+00\n",
      " 2.10398497e+00 1.29573435e+00 3.12840239e+00 3.71243478e-02\n",
      " 3.42465788e+00 1.82283357e-01 7.17567875e-01 7.00801586e-01\n",
      " 5.64384211e-01 4.30184978e+00 4.29445214e-01 1.77904209e+00\n",
      " 3.80294961e+00 1.77730106e+00 2.43047555e+00 3.66464006e+00\n",
      " 4.21588862e+00 4.10509420e+00 1.04472071e-01 3.82439893e+00\n",
      " 8.62044042e-01 2.29049977e-01 5.67835963e-01 1.37377550e+00\n",
      " 2.81036850e+00 2.20610486e-01 1.65856997e+00 9.41902024e-01\n",
      " 2.48828110e+00 3.53164568e+00 3.75023370e+00 4.53054972e+00\n",
      " 3.62715537e+00 1.88750180e+00 5.56451292e-01 7.47326145e-01\n",
      " 4.94731099e+00 5.90949104e-01 1.57275110e+00 1.53393050e+00\n",
      " 3.53808109e+00 9.57067530e-01 8.72580324e-01 2.89232278e+00\n",
      " 7.56923672e-01 1.22978999e+00 4.93761419e-01 3.49101469e+00\n",
      " 5.98058525e-01 1.34101502e+00 2.45069249e+00 1.33030114e+00\n",
      " 2.05914496e+00 1.96851928e+00 1.26970478e+00 4.81162572e+00\n",
      " 2.92181192e+00 3.69991954e+00 3.64883572e+00 2.64627840e+00\n",
      " 2.44209429e+00 1.53807945e+00 1.62500074e+00 2.96276095e+00\n",
      " 2.58576718e+00 2.76119592e+00 1.88032094e+00 2.85507144e+00\n",
      " 8.15786435e-02 2.02893852e-01 7.52401133e-01 1.17814660e-01\n",
      " 3.03524924e+00 3.05512508e+00 4.79278694e+00 3.08803307e+00\n",
      " 3.64797402e-01 8.45881234e-02 1.79791861e+00 4.72771921e+00\n",
      " 4.91079944e+00 3.45214472e+00]\n"
     ]
    }
   ],
   "source": [
    "# Create an array containing 250 random floats between 0 and 5:\n",
    "import numpy as np\n",
    "x = np.random.uniform(0.0, 5.0, 250)\n",
    "print(x)"
   ]
  },
  {
   "cell_type": "markdown",
   "id": "ad1908bb",
   "metadata": {},
   "source": [
    "### Histogram\n",
    "To visualize the data set we can draw a histogram with the data we collected.\n",
    "\n",
    "We will use the Python module Matplotlib to draw a histogram."
   ]
  },
  {
   "cell_type": "code",
   "execution_count": 3,
   "id": "9067a678",
   "metadata": {},
   "outputs": [
    {
     "data": {
      "image/png": "[encoded data removed]",
      "text/plain": [
       "<Figure size 432x288 with 1 Axes>"
      ]
     },
     "metadata": {
      "needs_background": "light"
     },
     "output_type": "display_data"
    }
   ],
   "source": [
    "# Draw a histogram:\n",
    "import matplotlib.pyplot as plt\n",
    "\n",
    "plt.hist(x, 5)\n",
    "plt.show()"
   ]
  },
  {
   "cell_type": "markdown",
   "id": "e441ea4b",
   "metadata": {},
   "source": [
    "### Histogram Explained\n",
    "We use the array from the example above to draw a histogram with 5 bars.\n",
    "\n",
    "The first bar represents how many values in the array are between 0 and 1.\n",
    "\n",
    "The second bar represents how many values are between 1 and 2.\n",
    "\n",
    "Etc.\n",
    "\n",
    "Which gives us this result:\n",
    "\n",
    "52 values are between 0 and 1<br>\n",
    "48 values are between 1 and 2<br>\n",
    "49 values are between 2 and 3<br>\n",
    "51 values are between 3 and 4<br>\n",
    "50 values are between 4 and 5<br>\n",
    "Note: The array values are random numbers and will not show the exact same result on your computer."
   ]
  },
  {
   "cell_type": "markdown",
   "id": "1ec90aba",
   "metadata": {},
   "source": [
    "### Big Data Distributions\n",
    "An array containing 250 values is not considered very big, but now you know how to create a random set of values, and by changing the parameters, you can create the data set as big as you want."
   ]
  },
  {
   "cell_type": "code",
   "execution_count": 4,
   "id": "e4c2fef4",
   "metadata": {},
   "outputs": [
    {
     "data": {
      "image/png": "[encoded data removed]",
      "text/plain": [
       "<Figure size 432x288 with 1 Axes>"
      ]
     },
     "metadata": {
      "needs_background": "light"
     },
     "output_type": "display_data"
    }
   ],
   "source": [
    "# Create an array with 100000 random numbers, and display them using a histogram with 100 bars:\n",
    "x = np.random.uniform(0.0, 5.0, 100000)\n",
    "plt.hist(x, 100)\n",
    "plt.show()"
   ]
  },
  {
   "cell_type": "markdown",
   "id": "02e9e3f0",
   "metadata": {},
   "source": [
    "### Normal Data Distribution\n",
    "In the previous chapter we learned how to create a completely random array, of a given size, and between two given values.\n",
    "\n",
    "In this chapter we will learn how to create an array where the values are concentrated around a given value.\n",
    "\n",
    "In probability theory this kind of data distribution is known as the normal data distribution, or the Gaussian data distribution, after the mathematician Carl Friedrich Gauss who came up with the formula of this data distribution."
   ]
  },
  {
   "cell_type": "code",
   "execution_count": 5,
   "id": "aa2ca940",
   "metadata": {},
   "outputs": [
    {
     "data": {
      "image/png": "[encoded data removed]",
      "text/plain": [
       "<Figure size 432x288 with 1 Axes>"
      ]
     },
     "metadata": {
      "needs_background": "light"
     },
     "output_type": "display_data"
    }
   ],
   "source": [
    "# A typical normal data distribution:\n",
    "x = np.random.normal(5.0, 1.0, 100000)\n",
    "plt.hist(x, 100)\n",
    "plt.show()"
   ]
  },
  {
   "cell_type": "markdown",
   "id": "a522abb4",
   "metadata": {},
   "source": [
    "Note: A normal distribution graph is also known as the bell curve because of it's characteristic shape of a bell.\n",
    "\n",
    "### Histogram Explained\n",
    "We use the array from the numpy.random.normal() method, with 100000 values,  to draw a histogram with 100 bars.\n",
    "\n",
    "We specify that the mean value is 5.0, and the standard deviation is 1.0.\n",
    "\n",
    "Meaning that the values should be concentrated around 5.0, and rarely further away than 1.0 from the mean.\n",
    "\n",
    "And as you can see from the histogram, most values are between 4.0 and 6.0, with a top at approximately 5.0."
   ]
  },
  {
   "cell_type": "code",
   "execution_count": null,
   "id": "b61f4b85",
   "metadata": {},
   "outputs": [],
   "source": []
  }
 ],
 "metadata": {
  "kernelspec": {
   "display_name": "Python 3 (ipykernel)",
   "language": "python",
   "name": "python3"
  },
  "language_info": {
   "codemirror_mode": {
    "name": "ipython",
    "version": 3
   },
   "file_extension": ".py",
   "mimetype": "text/x-python",
   "name": "python",
   "nbconvert_exporter": "python",
   "pygments_lexer": "ipython3",
   "version": "3.9.12"
  }
 },
 "nbformat": 4,
 "nbformat_minor": 5
}
