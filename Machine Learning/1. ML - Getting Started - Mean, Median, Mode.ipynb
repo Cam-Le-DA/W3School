{
 "cells": [
  {
   "cell_type": "markdown",
   "id": "4892a58b",
   "metadata": {},
   "source": [
    "### Machine Learning\n",
    "Machine Learning is making the computer learn from studying data and statistics.\n",
    "\n",
    "Machine Learning is a step into the direction of artificial intelligence (AI).\n",
    "\n",
    "Machine Learning is a program that analyses data and learns to predict the outcome.\n"
   ]
  },
  {
   "cell_type": "markdown",
   "id": "64b7bc6a",
   "metadata": {},
   "source": [
    "### Data Set\n",
    "In the mind of a computer, a data set is any collection of data. It can be anything from an array to a complete database.\n",
    "\n",
    "Example of an array:\n",
    "[99,86,87,88,111,86,103,87,94,78,77,85,86]\n",
    "\n",
    "Example of a database: a table"
   ]
  },
  {
   "cell_type": "markdown",
   "id": "61ca8116",
   "metadata": {},
   "source": [
    "### Mean, Median, and Mode\n",
    "What can we learn from looking at a group of numbers?\n",
    "\n",
    "In Machine Learning (and in mathematics) there are often three values that interests us:\n",
    "\n",
    "**Mean** - The average value <br>\n",
    "**Median** - The mid point value <br>\n",
    "**Mode** - The most common value"
   ]
  },
  {
   "cell_type": "code",
   "execution_count": 1,
   "id": "fccd3535",
   "metadata": {},
   "outputs": [],
   "source": [
    "import numpy as np"
   ]
  },
  {
   "cell_type": "markdown",
   "id": "f2b9ecda",
   "metadata": {},
   "source": [
    "### Mean\n",
    "The mean value is the average value.\n",
    "\n",
    "To calculate the mean, find the sum of all values, and divide the sum by the number of values"
   ]
  },
  {
   "cell_type": "code",
   "execution_count": 2,
   "id": "ffb99529",
   "metadata": {},
   "outputs": [
    {
     "name": "stdout",
     "output_type": "stream",
     "text": [
      "89.76923076923077\n"
     ]
    }
   ],
   "source": [
    "# Use the NumPy mean() method to find the average speed:\n",
    "speed = [99,86,87,88,111,86,103,87,94,78,77,85,86]\n",
    "x = np.mean(speed)\n",
    "print(x)"
   ]
  },
  {
   "cell_type": "markdown",
   "id": "81d99d20",
   "metadata": {},
   "source": [
    "### Median\n",
    "The median value is the value in the middle, after you have sorted all the values<br>\n",
    "It is important that the numbers are sorted before you can find the median."
   ]
  },
  {
   "cell_type": "code",
   "execution_count": 4,
   "id": "b8eb8257",
   "metadata": {},
   "outputs": [
    {
     "name": "stdout",
     "output_type": "stream",
     "text": [
      "87.0\n"
     ]
    }
   ],
   "source": [
    "# Use the NumPy median() method to find the middle value:\n",
    "x = np.median(speed)\n",
    "print(x)"
   ]
  },
  {
   "cell_type": "code",
   "execution_count": 5,
   "id": "1bc0c20e",
   "metadata": {},
   "outputs": [
    {
     "name": "stdout",
     "output_type": "stream",
     "text": [
      "86.5\n"
     ]
    }
   ],
   "source": [
    "# If there are two numbers in the middle, divide the sum of those numbers by two.\n",
    "speed = [99,86,87,88,86,103,87,94,78,77,85,86]\n",
    "print(np.median(speed))"
   ]
  },
  {
   "cell_type": "markdown",
   "id": "67e43b9d",
   "metadata": {},
   "source": [
    "### Mode\n",
    "The Mode value is the value that appears the most number of times <br>\n",
    "The SciPy module has a method for this."
   ]
  },
  {
   "cell_type": "code",
   "execution_count": 6,
   "id": "85a378c7",
   "metadata": {},
   "outputs": [],
   "source": [
    "from scipy import stats"
   ]
  },
  {
   "cell_type": "code",
   "execution_count": 8,
   "id": "fd6d2f47",
   "metadata": {},
   "outputs": [
    {
     "name": "stdout",
     "output_type": "stream",
     "text": [
      "ModeResult(mode=array([86]), count=array([3]))\n"
     ]
    }
   ],
   "source": [
    "x = stats.mode(speed)\n",
    "print(x)"
   ]
  },
  {
   "cell_type": "markdown",
   "id": "2ae3d464",
   "metadata": {},
   "source": [
    "### Chapter Summary\n",
    "The Mean, Median, and Mode are techniques that are often used in Machine Learning, so it is important to understand the concept behind them."
   ]
  },
  {
   "cell_type": "code",
   "execution_count": null,
   "id": "d01d0985",
   "metadata": {},
   "outputs": [],
   "source": []
  }
 ],
 "metadata": {
  "kernelspec": {
   "display_name": "Python 3 (ipykernel)",
   "language": "python",
   "name": "python3"
  },
  "language_info": {
   "codemirror_mode": {
    "name": "ipython",
    "version": 3
   },
   "file_extension": ".py",
   "mimetype": "text/x-python",
   "name": "python",
   "nbconvert_exporter": "python",
   "pygments_lexer": "ipython3",
   "version": "3.9.12"
  }
 },
 "nbformat": 4,
 "nbformat_minor": 5
}
